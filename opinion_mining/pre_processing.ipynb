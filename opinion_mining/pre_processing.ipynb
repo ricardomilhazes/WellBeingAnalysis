{
 "cells": [
  {
   "cell_type": "markdown",
   "metadata": {},
   "source": [
    "## Data Preparation\n",
    "#### First we analyze the data:\n",
    "1. Search for missing values\n",
    "2. Check dataset balance\n",
    "#### Then we use NLP techniques such as:\n",
    "1. Stemming\n",
    "2. Tokenization\n",
    "3. Stop-word removal"
   ]
  },
  {
   "cell_type": "code",
   "execution_count": null,
   "metadata": {},
   "outputs": [],
   "source": [
    "# Imports\n",
    "import pandas as pd\n",
    "import seaborn as sns\n",
    "\n",
    "from phrase_breaker import phrase_breaker"
   ]
  },
  {
   "cell_type": "markdown",
   "metadata": {},
   "source": [
    "## Data Analysis"
   ]
  },
  {
   "cell_type": "code",
   "execution_count": null,
   "metadata": {},
   "outputs": [],
   "source": [
    "# Import the data onto dataframe\n",
    "data = pd.read_csv(\"../reviews.csv\", names=[\"Review Text\", \"Stars\", \"Polarity\"])\n",
    "data"
   ]
  },
  {
   "cell_type": "code",
   "execution_count": null,
   "metadata": {},
   "outputs": [],
   "source": [
    "# Look for null values\n",
    "data.isnull().values.any()"
   ]
  },
  {
   "cell_type": "code",
   "execution_count": null,
   "metadata": {},
   "outputs": [],
   "source": [
    "# Check dataset balance\n",
    "sns.countplot(x=\"Polarity\", data=data)"
   ]
  },
  {
   "cell_type": "code",
   "execution_count": null,
   "metadata": {},
   "outputs": [],
   "source": [
    "# Creating dataframe with original vocabulary (existent words)\n",
    "# Mainly for performance evaluation purposes\n",
    "\n",
    "original = set()\n",
    "data[\"Review Text\"].str.split().apply(original.update)\n",
    "\n",
    "original_data = {\n",
    "    'Number of Words': [len(list(original))],\n",
    "    'Type': [\"original\"],\n",
    "}\n",
    "\n",
    "pf_df = pd.DataFrame(original_data)\n",
    "pf_df"
   ]
  },
  {
   "cell_type": "code",
   "execution_count": null,
   "metadata": {},
   "outputs": [],
   "source": [
    "# Word Separation\r\n",
    "# Compare the number of words after using a phrase breaker\r\n",
    "benchmark_df = data.copy()\r\n",
    "\r\n",
    "word_sep = set()\r\n",
    "benchmark_df[\"Review Text\"].apply(phrase_breaker).str.split().apply(word_sep.update)\r\n",
    "\r\n",
    "word_sep_data = {\r\n",
    "    'Number of Words': len(list(word_sep)),\r\n",
    "    'Type': \"word_separation\",\r\n",
    "}\r\n",
    "\r\n",
    "pf_df = pf_df.append(word_sep_data, ignore_index=True)\r\n",
    "\r\n",
    "sns.barplot(x=\"Type\", y=\"Number of Words\", data=pf_df)"
   ]
  },
  {
   "cell_type": "markdown",
   "metadata": {},
   "source": [
    "## Data Preparation"
   ]
  },
  {
   "cell_type": "code",
   "execution_count": null,
   "metadata": {},
   "outputs": [],
   "source": [
    "# Applying phrase breaker to reviews\r\n",
    "data[\"Review Text\"] = data[\"Review Text\"].apply(phrase_breaker)\r\n",
    "data[\"Review Text\"].head()"
   ]
  },
  {
   "cell_type": "code",
   "execution_count": null,
   "metadata": {},
   "outputs": [],
   "source": []
  }
 ],
 "metadata": {
  "interpreter": {
   "hash": "accb16bbbc2f87c44e90b8b7b92f41e65ea64e382e3ce32f758a958ee8ee5ae2"
  },
  "kernelspec": {
   "display_name": "Python 3.9.5 64-bit",
   "name": "python3"
  },
  "language_info": {
   "codemirror_mode": {
    "name": "ipython",
    "version": 3
   },
   "file_extension": ".py",
   "mimetype": "text/x-python",
   "name": "python",
   "nbconvert_exporter": "python",
   "pygments_lexer": "ipython3",
   "version": "3.9.5"
  },
  "metadata": {
   "interpreter": {
    "hash": "2f225c214e61cba03683fbc55c8c48645202e001eb1798a869794811d95e1b14"
   }
  },
  "orig_nbformat": 2
 },
 "nbformat": 4,
 "nbformat_minor": 2
}