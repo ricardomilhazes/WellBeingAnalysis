{
 "cells": [
  {
   "cell_type": "markdown",
   "metadata": {},
   "source": [
    "## Data Preparation\n",
    "#### First we analyze the data:\n",
    "1. Search for missing values\n",
    "2. Check dataset balance\n",
    "#### Then we use NLP techniques such as:\n",
    "1. Stemming\n",
    "2. Tokenization\n",
    "3. Stop-word removal"
   ]
  },
  {
   "cell_type": "code",
   "execution_count": null,
   "metadata": {},
   "outputs": [],
   "source": [
    "# Imports\n",
    "import pandas as pd\n",
    "import seaborn as sns\n",
    "import re\n",
    "import string\n",
    "\n",
    "from matplotlib import pyplot\n",
    "from phrase_breaker import phrase_breaker\n",
    "from collections import Counter"
   ]
  },
  {
   "cell_type": "markdown",
   "metadata": {},
   "source": [
    "## Data Analysis"
   ]
  },
  {
   "cell_type": "code",
   "execution_count": null,
   "metadata": {},
   "outputs": [],
   "source": [
    "# Import the data onto dataframe\n",
    "data = pd.read_csv(\"../reviews.csv\", names=[\"Review Text\", \"Stars\", \"Polarity\"])\n",
    "data"
   ]
  },
  {
   "cell_type": "code",
   "execution_count": null,
   "metadata": {},
   "outputs": [],
   "source": [
    "# Look for null values\n",
    "data.isnull().values.any()"
   ]
  },
  {
   "cell_type": "code",
   "execution_count": null,
   "metadata": {},
   "outputs": [],
   "source": [
    "# Check dataset balance\n",
    "sns.countplot(x=\"Polarity\", data=data)"
   ]
  },
  {
   "cell_type": "code",
   "execution_count": null,
   "metadata": {},
   "outputs": [],
   "source": [
    "# K most frequent words\n",
    "counter = Counter(\" \".join(data[\"Review Text\"]).split())\n",
    "most_occur = counter.most_common(25)\n",
    "words, freq = zip(*most_occur)\n",
    "\n",
    "freq_words = pd.DataFrame({'Frequency': freq, 'Word': words})\n",
    "\n",
    "fig, ax = pyplot.subplots(figsize=(15.0, 5.0))\n",
    "sns.lineplot(data=freq_words, x=\"Word\", y=\"Frequency\", ax=ax)"
   ]
  },
  {
   "cell_type": "code",
   "execution_count": null,
   "metadata": {},
   "outputs": [],
   "source": [
    "# Creating dataframe with original vocabulary (existent words)\n",
    "# Mainly for performance evaluation purposes\n",
    "\n",
    "original = set()\n",
    "data[\"Review Text\"].str.split().apply(original.update)\n",
    "\n",
    "original_data = {\n",
    "    'Number of Words': [len(list(original))],\n",
    "    'Type': [\"original\"],\n",
    "}\n",
    "\n",
    "pf_df = pd.DataFrame(original_data)\n",
    "pf_df"
   ]
  },
  {
   "cell_type": "markdown",
   "metadata": {},
   "source": [
    "## Data Preparation"
   ]
  },
  {
   "cell_type": "code",
   "execution_count": null,
   "metadata": {},
   "outputs": [],
   "source": [
    "# Applying phrase breaker to reviews\n",
    "data[\"Review Text\"] = data[\"Review Text\"].apply(phrase_breaker)\n",
    "data[\"Review Text\"].head()"
   ]
  },
  {
   "cell_type": "code",
   "execution_count": null,
   "metadata": {},
   "outputs": [],
   "source": [
    "# Evaluate the decrease in complexity levels after separating every word in every review\n",
    "word_sep = set()\n",
    "data[\"Review Text\"].str.split().apply(word_sep.update)\n",
    "\n",
    "word_sep_data = {\n",
    "    'Number of Words': len(list(word_sep)),\n",
    "    'Type': \"word_separation\",\n",
    "}\n",
    "\n",
    "pf_df = pf_df.append(word_sep_data, ignore_index=True)\n",
    "\n",
    "sns.barplot(x=\"Type\", y=\"Number of Words\", data=pf_df)"
   ]
  },
  {
   "cell_type": "code",
   "execution_count": null,
   "metadata": {},
   "outputs": [],
   "source": [
    "# All review text is transformed into lower case\n",
    "data[\"Review Text\"] = data[\"Review Text\"].str.lower()\n",
    "data[\"Review Text\"].head()"
   ]
  },
  {
   "cell_type": "code",
   "execution_count": null,
   "metadata": {},
   "outputs": [],
   "source": [
    "# Evaluate the decrease in complexity levels after lower casing every review\n",
    "lower_case = set()\n",
    "data[\"Review Text\"].str.split().apply(lower_case.update)\n",
    "\n",
    "lower_case_data = {\n",
    "    'Number of Words': len(list(lower_case)),\n",
    "    'Type': \"lower_case\",\n",
    "}\n",
    "\n",
    "pf_df = pf_df.append(lower_case_data, ignore_index=True)\n",
    "\n",
    "sns.barplot(x=\"Type\", y=\"Number of Words\", data=pf_df)"
   ]
  },
  {
   "cell_type": "code",
   "execution_count": 13,
   "metadata": {},
   "outputs": [
    {
     "output_type": "execute_result",
     "data": {
      "text/plain": [
       "'this is an extremely basic course machine learning is built on mathematics yet this course treats mathematics as a mysterious monster to be avoided at all costs which unfortunately left this student feeling frustrated and patronized so much time is wasted in the videos with arduous explanations of trivialities and so little taken up with the imparting of meaningful knowledge that in the end i abandoned the videos altogether the quizes were basic largely based on recall of rather than application of knowledge as were the programming assignments nearly all of which were spoon fed with the tasks sometimes being simple as multiplying two matrices togetherif you are serious about machine learning and comfortable with mathematics e g elementary linear algebra and probability do yourself a favour and take geoff hinton s neural networks course instead which is far more interesting and doesn t shy away from serious explanations of the mathematics of the underlying models'"
      ]
     },
     "metadata": {},
     "execution_count": 13
    }
   ],
   "source": [
    "# Remove punctuations, digits, words containing digits and extra spaces\n",
    "data[\"Review Text\"] = data[\"Review Text\"].apply(lambda x: re.sub('\\w*\\d\\w*','', x))\n",
    "data[\"Review Text\"] = data[\"Review Text\"].apply(lambda x: re.sub('[%s]' % re.escape(string.punctuation), '', x))\n",
    "data[\"Review Text\"] = data[\"Review Text\"].apply(lambda x: re.sub(' +',' ',x))\n",
    "data[\"Review Text\"][0]"
   ]
  }
 ],
 "metadata": {
  "interpreter": {
   "hash": "2f225c214e61cba03683fbc55c8c48645202e001eb1798a869794811d95e1b14"
  },
  "kernelspec": {
   "name": "python3",
   "display_name": "Python 3.9.4 64-bit"
  },
  "language_info": {
   "codemirror_mode": {
    "name": "ipython",
    "version": 3
   },
   "file_extension": ".py",
   "mimetype": "text/x-python",
   "name": "python",
   "nbconvert_exporter": "python",
   "pygments_lexer": "ipython3",
   "version": "3.9.4"
  },
  "metadata": {
   "interpreter": {
    "hash": "2f225c214e61cba03683fbc55c8c48645202e001eb1798a869794811d95e1b14"
   }
  },
  "orig_nbformat": 2
 },
 "nbformat": 4,
 "nbformat_minor": 2
}