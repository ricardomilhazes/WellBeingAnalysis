{
 "cells": [
  {
   "cell_type": "markdown",
   "metadata": {},
   "source": [
    "## Data Preparation\n",
    "#### First we analyze the data:\n",
    "1. Search for missing values\n",
    "2. Check dataset balance\n",
    "#### Then we use NLP techniques such as:\n",
    "1. Stemming\n",
    "2. Tokenization\n",
    "3. Stop-word removal"
   ]
  },
  {
   "cell_type": "code",
   "execution_count": 1,
   "metadata": {},
   "outputs": [],
   "source": [
    "# Imports\n",
    "import pandas as pd\n",
    "import seaborn as sns\n",
    "import re\n",
    "\n",
    "from nltk import pos_tag\n",
    "from nltk.tokenize import word_tokenize\n",
    "from nltk.stem import WordNetLemmatizer\n",
    "\n",
    "from matplotlib import pyplot\n",
    "from utils.phrase_breaker import phrase_breaker\n",
    "from collections import Counter"
   ]
  },
  {
   "cell_type": "markdown",
   "metadata": {},
   "source": [
    "## Data Analysis"
   ]
  },
  {
   "cell_type": "code",
   "execution_count": 2,
   "metadata": {},
   "outputs": [
    {
     "data": {
      "text/html": [
       "<div>\n",
       "<style scoped>\n",
       "    .dataframe tbody tr th:only-of-type {\n",
       "        vertical-align: middle;\n",
       "    }\n",
       "\n",
       "    .dataframe tbody tr th {\n",
       "        vertical-align: top;\n",
       "    }\n",
       "\n",
       "    .dataframe thead th {\n",
       "        text-align: right;\n",
       "    }\n",
       "</style>\n",
       "<table border=\"1\" class=\"dataframe\">\n",
       "  <thead>\n",
       "    <tr style=\"text-align: right;\">\n",
       "      <th></th>\n",
       "      <th>Review Text</th>\n",
       "      <th>Stars</th>\n",
       "      <th>Polarity</th>\n",
       "    </tr>\n",
       "  </thead>\n",
       "  <tbody>\n",
       "    <tr>\n",
       "      <th>0</th>\n",
       "      <td>It was really good course, I recommend for hav...</td>\n",
       "      <td>5</td>\n",
       "      <td>positive</td>\n",
       "    </tr>\n",
       "    <tr>\n",
       "      <th>1</th>\n",
       "      <td>It was really good course, I recommend for hav...</td>\n",
       "      <td>5</td>\n",
       "      <td>positive</td>\n",
       "    </tr>\n",
       "    <tr>\n",
       "      <th>2</th>\n",
       "      <td>The instructions for the final project -- the ...</td>\n",
       "      <td>1</td>\n",
       "      <td>negative</td>\n",
       "    </tr>\n",
       "    <tr>\n",
       "      <th>3</th>\n",
       "      <td>Would have  liked to do the assignments if the...</td>\n",
       "      <td>1</td>\n",
       "      <td>negative</td>\n",
       "    </tr>\n",
       "    <tr>\n",
       "      <th>4</th>\n",
       "      <td>Coursera issue, not the course itself. Courser...</td>\n",
       "      <td>1</td>\n",
       "      <td>negative</td>\n",
       "    </tr>\n",
       "    <tr>\n",
       "      <th>...</th>\n",
       "      <td>...</td>\n",
       "      <td>...</td>\n",
       "      <td>...</td>\n",
       "    </tr>\n",
       "    <tr>\n",
       "      <th>277282</th>\n",
       "      <td>Great Course</td>\n",
       "      <td>5</td>\n",
       "      <td>positive</td>\n",
       "    </tr>\n",
       "    <tr>\n",
       "      <th>277283</th>\n",
       "      <td>Good course</td>\n",
       "      <td>5</td>\n",
       "      <td>positive</td>\n",
       "    </tr>\n",
       "    <tr>\n",
       "      <th>277284</th>\n",
       "      <td>Good course</td>\n",
       "      <td>5</td>\n",
       "      <td>positive</td>\n",
       "    </tr>\n",
       "    <tr>\n",
       "      <th>277285</th>\n",
       "      <td>Great!!!</td>\n",
       "      <td>5</td>\n",
       "      <td>positive</td>\n",
       "    </tr>\n",
       "    <tr>\n",
       "      <th>277286</th>\n",
       "      <td>Great</td>\n",
       "      <td>5</td>\n",
       "      <td>positive</td>\n",
       "    </tr>\n",
       "  </tbody>\n",
       "</table>\n",
       "<p>277287 rows × 3 columns</p>\n",
       "</div>"
      ],
      "text/plain": [
       "                                              Review Text  Stars  Polarity\n",
       "0       It was really good course, I recommend for hav...      5  positive\n",
       "1       It was really good course, I recommend for hav...      5  positive\n",
       "2       The instructions for the final project -- the ...      1  negative\n",
       "3       Would have  liked to do the assignments if the...      1  negative\n",
       "4       Coursera issue, not the course itself. Courser...      1  negative\n",
       "...                                                   ...    ...       ...\n",
       "277282                                      Great Course       5  positive\n",
       "277283                                       Good course       5  positive\n",
       "277284                                        Good course      5  positive\n",
       "277285                                           Great!!!      5  positive\n",
       "277286                                              Great      5  positive\n",
       "\n",
       "[277287 rows x 3 columns]"
      ]
     },
     "execution_count": 2,
     "metadata": {},
     "output_type": "execute_result"
    }
   ],
   "source": [
    "# Import the data onto dataframe\n",
    "data = pd.read_csv(\"data/reviews_large.csv\", names=[\"Review Text\", \"Stars\", \"Polarity\"])\n",
    "# data = pd.read_csv(\"data/reviews.csv\", names=[\"Review Text\", \"Stars\", \"Polarity\"])\n",
    "data"
   ]
  },
  {
   "cell_type": "code",
   "execution_count": 3,
   "metadata": {},
   "outputs": [
    {
     "data": {
      "text/plain": [
       "False"
      ]
     },
     "execution_count": 3,
     "metadata": {},
     "output_type": "execute_result"
    }
   ],
   "source": [
    "# Look for null values\n",
    "data.isnull().values.any()"
   ]
  },
  {
   "cell_type": "code",
   "execution_count": 4,
   "metadata": {},
   "outputs": [
    {
     "data": {
      "text/plain": [
       "<AxesSubplot:xlabel='Stars', ylabel='count'>"
      ]
     },
     "execution_count": 4,
     "metadata": {},
     "output_type": "execute_result"
    },
    {
     "data": {
      "image/png": "[encoded data removed]",
      "text/plain": [
       "<Figure size 432x288 with 1 Axes>"
      ]
     },
     "metadata": {
      "needs_background": "light"
     },
     "output_type": "display_data"
    }
   ],
   "source": [
    "# Check dataset balance\n",
    "sns.countplot(x=\"Stars\", data=data)"
   ]
  },
  {
   "cell_type": "code",
   "execution_count": 5,
   "metadata": {},
   "outputs": [
    {
     "data": {
      "text/plain": [
       "<AxesSubplot:xlabel='Word', ylabel='Frequency'>"
      ]
     },
     "execution_count": 5,
     "metadata": {},
     "output_type": "execute_result"
    },
    {
     "data": {
      "image/png": "[encoded data removed]",
      "text/plain": [
       "<Figure size 1080x360 with 1 Axes>"
      ]
     },
     "metadata": {
      "needs_background": "light"
     },
     "output_type": "display_data"
    }
   ],
   "source": [
    "# K most frequent words\n",
    "counter = Counter(\" \".join(data[\"Review Text\"]).split())\n",
    "most_occur = counter.most_common(25)\n",
    "words, freq = zip(*most_occur)\n",
    "\n",
    "freq_words = pd.DataFrame({'Frequency': freq, 'Word': words})\n",
    "\n",
    "fig, ax = pyplot.subplots(figsize=(15.0, 5.0))\n",
    "sns.lineplot(data=freq_words, x=\"Word\", y=\"Frequency\", ax=ax)"
   ]
  },
  {
   "cell_type": "code",
   "execution_count": 6,
   "metadata": {},
   "outputs": [
    {
     "data": {
      "text/html": [
       "<div>\n",
       "<style scoped>\n",
       "    .dataframe tbody tr th:only-of-type {\n",
       "        vertical-align: middle;\n",
       "    }\n",
       "\n",
       "    .dataframe tbody tr th {\n",
       "        vertical-align: top;\n",
       "    }\n",
       "\n",
       "    .dataframe thead th {\n",
       "        text-align: right;\n",
       "    }\n",
       "</style>\n",
       "<table border=\"1\" class=\"dataframe\">\n",
       "  <thead>\n",
       "    <tr style=\"text-align: right;\">\n",
       "      <th></th>\n",
       "      <th>Number of Words</th>\n",
       "      <th>Type</th>\n",
       "    </tr>\n",
       "  </thead>\n",
       "  <tbody>\n",
       "    <tr>\n",
       "      <th>0</th>\n",
       "      <td>190493</td>\n",
       "      <td>original</td>\n",
       "    </tr>\n",
       "  </tbody>\n",
       "</table>\n",
       "</div>"
      ],
      "text/plain": [
       "   Number of Words      Type\n",
       "0           190493  original"
      ]
     },
     "execution_count": 6,
     "metadata": {},
     "output_type": "execute_result"
    }
   ],
   "source": [
    "# Creating dataframe with original vocabulary (existent words)\n",
    "# Mainly for performance evaluation purposes\n",
    "\n",
    "original_set = set()\n",
    "data[\"Review Text\"].str.split().apply(original_set.update)\n",
    "\n",
    "original_data = {\n",
    "    'Number of Words': [len(list(original_set))],\n",
    "    'Type': [\"original\"],\n",
    "}\n",
    "\n",
    "pf_df = pd.DataFrame(original_data)\n",
    "pf_df"
   ]
  },
  {
   "cell_type": "markdown",
   "metadata": {},
   "source": [
    "## Data Preparation"
   ]
  },
  {
   "cell_type": "code",
   "execution_count": 7,
   "metadata": {},
   "outputs": [
    {
     "data": {
      "text/plain": [
       "0    It was really good course, I recommend for hav...\n",
       "1    It was really good course, I recommend for hav...\n",
       "2    The instructions for the final project -- the ...\n",
       "3    Would have liked to do the assignments if they...\n",
       "4    Coursera issue, not the course itself. Courser...\n",
       "Name: Review Text, dtype: object"
      ]
     },
     "execution_count": 7,
     "metadata": {},
     "output_type": "execute_result"
    }
   ],
   "source": [
    "# Applying phrase breaker to reviews\n",
    "data[\"Review Text\"] = data[\"Review Text\"].apply(phrase_breaker)\n",
    "data[\"Review Text\"].head()"
   ]
  },
  {
   "cell_type": "code",
   "execution_count": 8,
   "metadata": {},
   "outputs": [
    {
     "data": {
      "text/plain": [
       "<AxesSubplot:xlabel='Type', ylabel='Number of Words'>"
      ]
     },
     "execution_count": 8,
     "metadata": {},
     "output_type": "execute_result"
    },
    {
     "data": {
      "image/png": "[encoded data removed]",
      "text/plain": [
       "<Figure size 432x288 with 1 Axes>"
      ]
     },
     "metadata": {
      "needs_background": "light"
     },
     "output_type": "display_data"
    }
   ],
   "source": [
    "# Evaluate the decrease in complexity levels after separating every word in every review\n",
    "word_sep_set = set()\n",
    "data[\"Review Text\"].str.split().apply(word_sep_set.update)\n",
    "\n",
    "word_sep_data = {\n",
    "    'Number of Words': len(list(word_sep_set)),\n",
    "    'Type': \"word_separation\",\n",
    "}\n",
    "\n",
    "pf_df = pf_df.append(word_sep_data, ignore_index=True)\n",
    "\n",
    "sns.barplot(x=\"Type\", y=\"Number of Words\", data=pf_df)"
   ]
  },
  {
   "cell_type": "code",
   "execution_count": 10,
   "metadata": {},
   "outputs": [
    {
     "name": "stderr",
     "output_type": "stream",
     "text": [
      "<ipython-input-10-5c0f7ab28385>:2: FutureWarning: The default value of regex will change from True to False in a future version.\n",
      "  data[\"Review Text\"] = data[\"Review Text\"].str.replace(r'[^\\w\\s]', '')\n"
     ]
    },
    {
     "data": {
      "text/plain": [
       "0    It was really good course I recommend for havi...\n",
       "1    It was really good course I recommend for havi...\n",
       "2    The instructions for the final project  the pr...\n",
       "3    Would have liked to do the assignments if they...\n",
       "4    Coursera issue not the course itself Coursera ...\n",
       "Name: Review Text, dtype: object"
      ]
     },
     "execution_count": 10,
     "metadata": {},
     "output_type": "execute_result"
    }
   ],
   "source": [
    "# Remove punctuation\n",
    "data[\"Review Text\"] = data[\"Review Text\"].str.replace(r'[^\\w\\s]', '')\n",
    "data[\"Review Text\"].head()"
   ]
  },
  {
   "cell_type": "code",
   "execution_count": 11,
   "metadata": {},
   "outputs": [
    {
     "data": {
      "text/plain": [
       "0    [It, was, really, good, course, I, recommend, ...\n",
       "1    [It, was, really, good, course, I, recommend, ...\n",
       "2    [The, instructions, for, the, final, project, ...\n",
       "3    [Would, have, liked, to, do, the, assignments,...\n",
       "4    [Coursera, issue, not, the, course, itself, Co...\n",
       "Name: Review Text, dtype: object"
      ]
     },
     "execution_count": 11,
     "metadata": {},
     "output_type": "execute_result"
    }
   ],
   "source": [
    "# Tokenize all reviews for pre-processing purposes\n",
    "data[\"Review Text\"] = data[\"Review Text\"].apply(word_tokenize)\n",
    "data[\"Review Text\"].head()"
   ]
  },
  {
   "cell_type": "code",
   "execution_count": 12,
   "metadata": {},
   "outputs": [
    {
     "data": {
      "text/plain": [
       "0    [it, was, really, good, course, i, recommend, ...\n",
       "1    [it, was, really, good, course, i, recommend, ...\n",
       "2    [the, instructions, for, the, final, project, ...\n",
       "3    [would, have, liked, to, do, the, assignments,...\n",
       "4    [coursera, issue, not, the, course, itself, co...\n",
       "Name: Review Text, dtype: object"
      ]
     },
     "execution_count": 12,
     "metadata": {},
     "output_type": "execute_result"
    }
   ],
   "source": [
    "# All review text is transformed into lower case\n",
    "def lower_casing(words):\n",
    "    lower_case_words = []\n",
    "    for word in words:\n",
    "        lower_case_words.append(word.lower())\n",
    "    return lower_case_words\n",
    "\n",
    "data[\"Review Text\"] = data[\"Review Text\"].apply(lower_casing)\n",
    "data[\"Review Text\"].head()"
   ]
  },
  {
   "cell_type": "code",
   "execution_count": 13,
   "metadata": {},
   "outputs": [
    {
     "data": {
      "text/plain": [
       "<AxesSubplot:xlabel='Type', ylabel='Number of Words'>"
      ]
     },
     "execution_count": 13,
     "metadata": {},
     "output_type": "execute_result"
    },
    {
     "data": {
      "image/png": "[encoded data removed]",
      "text/plain": [
       "<Figure size 432x288 with 1 Axes>"
      ]
     },
     "metadata": {
      "needs_background": "light"
     },
     "output_type": "display_data"
    }
   ],
   "source": [
    "# Evaluate the decrease in complexity levels after lower casing every review\n",
    "lower_case = set()\n",
    "data[\"Review Text\"].apply(lower_case.update)\n",
    "\n",
    "lower_case_data = {\n",
    "    'Number of Words': len(list(lower_case)),\n",
    "    'Type': \"lower_case\",\n",
    "}\n",
    "\n",
    "pf_df = pf_df.append(lower_case_data, ignore_index=True)\n",
    "\n",
    "sns.barplot(x=\"Type\", y=\"Number of Words\", data=pf_df)"
   ]
  },
  {
   "cell_type": "markdown",
   "metadata": {},
   "source": [
    "### POS Tagging"
   ]
  },
  {
   "cell_type": "code",
   "execution_count": 14,
   "metadata": {},
   "outputs": [
    {
     "data": {
      "text/plain": [
       "0    [(it, PRP), (was, VBD), (really, RB), (good, J...\n",
       "1    [(it, PRP), (was, VBD), (really, RB), (good, J...\n",
       "2    [(the, DT), (instructions, NNS), (for, IN), (t...\n",
       "3    [(would, MD), (have, VB), (liked, VBN), (to, T...\n",
       "4    [(coursera, NN), (issue, NN), (not, RB), (the,...\n",
       "Name: Review Text, dtype: object"
      ]
     },
     "execution_count": 14,
     "metadata": {},
     "output_type": "execute_result"
    }
   ],
   "source": [
    "# POS Tagging\n",
    "pos_tagged_vocab = data[\"Review Text\"].apply(pos_tag)\n",
    "pos_tagged_vocab.head()"
   ]
  },
  {
   "cell_type": "code",
   "execution_count": 15,
   "metadata": {},
   "outputs": [
    {
     "data": {
      "text/plain": [
       "0    [was, really, good, course, i, recommend, havi...\n",
       "1    [was, really, good, course, i, recommend, havi...\n",
       "2    [instructions, final, project, project, is, bi...\n",
       "3    [have, liked, do, assignments, weren, locked, ...\n",
       "4    [coursera, issue, not, course, coursera, app, ...\n",
       "Name: Processed Review Text, dtype: object"
      ]
     },
     "execution_count": 15,
     "metadata": {},
     "output_type": "execute_result"
    }
   ],
   "source": [
    "def select_categories(pos_tagged_words):\n",
    "    pos_tags_filter = [\"JJ\", \"JJR\", \"JJS\", \"NN\", \"NNS\", \"RB\", \"RBR\", \"RBS\", \"VB\", \"VBD\", \"VBG\", \"VBN\", \"VBP\", \"VBZ\"]\n",
    "    selected_words = []\n",
    "    for word, pos_tag in pos_tagged_words:\n",
    "        if pos_tag in pos_tags_filter:\n",
    "            selected_words.append(word)\n",
    "    return selected_words\n",
    "\n",
    "data[\"Processed Review Text\"] = pos_tagged_vocab.apply(select_categories)\n",
    "data[\"Processed Review Text\"].head()"
   ]
  },
  {
   "cell_type": "code",
   "execution_count": 16,
   "metadata": {},
   "outputs": [
    {
     "data": {
      "text/plain": [
       "<AxesSubplot:xlabel='Type', ylabel='Number of Words'>"
      ]
     },
     "execution_count": 16,
     "metadata": {},
     "output_type": "execute_result"
    },
    {
     "data": {
      "image/png": "[encoded data removed]",
      "text/plain": [
       "<Figure size 432x288 with 1 Axes>"
      ]
     },
     "metadata": {
      "needs_background": "light"
     },
     "output_type": "display_data"
    }
   ],
   "source": [
    "# Evaluate the decrease in complexity levels after filtering data through POS Tagging\n",
    "pos_tagging_set = set()\n",
    "data[\"Processed Review Text\"].apply(pos_tagging_set.update)\n",
    "\n",
    "pos_tagging_data = {\n",
    "    'Number of Words': len(list(pos_tagging_set)),\n",
    "    'Type': \"pos_tagging\",\n",
    "}\n",
    "\n",
    "pf_df = pf_df.append(pos_tagging_data, ignore_index=True)\n",
    "\n",
    "sns.barplot(x=\"Type\", y=\"Number of Words\", data=pf_df)"
   ]
  },
  {
   "cell_type": "markdown",
   "metadata": {},
   "source": [
    "### Post-Processing with lemmatization to reduce complexity"
   ]
  },
  {
   "cell_type": "code",
   "execution_count": 17,
   "metadata": {},
   "outputs": [
    {
     "data": {
      "text/plain": [
       "0    [be, really, good, course, i, recommend, have,...\n",
       "1    [be, really, good, course, i, recommend, have,...\n",
       "2    [instructions, final, project, project, be, bi...\n",
       "3    [have, like, do, assignments, weren, lock, pay...\n",
       "4    [coursera, issue, not, course, coursera, app, ...\n",
       "Name: Processed Review Text, dtype: object"
      ]
     },
     "execution_count": 17,
     "metadata": {},
     "output_type": "execute_result"
    }
   ],
   "source": [
    "# Lemmatization\n",
    "wordnet_lemmatizer = WordNetLemmatizer()\n",
    "\n",
    "def lemmatization(sentence):\n",
    "    lemmatized_sentence = []\n",
    "\n",
    "    for word in sentence:\n",
    "        lemmatized_sentence.append(wordnet_lemmatizer.lemmatize(word, pos=\"v\"))\n",
    "    \n",
    "    return lemmatized_sentence\n",
    "\n",
    "data[\"Processed Review Text\"] = data[\"Processed Review Text\"].apply(lemmatization)\n",
    "data[\"Processed Review Text\"].head()"
   ]
  },
  {
   "cell_type": "code",
   "execution_count": 18,
   "metadata": {},
   "outputs": [
    {
     "data": {
      "text/plain": [
       "<AxesSubplot:xlabel='Type', ylabel='Number of Words'>"
      ]
     },
     "execution_count": 18,
     "metadata": {},
     "output_type": "execute_result"
    },
    {
     "data": {
      "image/png": "[encoded data removed]",
      "text/plain": [
       "<Figure size 432x288 with 1 Axes>"
      ]
     },
     "metadata": {
      "needs_background": "light"
     },
     "output_type": "display_data"
    }
   ],
   "source": [
    "# Evaluate the decrease in complexity levels after lemmatization\n",
    "lemmatization = set()\n",
    "data[\"Processed Review Text\"].apply(lemmatization.update)\n",
    "\n",
    "lemmatization_data = {\n",
    "    'Number of Words': len(list(lemmatization)),\n",
    "    'Type': \"lemmatization\",\n",
    "}\n",
    "\n",
    "pf_df = pf_df.append(lemmatization_data, ignore_index=True)\n",
    "\n",
    "sns.barplot(x=\"Type\", y=\"Number of Words\", data=pf_df)"
   ]
  },
  {
   "cell_type": "code",
   "execution_count": 19,
   "metadata": {},
   "outputs": [],
   "source": [
    "data[\"Review Text\"] = data[\"Review Text\"].apply(\" \".join)\n",
    "data[\"Processed Review Text\"] = data[\"Processed Review Text\"].apply(\" \".join)"
   ]
  },
  {
   "cell_type": "markdown",
   "metadata": {},
   "source": [
    "### Post-Processing data visualization and analysis"
   ]
  },
  {
   "cell_type": "code",
   "execution_count": 20,
   "metadata": {},
   "outputs": [
    {
     "data": {
      "text/plain": [
       "False"
      ]
     },
     "execution_count": 20,
     "metadata": {},
     "output_type": "execute_result"
    }
   ],
   "source": [
    "# Look for null values after cleaning\n",
    "data.isnull().values.any()"
   ]
  },
  {
   "cell_type": "code",
   "execution_count": 21,
   "metadata": {},
   "outputs": [
    {
     "data": {
      "text/plain": [
       "<AxesSubplot:xlabel='Word', ylabel='Frequency'>"
      ]
     },
     "execution_count": 21,
     "metadata": {},
     "output_type": "execute_result"
    },
    {
     "data": {
      "image/png": "[encoded data removed]",
      "text/plain": [
       "<Figure size 1080x360 with 1 Axes>"
      ]
     },
     "metadata": {
      "needs_background": "light"
     },
     "output_type": "display_data"
    }
   ],
   "source": [
    "# K most frequent words\n",
    "counter = Counter(\" \".join(data[\"Processed Review Text\"]).split())\n",
    "most_occur = counter.most_common(25)\n",
    "words, freq = zip(*most_occur)\n",
    "\n",
    "freq_words = pd.DataFrame({'Frequency': freq, 'Word': words})\n",
    "\n",
    "fig, ax = pyplot.subplots(figsize=(15.0, 5.0))\n",
    "sns.lineplot(data=freq_words, x=\"Word\", y=\"Frequency\", ax=ax)"
   ]
  },
  {
   "cell_type": "code",
   "execution_count": 22,
   "metadata": {},
   "outputs": [],
   "source": [
    "data[\"Processed Review Text\"] = data[\"Processed Review Text\"].apply(lambda x: re.sub(r\"\\b[a-zA-Z]\\b\", \"\", x))"
   ]
  },
  {
   "cell_type": "code",
   "execution_count": 23,
   "metadata": {},
   "outputs": [
    {
     "data": {
      "text/plain": [
       "<AxesSubplot:xlabel='Word', ylabel='Frequency'>"
      ]
     },
     "execution_count": 23,
     "metadata": {},
     "output_type": "execute_result"
    },
    {
     "data": {
      "image/png": "[encoded data removed]",
      "text/plain": [
       "<Figure size 1080x360 with 1 Axes>"
      ]
     },
     "metadata": {
      "needs_background": "light"
     },
     "output_type": "display_data"
    }
   ],
   "source": [
    "# K most frequent words\n",
    "counter = Counter(\" \".join(data[\"Processed Review Text\"]).split())\n",
    "most_occur = counter.most_common(25)\n",
    "words, freq = zip(*most_occur)\n",
    "\n",
    "freq_words = pd.DataFrame({'Frequency': freq, 'Word': words})\n",
    "\n",
    "fig, ax = pyplot.subplots(figsize=(15.0, 5.0))\n",
    "sns.lineplot(data=freq_words, x=\"Word\", y=\"Frequency\", ax=ax)"
   ]
  },
  {
   "cell_type": "markdown",
   "metadata": {},
   "source": [
    "### Save filtered data to csv"
   ]
  },
  {
   "cell_type": "code",
   "execution_count": 24,
   "metadata": {},
   "outputs": [],
   "source": [
    "# Share data between notebooks\n",
    "# data.to_csv('data/filtered_reviews.csv', index=False, header=False)\n",
    "data.to_csv('data/filtered_reviews_large.csv', index=False, header=False)"
   ]
  }
 ],
 "metadata": {
  "interpreter": {
   "hash": "2f225c214e61cba03683fbc55c8c48645202e001eb1798a869794811d95e1b14"
  },
  "kernelspec": {
   "display_name": "Python 3.9.4 64-bit",
   "name": "python3"
  },
  "language_info": {
   "codemirror_mode": {
    "name": "ipython",
    "version": 3
   },
   "file_extension": ".py",
   "mimetype": "text/x-python",
   "name": "python",
   "nbconvert_exporter": "python",
   "pygments_lexer": "ipython3",
   "version": "3.9.4"
  },
  "metadata": {
   "interpreter": {
    "hash": "2f225c214e61cba03683fbc55c8c48645202e001eb1798a869794811d95e1b14"
   }
  },
  "orig_nbformat": 2
 },
 "nbformat": 4,
 "nbformat_minor": 2
}
