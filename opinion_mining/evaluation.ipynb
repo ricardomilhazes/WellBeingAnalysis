{
 "cells": [
  {
   "cell_type": "code",
   "execution_count": 1,
   "metadata": {},
   "outputs": [],
   "source": [
    "# Imports\n",
    "import pandas as pd\n",
    "import ast\n",
    "import numpy as np\n",
    "import pickle\n",
    "\n",
    "from utils.utils import isSubArray\n",
    "\n",
    "from nltk import pos_tag\n",
    "from nltk.tokenize import word_tokenize\n",
    "\n",
    "from collections import Counter\n",
    "\n",
    "from imblearn.under_sampling import RandomUnderSampler\n",
    "\n",
    "from scipy import sparse\n",
    "\n",
    "from sklearn import feature_extraction, svm\n",
    "from sklearn.ensemble import RandomForestClassifier\n",
    "from sklearn.model_selection import train_test_split"
   ]
  },
  {
   "cell_type": "code",
   "execution_count": 2,
   "metadata": {},
   "outputs": [],
   "source": [
    "# Load Data\n",
    "data = pd.read_csv(\"data/filtered_reviews_large.csv\", names=[\"Review Text\", \"Stars\", \"Polarity\", \"Processed Review Text\"])\n",
    "# data = pd.read_csv(\"data/filtered_reviews.csv\", names=[\"Review Text\", \"Stars\", \"Polarity\"])"
   ]
  },
  {
   "cell_type": "markdown",
   "metadata": {},
   "source": [
    "### Undersampling to balance dataset"
   ]
  },
  {
   "cell_type": "code",
   "execution_count": 3,
   "metadata": {},
   "outputs": [
    {
     "data": {
      "text/html": [
       "<div>\n",
       "<style scoped>\n",
       "    .dataframe tbody tr th:only-of-type {\n",
       "        vertical-align: middle;\n",
       "    }\n",
       "\n",
       "    .dataframe tbody tr th {\n",
       "        vertical-align: top;\n",
       "    }\n",
       "\n",
       "    .dataframe thead th {\n",
       "        text-align: right;\n",
       "    }\n",
       "</style>\n",
       "<table border=\"1\" class=\"dataframe\">\n",
       "  <thead>\n",
       "    <tr style=\"text-align: right;\">\n",
       "      <th></th>\n",
       "      <th>Processed Review Text</th>\n",
       "      <th>Review Text</th>\n",
       "    </tr>\n",
       "  </thead>\n",
       "  <tbody>\n",
       "    <tr>\n",
       "      <th>0</th>\n",
       "      <td>be really good course  recommend have large pe...</td>\n",
       "      <td>it was really good course i recommend for havi...</td>\n",
       "    </tr>\n",
       "    <tr>\n",
       "      <th>1</th>\n",
       "      <td>be really good course  recommend have large pe...</td>\n",
       "      <td>it was really good course i recommend for havi...</td>\n",
       "    </tr>\n",
       "    <tr>\n",
       "      <th>2</th>\n",
       "      <td>instructions final project project be biggest ...</td>\n",
       "      <td>the instructions for the final project the pro...</td>\n",
       "    </tr>\n",
       "    <tr>\n",
       "      <th>3</th>\n",
       "      <td>have like do assignments weren lock payment re...</td>\n",
       "      <td>would have liked to do the assignments if they...</td>\n",
       "    </tr>\n",
       "    <tr>\n",
       "      <th>4</th>\n",
       "      <td>coursera issue not course coursera app apple t...</td>\n",
       "      <td>coursera issue not the course itself coursera ...</td>\n",
       "    </tr>\n",
       "  </tbody>\n",
       "</table>\n",
       "</div>"
      ],
      "text/plain": [
       "                               Processed Review Text  \\\n",
       "0  be really good course  recommend have large pe...   \n",
       "1  be really good course  recommend have large pe...   \n",
       "2  instructions final project project be biggest ...   \n",
       "3  have like do assignments weren lock payment re...   \n",
       "4  coursera issue not course coursera app apple t...   \n",
       "\n",
       "                                         Review Text  \n",
       "0  it was really good course i recommend for havi...  \n",
       "1  it was really good course i recommend for havi...  \n",
       "2  the instructions for the final project the pro...  \n",
       "3  would have liked to do the assignments if they...  \n",
       "4  coursera issue not the course itself coursera ...  "
      ]
     },
     "execution_count": 3,
     "metadata": {},
     "output_type": "execute_result"
    }
   ],
   "source": [
    "reviews_df = data[[\"Processed Review Text\", \"Review Text\"]]\n",
    "reviews_df.head()"
   ]
  },
  {
   "cell_type": "code",
   "execution_count": 4,
   "metadata": {},
   "outputs": [],
   "source": [
    "under = RandomUnderSampler(random_state=1)"
   ]
  },
  {
   "cell_type": "code",
   "execution_count": 5,
   "metadata": {},
   "outputs": [
    {
     "name": "stdout",
     "output_type": "stream",
     "text": [
      "Counter({1: 12240, 2: 12240, 3: 12240, 4: 12240, 5: 12240})\n"
     ]
    }
   ],
   "source": [
    "X, y_stars = (reviews_df, data[\"Stars\"].values.reshape(-1,1))\n",
    "X_res_stars, y_res_stars = under.fit_resample(X, y_stars)\n",
    "print(Counter(y_res_stars))"
   ]
  },
  {
   "cell_type": "code",
   "execution_count": 6,
   "metadata": {},
   "outputs": [],
   "source": [
    "stars_data = {\n",
    "    'Review Text': X_res_stars[\"Review Text\"].ravel(),\n",
    "    'Processed Review Text': X_res_stars[\"Processed Review Text\"].ravel(),\n",
    "    'Stars': y_res_stars.ravel()\n",
    "}\n",
    "\n",
    "res_stars = pd.DataFrame(stars_data)"
   ]
  },
  {
   "cell_type": "markdown",
   "metadata": {},
   "source": [
    "### Create Bow Dataframe"
   ]
  },
  {
   "cell_type": "code",
   "execution_count": 7,
   "metadata": {},
   "outputs": [],
   "source": [
    "# Creating a BOW vectorizer using Tf_idf - a more advanced version of the classic BOW algorithm\n",
    "vectorizer = pickle.load(open(\"models/tfidf.pickle\", \"rb\"))"
   ]
  },
  {
   "cell_type": "markdown",
   "metadata": {},
   "source": [
    "### Splitting dataset into train and test for pattern matching"
   ]
  },
  {
   "cell_type": "code",
   "execution_count": 8,
   "metadata": {},
   "outputs": [],
   "source": [
    "X_res_stars_train, X_res_stars_test, y_res_stars_train, y_res_stars_test = train_test_split(\n",
    "    X_res_stars, y_res_stars, test_size=0.2, random_state=1\n",
    ")"
   ]
  },
  {
   "cell_type": "code",
   "execution_count": 9,
   "metadata": {},
   "outputs": [],
   "source": [
    "res_stars_train = X_res_stars_train.copy()"
   ]
  },
  {
   "cell_type": "code",
   "execution_count": 10,
   "metadata": {},
   "outputs": [
    {
     "data": {
      "text/html": [
       "<div>\n",
       "<style scoped>\n",
       "    .dataframe tbody tr th:only-of-type {\n",
       "        vertical-align: middle;\n",
       "    }\n",
       "\n",
       "    .dataframe tbody tr th {\n",
       "        vertical-align: top;\n",
       "    }\n",
       "\n",
       "    .dataframe thead th {\n",
       "        text-align: right;\n",
       "    }\n",
       "</style>\n",
       "<table border=\"1\" class=\"dataframe\">\n",
       "  <thead>\n",
       "    <tr style=\"text-align: right;\">\n",
       "      <th></th>\n",
       "      <th>Processed Review Text</th>\n",
       "      <th>Review Text</th>\n",
       "      <th>Stars</th>\n",
       "    </tr>\n",
       "  </thead>\n",
       "  <tbody>\n",
       "    <tr>\n",
       "      <th>9145</th>\n",
       "      <td>buddhism conversion course</td>\n",
       "      <td>buddhism conversion course</td>\n",
       "      <td>1</td>\n",
       "    </tr>\n",
       "    <tr>\n",
       "      <th>35999</th>\n",
       "      <td>much respect richard shell talk captivate  rea...</td>\n",
       "      <td>much respect for richard shell he talks and ca...</td>\n",
       "      <td>3</td>\n",
       "    </tr>\n",
       "    <tr>\n",
       "      <th>13667</th>\n",
       "      <td>nothing practical just talk lot talk</td>\n",
       "      <td>nothing practical just talking and lots of tal...</td>\n",
       "      <td>2</td>\n",
       "    </tr>\n",
       "    <tr>\n",
       "      <th>13322</th>\n",
       "      <td>enjoy videos not assignments  want have fun l...</td>\n",
       "      <td>i enjoyed the videos but not the assignments i...</td>\n",
       "      <td>2</td>\n",
       "    </tr>\n",
       "    <tr>\n",
       "      <th>24514</th>\n",
       "      <td>course be well structure enough content provid...</td>\n",
       "      <td>the course is well structured with enough cont...</td>\n",
       "      <td>3</td>\n",
       "    </tr>\n",
       "  </tbody>\n",
       "</table>\n",
       "</div>"
      ],
      "text/plain": [
       "                                   Processed Review Text  \\\n",
       "9145                          buddhism conversion course   \n",
       "35999  much respect richard shell talk captivate  rea...   \n",
       "13667               nothing practical just talk lot talk   \n",
       "13322   enjoy videos not assignments  want have fun l...   \n",
       "24514  course be well structure enough content provid...   \n",
       "\n",
       "                                             Review Text  Stars  \n",
       "9145                          buddhism conversion course      1  \n",
       "35999  much respect for richard shell he talks and ca...      3  \n",
       "13667  nothing practical just talking and lots of tal...      2  \n",
       "13322  i enjoyed the videos but not the assignments i...      2  \n",
       "24514  the course is well structured with enough cont...      3  "
      ]
     },
     "execution_count": 10,
     "metadata": {},
     "output_type": "execute_result"
    }
   ],
   "source": [
    "res_stars_train[\"Stars\"] = y_res_stars_train\n",
    "res_stars_train.head()"
   ]
  },
  {
   "cell_type": "markdown",
   "metadata": {},
   "source": [
    "### Increasing accuracy using star pattern matching"
   ]
  },
  {
   "cell_type": "code",
   "execution_count": 11,
   "metadata": {},
   "outputs": [
    {
     "data": {
      "text/html": [
       "<div>\n",
       "<style scoped>\n",
       "    .dataframe tbody tr th:only-of-type {\n",
       "        vertical-align: middle;\n",
       "    }\n",
       "\n",
       "    .dataframe tbody tr th {\n",
       "        vertical-align: top;\n",
       "    }\n",
       "\n",
       "    .dataframe thead th {\n",
       "        text-align: right;\n",
       "    }\n",
       "</style>\n",
       "<table border=\"1\" class=\"dataframe\">\n",
       "  <thead>\n",
       "    <tr style=\"text-align: right;\">\n",
       "      <th></th>\n",
       "      <th>Processed Review Text</th>\n",
       "      <th>Review Text</th>\n",
       "      <th>Stars</th>\n",
       "    </tr>\n",
       "  </thead>\n",
       "  <tbody>\n",
       "    <tr>\n",
       "      <th>39906</th>\n",
       "      <td>lecture be amaze specially lecture dr robert p...</td>\n",
       "      <td>the lectures were amazing specially the lectur...</td>\n",
       "      <td>4</td>\n",
       "    </tr>\n",
       "    <tr>\n",
       "      <th>18302</th>\n",
       "      <td>much text text have use difficult english</td>\n",
       "      <td>to much text that text has used difficult english</td>\n",
       "      <td>2</td>\n",
       "    </tr>\n",
       "    <tr>\n",
       "      <th>31809</th>\n",
       "      <td>be definitely informative help medical diction...</td>\n",
       "      <td>it was definitely informative but it would hel...</td>\n",
       "      <td>3</td>\n",
       "    </tr>\n",
       "    <tr>\n",
       "      <th>16259</th>\n",
       "      <td>very difficult understand content lab be good...</td>\n",
       "      <td>it s very difficult to understand the content ...</td>\n",
       "      <td>2</td>\n",
       "    </tr>\n",
       "    <tr>\n",
       "      <th>46068</th>\n",
       "      <td>be good course term  tivity exercise majority ...</td>\n",
       "      <td>it is a good course in terms of the e tivity e...</td>\n",
       "      <td>4</td>\n",
       "    </tr>\n",
       "    <tr>\n",
       "      <th>30395</th>\n",
       "      <td>ll be very honest give opinion  give star cou...</td>\n",
       "      <td>i ll be very honest and give my opinion i gave...</td>\n",
       "      <td>3</td>\n",
       "    </tr>\n",
       "    <tr>\n",
       "      <th>47149</th>\n",
       "      <td>course be great only problem be way teach prof...</td>\n",
       "      <td>the course was great but only the problem was ...</td>\n",
       "      <td>4</td>\n",
       "    </tr>\n",
       "    <tr>\n",
       "      <th>37781</th>\n",
       "      <td>overall solid seem assignments end chapter be ...</td>\n",
       "      <td>overall solid but it seems like the assignment...</td>\n",
       "      <td>4</td>\n",
       "    </tr>\n",
       "    <tr>\n",
       "      <th>34094</th>\n",
       "      <td>thank course however  find have say be so much...</td>\n",
       "      <td>thank you for this course however i find mysel...</td>\n",
       "      <td>3</td>\n",
       "    </tr>\n",
       "    <tr>\n",
       "      <th>9177</th>\n",
       "      <td>course need lot work  good run down ui ux need...</td>\n",
       "      <td>this course needs a lot of work it s a good ru...</td>\n",
       "      <td>1</td>\n",
       "    </tr>\n",
       "  </tbody>\n",
       "</table>\n",
       "</div>"
      ],
      "text/plain": [
       "                                   Processed Review Text  \\\n",
       "39906  lecture be amaze specially lecture dr robert p...   \n",
       "18302          much text text have use difficult english   \n",
       "31809  be definitely informative help medical diction...   \n",
       "16259   very difficult understand content lab be good...   \n",
       "46068  be good course term  tivity exercise majority ...   \n",
       "30395   ll be very honest give opinion  give star cou...   \n",
       "47149  course be great only problem be way teach prof...   \n",
       "37781  overall solid seem assignments end chapter be ...   \n",
       "34094  thank course however  find have say be so much...   \n",
       "9177   course need lot work  good run down ui ux need...   \n",
       "\n",
       "                                             Review Text  Stars  \n",
       "39906  the lectures were amazing specially the lectur...      4  \n",
       "18302  to much text that text has used difficult english      2  \n",
       "31809  it was definitely informative but it would hel...      3  \n",
       "16259  it s very difficult to understand the content ...      2  \n",
       "46068  it is a good course in terms of the e tivity e...      4  \n",
       "30395  i ll be very honest and give my opinion i gave...      3  \n",
       "47149  the course was great but only the problem was ...      4  \n",
       "37781  overall solid but it seems like the assignment...      4  \n",
       "34094  thank you for this course however i find mysel...      3  \n",
       "9177   this course needs a lot of work it s a good ru...      1  "
      ]
     },
     "execution_count": 11,
     "metadata": {},
     "output_type": "execute_result"
    }
   ],
   "source": [
    "res_stars_test = X_res_stars_test.copy()\n",
    "res_stars_test[\"Stars\"] = y_res_stars_test\n",
    "res_stars_test = res_stars_test.sample(n=10)\n",
    "\n",
    "res_stars_test"
   ]
  },
  {
   "cell_type": "code",
   "execution_count": 12,
   "metadata": {},
   "outputs": [
    {
     "data": {
      "text/plain": [
       "9145                        [buddhism, conversion, course]\n",
       "35999    [much, respect, for, richard, shell, he, talks...\n",
       "13667    [nothing, practical, just, talking, and, lots,...\n",
       "13322    [i, enjoyed, the, videos, but, not, the, assig...\n",
       "24514    [the, course, is, well, structured, with, enou...\n",
       "Name: Review Text, dtype: object"
      ]
     },
     "execution_count": 12,
     "metadata": {},
     "output_type": "execute_result"
    }
   ],
   "source": [
    "# Tokenize all reviews for pre-processing purposes\n",
    "res_stars_train[\"Review Text\"] = res_stars_train[\"Review Text\"].apply(word_tokenize)\n",
    "res_stars_train[\"Review Text\"].head()"
   ]
  },
  {
   "cell_type": "code",
   "execution_count": 13,
   "metadata": {},
   "outputs": [
    {
     "data": {
      "text/plain": [
       "39906    [the, lectures, were, amazing, specially, the,...\n",
       "18302    [to, much, text, that, text, has, used, diffic...\n",
       "31809    [it, was, definitely, informative, but, it, wo...\n",
       "16259    [it, s, very, difficult, to, understand, the, ...\n",
       "46068    [it, is, a, good, course, in, terms, of, the, ...\n",
       "Name: Review Text, dtype: object"
      ]
     },
     "execution_count": 13,
     "metadata": {},
     "output_type": "execute_result"
    }
   ],
   "source": [
    "res_stars_test[\"Review Text\"] = res_stars_test[\"Review Text\"].apply(word_tokenize)\n",
    "res_stars_test[\"Review Text\"].head()"
   ]
  },
  {
   "cell_type": "code",
   "execution_count": 14,
   "metadata": {},
   "outputs": [
    {
     "data": {
      "text/plain": [
       "9145      [(buddhism, NN), (conversion, NN), (course, NN)]\n",
       "35999    [(much, JJ), (respect, NN), (for, IN), (richar...\n",
       "13667    [(nothing, NN), (practical, JJ), (just, RB), (...\n",
       "13322    [(i, NN), (enjoyed, VBD), (the, DT), (videos, ...\n",
       "24514    [(the, DT), (course, NN), (is, VBZ), (well, RB...\n",
       "Name: Tagged Text, dtype: object"
      ]
     },
     "execution_count": 14,
     "metadata": {},
     "output_type": "execute_result"
    }
   ],
   "source": [
    "# Tag words with their POS Tag\n",
    "res_stars_train[\"Tagged Text\"] = res_stars_train[\"Review Text\"].apply(pos_tag)\n",
    "res_stars_train[\"Tagged Text\"].head()"
   ]
  },
  {
   "cell_type": "code",
   "execution_count": 15,
   "metadata": {},
   "outputs": [
    {
     "data": {
      "text/plain": [
       "39906    [(the, DT), (lectures, NNS), (were, VBD), (ama...\n",
       "18302    [(to, TO), (much, JJ), (text, NN), (that, IN),...\n",
       "31809    [(it, PRP), (was, VBD), (definitely, RB), (inf...\n",
       "16259    [(it, PRP), (s, VBZ), (very, RB), (difficult, ...\n",
       "46068    [(it, PRP), (is, VBZ), (a, DT), (good, JJ), (c...\n",
       "Name: Tagged Text, dtype: object"
      ]
     },
     "execution_count": 15,
     "metadata": {},
     "output_type": "execute_result"
    }
   ],
   "source": [
    "res_stars_test[\"Tagged Text\"] = res_stars_test[\"Review Text\"].apply(pos_tag)\n",
    "res_stars_test[\"Tagged Text\"].head()"
   ]
  },
  {
   "cell_type": "code",
   "execution_count": 16,
   "metadata": {},
   "outputs": [
    {
     "data": {
      "text/plain": [
       "9145                                          [NN, NN, NN]\n",
       "35999    [JJ, NN, IN, NN, NN, PRP, VBZ, CC, VBZ, PRP, P...\n",
       "13667                  [NN, JJ, RB, VBG, CC, NNS, IN, VBG]\n",
       "13322    [NN, VBD, DT, NNS, CC, RB, DT, NNS, RB, VBD, T...\n",
       "24514    [DT, NN, VBZ, RB, VBN, IN, JJ, NN, VBN, IN, DT...\n",
       "Name: POS Tags, dtype: object"
      ]
     },
     "execution_count": 16,
     "metadata": {},
     "output_type": "execute_result"
    }
   ],
   "source": [
    "train_reviews_tags = []\n",
    "\n",
    "for items in res_stars_train[\"Tagged Text\"]:\n",
    "    review_tags = []\n",
    "    for item in items:\n",
    "        review_tags.append(item[1])\n",
    "    train_reviews_tags.append(review_tags)\n",
    "\n",
    "res_stars_train[\"POS Tags\"] = train_reviews_tags\n",
    "res_stars_train[\"POS Tags\"].head()"
   ]
  },
  {
   "cell_type": "code",
   "execution_count": 17,
   "metadata": {},
   "outputs": [
    {
     "data": {
      "text/plain": [
       "39906     [DT, NNS, VBD, VBG, RB, DT, NNS, IN, NN, NN, NN]\n",
       "18302               [TO, JJ, NN, IN, NN, VBZ, VBN, JJ, JJ]\n",
       "31809    [PRP, VBD, RB, JJ, CC, PRP, MD, VB, IN, DT, JJ...\n",
       "16259    [PRP, VBZ, RB, JJ, TO, VB, DT, NN, NN, VBZ, JJ...\n",
       "46068    [PRP, VBZ, DT, JJ, NN, IN, NNS, IN, DT, NN, NN...\n",
       "Name: POS Tags, dtype: object"
      ]
     },
     "execution_count": 17,
     "metadata": {},
     "output_type": "execute_result"
    }
   ],
   "source": [
    "test_reviews_tags = []\n",
    "\n",
    "for items in res_stars_test[\"Tagged Text\"]:\n",
    "    review_tags = []\n",
    "    for item in items:\n",
    "        review_tags.append(item[1])\n",
    "    test_reviews_tags.append(review_tags)\n",
    "\n",
    "res_stars_test[\"POS Tags\"] = test_reviews_tags\n",
    "res_stars_test[\"POS Tags\"].head()"
   ]
  },
  {
   "cell_type": "code",
   "execution_count": 18,
   "metadata": {},
   "outputs": [
    {
     "data": {
      "text/html": [
       "<div>\n",
       "<style scoped>\n",
       "    .dataframe tbody tr th:only-of-type {\n",
       "        vertical-align: middle;\n",
       "    }\n",
       "\n",
       "    .dataframe tbody tr th {\n",
       "        vertical-align: top;\n",
       "    }\n",
       "\n",
       "    .dataframe thead th {\n",
       "        text-align: right;\n",
       "    }\n",
       "</style>\n",
       "<table border=\"1\" class=\"dataframe\">\n",
       "  <thead>\n",
       "    <tr style=\"text-align: right;\">\n",
       "      <th></th>\n",
       "      <th>One Star</th>\n",
       "      <th>Two Star</th>\n",
       "      <th>Three Star</th>\n",
       "      <th>Four Star</th>\n",
       "      <th>Five Star</th>\n",
       "    </tr>\n",
       "  </thead>\n",
       "  <tbody>\n",
       "    <tr>\n",
       "      <th>0</th>\n",
       "      <td>['NN', 'CD', 'RB', 'CD', 'NNS']</td>\n",
       "      <td>['CD', 'CD', 'CD', 'CD', 'CD']</td>\n",
       "      <td>['JJ', 'NN', 'IN', 'VBN', 'TO']</td>\n",
       "      <td>['VB', 'DT', 'NN', 'DT', 'CD']</td>\n",
       "      <td>['FW', 'FW', 'FW', 'FW', 'FW', 'FW', 'FW']</td>\n",
       "    </tr>\n",
       "    <tr>\n",
       "      <th>1</th>\n",
       "      <td>['CD', 'RB', 'CD', 'NNS', 'TO']</td>\n",
       "      <td>['CD', 'CD', 'CD', 'CD', 'CD', 'CD']</td>\n",
       "      <td>['NN', 'MD', 'VB', 'NNS', 'VB']</td>\n",
       "      <td>['TO', 'VB', 'DT', 'NNS', 'PRP', 'VBP']</td>\n",
       "      <td>['NNP', 'NNP', 'NNP', 'NNP', 'NNP']</td>\n",
       "    </tr>\n",
       "    <tr>\n",
       "      <th>2</th>\n",
       "      <td>['NN', 'CD', 'RB', 'CD', 'NNS', 'TO']</td>\n",
       "      <td>['CD', 'CD', 'CD', 'CD', 'CD', 'CD', 'CD']</td>\n",
       "      <td>['VBP', 'NN', 'CC', 'DT', 'NN']</td>\n",
       "      <td>['VB', 'JJ', 'TO', 'VB', 'JJR', 'NNS']</td>\n",
       "      <td>['VBD', 'CD', 'IN', 'DT', 'JJS']</td>\n",
       "    </tr>\n",
       "    <tr>\n",
       "      <th>3</th>\n",
       "      <td>['CD', 'RB', 'CD', 'NNS', 'TO', 'VB']</td>\n",
       "      <td>['VB', 'NN', 'RB', 'RB', 'IN']</td>\n",
       "      <td>['NN', 'NNS', 'CC', 'VBP', 'TO']</td>\n",
       "      <td>['NNS', 'RB', 'VBP', 'RB', 'VBN']</td>\n",
       "      <td>['JJ', 'NN', 'NN', 'PRP', 'TO']</td>\n",
       "    </tr>\n",
       "    <tr>\n",
       "      <th>4</th>\n",
       "      <td>['NN', 'CD', 'RB', 'CD', 'NNS', 'TO', 'VB']</td>\n",
       "      <td>['VBD', 'VBN', 'RB', 'IN', 'PRP']</td>\n",
       "      <td>['NN', 'RB', 'IN', 'PRP', 'PRP']</td>\n",
       "      <td>['PRP', 'CD', 'NNS', 'RB', 'IN']</td>\n",
       "      <td>['NNP', 'NNP', 'NNP', 'NNP', 'NNP', 'NNP']</td>\n",
       "    </tr>\n",
       "  </tbody>\n",
       "</table>\n",
       "</div>"
      ],
      "text/plain": [
       "                                      One Star  \\\n",
       "0              ['NN', 'CD', 'RB', 'CD', 'NNS']   \n",
       "1              ['CD', 'RB', 'CD', 'NNS', 'TO']   \n",
       "2        ['NN', 'CD', 'RB', 'CD', 'NNS', 'TO']   \n",
       "3        ['CD', 'RB', 'CD', 'NNS', 'TO', 'VB']   \n",
       "4  ['NN', 'CD', 'RB', 'CD', 'NNS', 'TO', 'VB']   \n",
       "\n",
       "                                     Two Star  \\\n",
       "0              ['CD', 'CD', 'CD', 'CD', 'CD']   \n",
       "1        ['CD', 'CD', 'CD', 'CD', 'CD', 'CD']   \n",
       "2  ['CD', 'CD', 'CD', 'CD', 'CD', 'CD', 'CD']   \n",
       "3              ['VB', 'NN', 'RB', 'RB', 'IN']   \n",
       "4           ['VBD', 'VBN', 'RB', 'IN', 'PRP']   \n",
       "\n",
       "                         Three Star                                Four Star  \\\n",
       "0   ['JJ', 'NN', 'IN', 'VBN', 'TO']           ['VB', 'DT', 'NN', 'DT', 'CD']   \n",
       "1   ['NN', 'MD', 'VB', 'NNS', 'VB']  ['TO', 'VB', 'DT', 'NNS', 'PRP', 'VBP']   \n",
       "2   ['VBP', 'NN', 'CC', 'DT', 'NN']   ['VB', 'JJ', 'TO', 'VB', 'JJR', 'NNS']   \n",
       "3  ['NN', 'NNS', 'CC', 'VBP', 'TO']        ['NNS', 'RB', 'VBP', 'RB', 'VBN']   \n",
       "4  ['NN', 'RB', 'IN', 'PRP', 'PRP']         ['PRP', 'CD', 'NNS', 'RB', 'IN']   \n",
       "\n",
       "                                    Five Star  \n",
       "0  ['FW', 'FW', 'FW', 'FW', 'FW', 'FW', 'FW']  \n",
       "1         ['NNP', 'NNP', 'NNP', 'NNP', 'NNP']  \n",
       "2            ['VBD', 'CD', 'IN', 'DT', 'JJS']  \n",
       "3             ['JJ', 'NN', 'NN', 'PRP', 'TO']  \n",
       "4  ['NNP', 'NNP', 'NNP', 'NNP', 'NNP', 'NNP']  "
      ]
     },
     "execution_count": 18,
     "metadata": {},
     "output_type": "execute_result"
    }
   ],
   "source": [
    "star_patterns = pd.read_csv(\"data/star_patterns.csv\", names=[\"One Star\", \"Two Star\", \"Three Star\", \"Four Star\", \"Five Star\"])\n",
    "star_patterns.head()"
   ]
  },
  {
   "cell_type": "code",
   "execution_count": 19,
   "metadata": {},
   "outputs": [],
   "source": [
    "star_patterns[\"One Star\"] = star_patterns[\"One Star\"].apply(ast.literal_eval)\n",
    "star_patterns[\"Two Star\"] = star_patterns[\"Two Star\"].apply(ast.literal_eval)\n",
    "star_patterns[\"Three Star\"] = star_patterns[\"Three Star\"].apply(ast.literal_eval)\n",
    "star_patterns[\"Four Star\"] = star_patterns[\"Four Star\"].apply(ast.literal_eval)\n",
    "star_patterns[\"Five Star\"] = star_patterns[\"Five Star\"].apply(ast.literal_eval)"
   ]
  },
  {
   "cell_type": "code",
   "execution_count": 20,
   "metadata": {},
   "outputs": [
    {
     "data": {
      "text/plain": [
       "(48960, 5)"
      ]
     },
     "execution_count": 20,
     "metadata": {},
     "output_type": "execute_result"
    }
   ],
   "source": [
    "bow_occurences_array_train = np.zeros((res_stars_train.shape[0], 5))\n",
    "bow_occurences_array_train.shape"
   ]
  },
  {
   "cell_type": "code",
   "execution_count": 21,
   "metadata": {},
   "outputs": [
    {
     "data": {
      "text/plain": [
       "(10, 5)"
      ]
     },
     "execution_count": 21,
     "metadata": {},
     "output_type": "execute_result"
    }
   ],
   "source": [
    "bow_occurences_array_test = np.zeros((res_stars_test.shape[0], 5))\n",
    "bow_occurences_array_test.shape"
   ]
  },
  {
   "cell_type": "code",
   "execution_count": 22,
   "metadata": {},
   "outputs": [],
   "source": [
    "def check_occurrences_stars(data, star_grams, col_index, stars, occ_array):\n",
    "    count = 0\n",
    "    for index, row in data.iterrows():\n",
    "        if row[\"Stars\"] == stars:\n",
    "            for n_gram in star_grams:\n",
    "                if isSubArray(row[\"POS Tags\"], n_gram, len(row[\"POS Tags\"]), len(n_gram)):\n",
    "                    occ_array[count, col_index] = 1\n",
    "        count += 1"
   ]
  },
  {
   "cell_type": "code",
   "execution_count": 23,
   "metadata": {},
   "outputs": [],
   "source": [
    "check_occurrences_stars(res_stars_test, star_patterns[\"One Star\"], 0, 1, bow_occurences_array_test)\n",
    "check_occurrences_stars(res_stars_train, star_patterns[\"One Star\"], 0, 1, bow_occurences_array_train)"
   ]
  },
  {
   "cell_type": "code",
   "execution_count": 24,
   "metadata": {},
   "outputs": [],
   "source": [
    "check_occurrences_stars(res_stars_train, star_patterns[\"Two Star\"], 1, 2, bow_occurences_array_train)\n",
    "check_occurrences_stars(res_stars_test, star_patterns[\"Two Star\"], 1, 2, bow_occurences_array_test)"
   ]
  },
  {
   "cell_type": "code",
   "execution_count": 25,
   "metadata": {},
   "outputs": [],
   "source": [
    "check_occurrences_stars(res_stars_train, star_patterns[\"Three Star\"], 2, 3, bow_occurences_array_train)\n",
    "check_occurrences_stars(res_stars_test, star_patterns[\"Three Star\"], 2, 3, bow_occurences_array_test)"
   ]
  },
  {
   "cell_type": "code",
   "execution_count": 26,
   "metadata": {},
   "outputs": [],
   "source": [
    "check_occurrences_stars(res_stars_train, star_patterns[\"Four Star\"], 3, 4, bow_occurences_array_train)\n",
    "check_occurrences_stars(res_stars_test, star_patterns[\"Four Star\"], 3, 4, bow_occurences_array_test)"
   ]
  },
  {
   "cell_type": "code",
   "execution_count": 27,
   "metadata": {},
   "outputs": [],
   "source": [
    "check_occurrences_stars(res_stars_train, star_patterns[\"Five Star\"], 4, 5, bow_occurences_array_train)\n",
    "check_occurrences_stars(res_stars_test, star_patterns[\"Five Star\"], 4, 5, bow_occurences_array_test)"
   ]
  },
  {
   "cell_type": "code",
   "execution_count": 28,
   "metadata": {},
   "outputs": [
    {
     "data": {
      "text/plain": [
       "(48960, 30766)"
      ]
     },
     "execution_count": 28,
     "metadata": {},
     "output_type": "execute_result"
    }
   ],
   "source": [
    "bow_stars_array_train = vectorizer.transform(res_stars_train[\"Processed Review Text\"].values.astype('U'))\n",
    "bow_stars_array_train.shape"
   ]
  },
  {
   "cell_type": "code",
   "execution_count": 29,
   "metadata": {},
   "outputs": [
    {
     "data": {
      "text/plain": [
       "(10, 30766)"
      ]
     },
     "execution_count": 29,
     "metadata": {},
     "output_type": "execute_result"
    }
   ],
   "source": [
    "bow_stars_array_test = vectorizer.transform(res_stars_test[\"Processed Review Text\"].values.astype('U'))\n",
    "bow_stars_array_test.shape"
   ]
  },
  {
   "cell_type": "code",
   "execution_count": 30,
   "metadata": {},
   "outputs": [
    {
     "data": {
      "text/plain": [
       "(48960, 5)"
      ]
     },
     "execution_count": 30,
     "metadata": {},
     "output_type": "execute_result"
    }
   ],
   "source": [
    "bow_occurrences_matrix_train = sparse.csr_matrix(bow_occurences_array_train)\n",
    "bow_occurrences_matrix_train.shape"
   ]
  },
  {
   "cell_type": "code",
   "execution_count": 31,
   "metadata": {},
   "outputs": [
    {
     "data": {
      "text/plain": [
       "(10, 5)"
      ]
     },
     "execution_count": 31,
     "metadata": {},
     "output_type": "execute_result"
    }
   ],
   "source": [
    "bow_occurrences_matrix_test = sparse.csr_matrix(bow_occurences_array_test)\n",
    "bow_occurrences_matrix_test.shape"
   ]
  },
  {
   "cell_type": "code",
   "execution_count": 32,
   "metadata": {},
   "outputs": [
    {
     "data": {
      "text/plain": [
       "(48960, 30771)"
      ]
     },
     "execution_count": 32,
     "metadata": {},
     "output_type": "execute_result"
    }
   ],
   "source": [
    "bow_stars_array_train_opt = sparse.hstack([bow_stars_array_train, bow_occurrences_matrix_train])\n",
    "bow_stars_array_train_opt.shape"
   ]
  },
  {
   "cell_type": "code",
   "execution_count": 33,
   "metadata": {},
   "outputs": [
    {
     "data": {
      "text/plain": [
       "(10, 30771)"
      ]
     },
     "execution_count": 33,
     "metadata": {},
     "output_type": "execute_result"
    }
   ],
   "source": [
    "bow_stars_array_test_opt = sparse.hstack([bow_stars_array_test, bow_occurrences_matrix_test])\n",
    "bow_stars_array_test_opt.shape"
   ]
  },
  {
   "cell_type": "markdown",
   "metadata": {},
   "source": [
    "### Model Evaluation"
   ]
  },
  {
   "cell_type": "code",
   "execution_count": 34,
   "metadata": {},
   "outputs": [],
   "source": [
    "RF_classifier = RandomForestClassifier(n_estimators=200, criterion='gini', max_features='auto')"
   ]
  },
  {
   "cell_type": "code",
   "execution_count": 35,
   "metadata": {},
   "outputs": [
    {
     "data": {
      "text/plain": [
       "RandomForestClassifier(n_estimators=200)"
      ]
     },
     "execution_count": 35,
     "metadata": {},
     "output_type": "execute_result"
    }
   ],
   "source": [
    "RF_classifier.fit(bow_stars_array_train_opt, res_stars_train[\"Stars\"])"
   ]
  },
  {
   "cell_type": "code",
   "execution_count": 36,
   "metadata": {},
   "outputs": [],
   "source": [
    "rf_pred = RF_classifier.predict(bow_stars_array_test_opt)\n",
    "rf_pred_proba = RF_classifier.predict_proba(bow_stars_array_test_opt)"
   ]
  },
  {
   "cell_type": "code",
   "execution_count": 39,
   "metadata": {},
   "outputs": [
    {
     "data": {
      "text/html": [
       "<div>\n",
       "<style scoped>\n",
       "    .dataframe tbody tr th:only-of-type {\n",
       "        vertical-align: middle;\n",
       "    }\n",
       "\n",
       "    .dataframe tbody tr th {\n",
       "        vertical-align: top;\n",
       "    }\n",
       "\n",
       "    .dataframe thead th {\n",
       "        text-align: right;\n",
       "    }\n",
       "</style>\n",
       "<table border=\"1\" class=\"dataframe\">\n",
       "  <thead>\n",
       "    <tr style=\"text-align: right;\">\n",
       "      <th></th>\n",
       "      <th>Review Text</th>\n",
       "      <th>Stars</th>\n",
       "    </tr>\n",
       "  </thead>\n",
       "  <tbody>\n",
       "    <tr>\n",
       "      <th>39906</th>\n",
       "      <td>[the, lectures, were, amazing, specially, the,...</td>\n",
       "      <td>4</td>\n",
       "    </tr>\n",
       "    <tr>\n",
       "      <th>18302</th>\n",
       "      <td>[to, much, text, that, text, has, used, diffic...</td>\n",
       "      <td>2</td>\n",
       "    </tr>\n",
       "    <tr>\n",
       "      <th>31809</th>\n",
       "      <td>[it, was, definitely, informative, but, it, wo...</td>\n",
       "      <td>3</td>\n",
       "    </tr>\n",
       "    <tr>\n",
       "      <th>16259</th>\n",
       "      <td>[it, s, very, difficult, to, understand, the, ...</td>\n",
       "      <td>2</td>\n",
       "    </tr>\n",
       "    <tr>\n",
       "      <th>46068</th>\n",
       "      <td>[it, is, a, good, course, in, terms, of, the, ...</td>\n",
       "      <td>4</td>\n",
       "    </tr>\n",
       "    <tr>\n",
       "      <th>30395</th>\n",
       "      <td>[i, ll, be, very, honest, and, give, my, opini...</td>\n",
       "      <td>3</td>\n",
       "    </tr>\n",
       "    <tr>\n",
       "      <th>47149</th>\n",
       "      <td>[the, course, was, great, but, only, the, prob...</td>\n",
       "      <td>4</td>\n",
       "    </tr>\n",
       "    <tr>\n",
       "      <th>37781</th>\n",
       "      <td>[overall, solid, but, it, seems, like, the, as...</td>\n",
       "      <td>4</td>\n",
       "    </tr>\n",
       "    <tr>\n",
       "      <th>34094</th>\n",
       "      <td>[thank, you, for, this, course, however, i, fi...</td>\n",
       "      <td>3</td>\n",
       "    </tr>\n",
       "    <tr>\n",
       "      <th>9177</th>\n",
       "      <td>[this, course, needs, a, lot, of, work, it, s,...</td>\n",
       "      <td>1</td>\n",
       "    </tr>\n",
       "  </tbody>\n",
       "</table>\n",
       "</div>"
      ],
      "text/plain": [
       "                                             Review Text  Stars\n",
       "39906  [the, lectures, were, amazing, specially, the,...      4\n",
       "18302  [to, much, text, that, text, has, used, diffic...      2\n",
       "31809  [it, was, definitely, informative, but, it, wo...      3\n",
       "16259  [it, s, very, difficult, to, understand, the, ...      2\n",
       "46068  [it, is, a, good, course, in, terms, of, the, ...      4\n",
       "30395  [i, ll, be, very, honest, and, give, my, opini...      3\n",
       "47149  [the, course, was, great, but, only, the, prob...      4\n",
       "37781  [overall, solid, but, it, seems, like, the, as...      4\n",
       "34094  [thank, you, for, this, course, however, i, fi...      3\n",
       "9177   [this, course, needs, a, lot, of, work, it, s,...      1"
      ]
     },
     "execution_count": 39,
     "metadata": {},
     "output_type": "execute_result"
    }
   ],
   "source": [
    "res_stars_test[[\"Review Text\", \"Stars\"]]"
   ]
  },
  {
   "cell_type": "code",
   "execution_count": 40,
   "metadata": {},
   "outputs": [
    {
     "data": {
      "text/plain": [
       "array([4, 2, 3, 2, 5, 3, 4, 3, 2, 1], dtype=int64)"
      ]
     },
     "execution_count": 40,
     "metadata": {},
     "output_type": "execute_result"
    }
   ],
   "source": [
    "rf_pred"
   ]
  },
  {
   "cell_type": "code",
   "execution_count": 41,
   "metadata": {},
   "outputs": [
    {
     "data": {
      "text/plain": [
       "array([[0.02     , 0.05     , 0.035    , 0.6465625, 0.2484375],\n",
       "       [0.1      , 0.709    , 0.106    , 0.05     , 0.035    ],\n",
       "       [0.24     , 0.16     , 0.465    , 0.085    , 0.05     ],\n",
       "       [0.05     , 0.69     , 0.12     , 0.075    , 0.065    ],\n",
       "       [0.115    , 0.185    , 0.22     , 0.23     , 0.25     ],\n",
       "       [0.045    , 0.06     , 0.795    , 0.07     , 0.03     ],\n",
       "       [0.13     , 0.115    , 0.09     , 0.3375   , 0.3275   ],\n",
       "       [0.065    , 0.11     , 0.36     , 0.345    , 0.12     ],\n",
       "       [0.2      , 0.23     , 0.22     , 0.195    , 0.155    ],\n",
       "       [0.83     , 0.05     , 0.06     , 0.035    , 0.025    ]])"
      ]
     },
     "execution_count": 41,
     "metadata": {},
     "output_type": "execute_result"
    }
   ],
   "source": [
    "rf_pred_proba"
   ]
  }
 ],
 "metadata": {
  "interpreter": {
   "hash": "1e4d29a3b69ac56eca58f5d61a6b46285dbd379c871590cc08b260a097abd0ce"
  },
  "kernelspec": {
   "display_name": "Python 3.9.4 64-bit ('venv': venv)",
   "language": "python",
   "name": "python3"
  },
  "language_info": {
   "codemirror_mode": {
    "name": "ipython",
    "version": 3
   },
   "file_extension": ".py",
   "mimetype": "text/x-python",
   "name": "python",
   "nbconvert_exporter": "python",
   "pygments_lexer": "ipython3",
   "version": "3.9.4"
  },
  "orig_nbformat": 4
 },
 "nbformat": 4,
 "nbformat_minor": 2
}
