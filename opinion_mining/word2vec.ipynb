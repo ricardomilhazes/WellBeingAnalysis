{
 "cells": [
  {
   "cell_type": "markdown",
   "metadata": {},
   "source": [
    "# Word2Vec"
   ]
  },
  {
   "cell_type": "code",
   "execution_count": 1,
   "metadata": {},
   "outputs": [],
   "source": [
    "# Imports\n",
    "import pandas as pd\n",
    "import gensim\n",
    "import numpy as np\n",
    "import matplotlib as plt\n",
    "import ast\n",
    "\n",
    "from utils.utils import isSubArray\n",
    "\n",
    "from nltk import pos_tag\n",
    "from nltk.tokenize import word_tokenize\n",
    "\n",
    "from collections import Counter\n",
    "\n",
    "from imblearn.under_sampling import RandomUnderSampler\n",
    "\n",
    "from xgboost import XGBClassifier\n",
    "\n",
    "from sklearn import naive_bayes, svm\n",
    "from sklearn.ensemble import RandomForestClassifier\n",
    "from sklearn.metrics import classification_report, confusion_matrix\n",
    "from sklearn.model_selection import cross_val_predict, StratifiedKFold, cross_val_score\n",
    "from sklearn.preprocessing import MinMaxScaler"
   ]
  },
  {
   "cell_type": "code",
   "execution_count": 2,
   "metadata": {},
   "outputs": [],
   "source": [
    "# Load Data\n",
    "data = pd.read_csv(\"data/filtered_reviews_large.csv\", names=[\"Review Text\", \"Stars\", \"Polarity\", \"Processed Review Text\"])\n",
    "# data = pd.read_csv(\"data/filtered_reviews.csv\", names=[\"Review Text\", \"Stars\", \"Polarity\"])"
   ]
  },
  {
   "cell_type": "markdown",
   "metadata": {},
   "source": [
    "### Undersampling to balance dataset"
   ]
  },
  {
   "cell_type": "code",
   "execution_count": 3,
   "metadata": {},
   "outputs": [
    {
     "data": {
      "text/html": [
       "<div>\n",
       "<style scoped>\n",
       "    .dataframe tbody tr th:only-of-type {\n",
       "        vertical-align: middle;\n",
       "    }\n",
       "\n",
       "    .dataframe tbody tr th {\n",
       "        vertical-align: top;\n",
       "    }\n",
       "\n",
       "    .dataframe thead th {\n",
       "        text-align: right;\n",
       "    }\n",
       "</style>\n",
       "<table border=\"1\" class=\"dataframe\">\n",
       "  <thead>\n",
       "    <tr style=\"text-align: right;\">\n",
       "      <th></th>\n",
       "      <th>Processed Review Text</th>\n",
       "      <th>Review Text</th>\n",
       "    </tr>\n",
       "  </thead>\n",
       "  <tbody>\n",
       "    <tr>\n",
       "      <th>0</th>\n",
       "      <td>be really good course  recommend have large pe...</td>\n",
       "      <td>it was really good course i recommend for havi...</td>\n",
       "    </tr>\n",
       "    <tr>\n",
       "      <th>1</th>\n",
       "      <td>be really good course  recommend have large pe...</td>\n",
       "      <td>it was really good course i recommend for havi...</td>\n",
       "    </tr>\n",
       "    <tr>\n",
       "      <th>2</th>\n",
       "      <td>instructions final project project be biggest ...</td>\n",
       "      <td>the instructions for the final project the pro...</td>\n",
       "    </tr>\n",
       "    <tr>\n",
       "      <th>3</th>\n",
       "      <td>have like do assignments weren lock payment re...</td>\n",
       "      <td>would have liked to do the assignments if they...</td>\n",
       "    </tr>\n",
       "    <tr>\n",
       "      <th>4</th>\n",
       "      <td>coursera issue not course coursera app apple t...</td>\n",
       "      <td>coursera issue not the course itself coursera ...</td>\n",
       "    </tr>\n",
       "  </tbody>\n",
       "</table>\n",
       "</div>"
      ],
      "text/plain": [
       "                               Processed Review Text  \\\n",
       "0  be really good course  recommend have large pe...   \n",
       "1  be really good course  recommend have large pe...   \n",
       "2  instructions final project project be biggest ...   \n",
       "3  have like do assignments weren lock payment re...   \n",
       "4  coursera issue not course coursera app apple t...   \n",
       "\n",
       "                                         Review Text  \n",
       "0  it was really good course i recommend for havi...  \n",
       "1  it was really good course i recommend for havi...  \n",
       "2  the instructions for the final project the pro...  \n",
       "3  would have liked to do the assignments if they...  \n",
       "4  coursera issue not the course itself coursera ...  "
      ]
     },
     "execution_count": 3,
     "metadata": {},
     "output_type": "execute_result"
    }
   ],
   "source": [
    "reviews_df = data[[\"Processed Review Text\", \"Review Text\"]]\n",
    "reviews_df.head()"
   ]
  },
  {
   "cell_type": "code",
   "execution_count": 4,
   "metadata": {},
   "outputs": [],
   "source": [
    "under = RandomUnderSampler(random_state=1)"
   ]
  },
  {
   "cell_type": "code",
   "execution_count": 5,
   "metadata": {},
   "outputs": [
    {
     "name": "stdout",
     "output_type": "stream",
     "text": [
      "Counter({1: 12240, 2: 12240, 3: 12240, 4: 12240, 5: 12240})\n"
     ]
    }
   ],
   "source": [
    "X, y_stars, y_pol = (reviews_df, data[\"Stars\"].values.reshape(-1,1), data[\"Polarity\"].values.reshape(-1,1))\n",
    "X_res_stars, y_res_stars = under.fit_resample(X, y_stars)\n",
    "print(Counter(y_res_stars))"
   ]
  },
  {
   "cell_type": "code",
   "execution_count": 6,
   "metadata": {},
   "outputs": [
    {
     "name": "stdout",
     "output_type": "stream",
     "text": [
      "Counter({'negative': 25732, 'neutral': 25732, 'positive': 25732})\n"
     ]
    }
   ],
   "source": [
    "X_res_pol, y_res_pol = under.fit_resample(X, y_pol)\n",
    "print(Counter(y_res_pol))"
   ]
  },
  {
   "cell_type": "code",
   "execution_count": 7,
   "metadata": {},
   "outputs": [],
   "source": [
    "stars_data = {\n",
    "    'Review Text': X_res_stars[\"Review Text\"].ravel(),\n",
    "    'Processed Review Text': X_res_stars[\"Processed Review Text\"].ravel(),\n",
    "    'Stars': y_res_stars.ravel()\n",
    "}\n",
    "\n",
    "pol_data = {\n",
    "    'Review Text': X_res_pol[\"Review Text\"].ravel(),\n",
    "    'Processed Review Text': X_res_pol[\"Processed Review Text\"].ravel(),\n",
    "    'Polarity': y_res_pol.ravel()\n",
    "}\n",
    "\n",
    "res_stars = pd.DataFrame(stars_data)\n",
    "res_pol = pd.DataFrame(pol_data)"
   ]
  },
  {
   "cell_type": "code",
   "execution_count": 8,
   "metadata": {},
   "outputs": [
    {
     "data": {
      "text/html": [
       "<div>\n",
       "<style scoped>\n",
       "    .dataframe tbody tr th:only-of-type {\n",
       "        vertical-align: middle;\n",
       "    }\n",
       "\n",
       "    .dataframe tbody tr th {\n",
       "        vertical-align: top;\n",
       "    }\n",
       "\n",
       "    .dataframe thead th {\n",
       "        text-align: right;\n",
       "    }\n",
       "</style>\n",
       "<table border=\"1\" class=\"dataframe\">\n",
       "  <thead>\n",
       "    <tr style=\"text-align: right;\">\n",
       "      <th></th>\n",
       "      <th>Review Text</th>\n",
       "      <th>Processed Review Text</th>\n",
       "      <th>Polarity</th>\n",
       "    </tr>\n",
       "  </thead>\n",
       "  <tbody>\n",
       "    <tr>\n",
       "      <th>0</th>\n",
       "      <td>the instructions for the final project the pro...</td>\n",
       "      <td>[instructions, final, project, project, be, bi...</td>\n",
       "      <td>negative</td>\n",
       "    </tr>\n",
       "    <tr>\n",
       "      <th>1</th>\n",
       "      <td>would have liked to do the assignments if they...</td>\n",
       "      <td>[have, like, do, assignments, weren, lock, pay...</td>\n",
       "      <td>negative</td>\n",
       "    </tr>\n",
       "    <tr>\n",
       "      <th>2</th>\n",
       "      <td>coursera issue not the course itself coursera ...</td>\n",
       "      <td>[coursera, issue, not, course, coursera, app, ...</td>\n",
       "      <td>negative</td>\n",
       "    </tr>\n",
       "    <tr>\n",
       "      <th>3</th>\n",
       "      <td>i liked the course and the material but it was...</td>\n",
       "      <td>[like, course, material, be, frustrate, work, ...</td>\n",
       "      <td>negative</td>\n",
       "    </tr>\n",
       "    <tr>\n",
       "      <th>4</th>\n",
       "      <td>the instructions for the final project the pro...</td>\n",
       "      <td>[instructions, final, project, project, be, bi...</td>\n",
       "      <td>negative</td>\n",
       "    </tr>\n",
       "  </tbody>\n",
       "</table>\n",
       "</div>"
      ],
      "text/plain": [
       "                                         Review Text  \\\n",
       "0  the instructions for the final project the pro...   \n",
       "1  would have liked to do the assignments if they...   \n",
       "2  coursera issue not the course itself coursera ...   \n",
       "3  i liked the course and the material but it was...   \n",
       "4  the instructions for the final project the pro...   \n",
       "\n",
       "                               Processed Review Text  Polarity  \n",
       "0  [instructions, final, project, project, be, bi...  negative  \n",
       "1  [have, like, do, assignments, weren, lock, pay...  negative  \n",
       "2  [coursera, issue, not, course, coursera, app, ...  negative  \n",
       "3  [like, course, material, be, frustrate, work, ...  negative  \n",
       "4  [instructions, final, project, project, be, bi...  negative  "
      ]
     },
     "execution_count": 8,
     "metadata": {},
     "output_type": "execute_result"
    }
   ],
   "source": [
    "res_pol[\"Processed Review Text\"] = res_pol[\"Processed Review Text\"].apply(str)\n",
    "res_pol[\"Processed Review Text\"] = res_pol[\"Processed Review Text\"].apply(word_tokenize)\n",
    "res_pol.head()"
   ]
  },
  {
   "cell_type": "code",
   "execution_count": 9,
   "metadata": {},
   "outputs": [
    {
     "data": {
      "text/html": [
       "<div>\n",
       "<style scoped>\n",
       "    .dataframe tbody tr th:only-of-type {\n",
       "        vertical-align: middle;\n",
       "    }\n",
       "\n",
       "    .dataframe tbody tr th {\n",
       "        vertical-align: top;\n",
       "    }\n",
       "\n",
       "    .dataframe thead th {\n",
       "        text-align: right;\n",
       "    }\n",
       "</style>\n",
       "<table border=\"1\" class=\"dataframe\">\n",
       "  <thead>\n",
       "    <tr style=\"text-align: right;\">\n",
       "      <th></th>\n",
       "      <th>Review Text</th>\n",
       "      <th>Processed Review Text</th>\n",
       "      <th>Stars</th>\n",
       "    </tr>\n",
       "  </thead>\n",
       "  <tbody>\n",
       "    <tr>\n",
       "      <th>0</th>\n",
       "      <td>the technology used is poor the content disjoi...</td>\n",
       "      <td>[technology, use, be, poor, content, disjoint,...</td>\n",
       "      <td>1</td>\n",
       "    </tr>\n",
       "    <tr>\n",
       "      <th>1</th>\n",
       "      <td>very limited to ibm db2 not useful in real wor...</td>\n",
       "      <td>[very, limit, ibm, db2, not, useful, real, wor...</td>\n",
       "      <td>1</td>\n",
       "    </tr>\n",
       "    <tr>\n",
       "      <th>2</th>\n",
       "      <td>this is an introduction to an introduction the...</td>\n",
       "      <td>[be, introduction, introduction, keep, tell, l...</td>\n",
       "      <td>1</td>\n",
       "    </tr>\n",
       "    <tr>\n",
       "      <th>3</th>\n",
       "      <td>hi i completed entire program and received the...</td>\n",
       "      <td>[hi, complete, entire, program, receive, profe...</td>\n",
       "      <td>1</td>\n",
       "    </tr>\n",
       "    <tr>\n",
       "      <th>4</th>\n",
       "      <td>worst course even the first step for ide is no...</td>\n",
       "      <td>[worst, course, even, first, step, ide, be, no...</td>\n",
       "      <td>1</td>\n",
       "    </tr>\n",
       "  </tbody>\n",
       "</table>\n",
       "</div>"
      ],
      "text/plain": [
       "                                         Review Text  \\\n",
       "0  the technology used is poor the content disjoi...   \n",
       "1  very limited to ibm db2 not useful in real wor...   \n",
       "2  this is an introduction to an introduction the...   \n",
       "3  hi i completed entire program and received the...   \n",
       "4  worst course even the first step for ide is no...   \n",
       "\n",
       "                               Processed Review Text  Stars  \n",
       "0  [technology, use, be, poor, content, disjoint,...      1  \n",
       "1  [very, limit, ibm, db2, not, useful, real, wor...      1  \n",
       "2  [be, introduction, introduction, keep, tell, l...      1  \n",
       "3  [hi, complete, entire, program, receive, profe...      1  \n",
       "4  [worst, course, even, first, step, ide, be, no...      1  "
      ]
     },
     "execution_count": 9,
     "metadata": {},
     "output_type": "execute_result"
    }
   ],
   "source": [
    "res_stars[\"Processed Review Text\"] = res_stars[\"Processed Review Text\"].apply(str)\n",
    "res_stars[\"Processed Review Text\"] = res_stars[\"Processed Review Text\"].apply(word_tokenize)\n",
    "res_stars.head()"
   ]
  },
  {
   "cell_type": "code",
   "execution_count": 10,
   "metadata": {},
   "outputs": [],
   "source": [
    "merged_reviews = [res_pol[\"Processed Review Text\"], res_stars[\"Processed Review Text\"]]\n",
    "review_texts = [item for sublist in merged_reviews for item in sublist]"
   ]
  },
  {
   "cell_type": "markdown",
   "metadata": {},
   "source": [
    "### Word2Vec model creation"
   ]
  },
  {
   "cell_type": "code",
   "execution_count": 11,
   "metadata": {},
   "outputs": [],
   "source": [
    "# Creating a Word2Vec vectorizer\n",
    "word2vec_model = gensim.models.Word2Vec(review_texts)"
   ]
  },
  {
   "cell_type": "code",
   "execution_count": 12,
   "metadata": {},
   "outputs": [],
   "source": [
    "word2vec_model.train(review_texts, total_examples=len(review_texts), epochs=10)\n",
    "word2vec_model.wv.save(\"models/word2vec\")"
   ]
  },
  {
   "cell_type": "code",
   "execution_count": 13,
   "metadata": {},
   "outputs": [],
   "source": [
    "def word_vector(tokens, size):\n",
    "    vec = np.zeros(size).reshape((1,size))\n",
    "    count = 0\n",
    "    for word in tokens:\n",
    "        try:\n",
    "            vec += word2vec_model.wv[word].reshape((1, size))\n",
    "            count += 1\n",
    "        except KeyError:\n",
    "            continue\n",
    "    if count != 0:\n",
    "        vec /= count\n",
    "    return vec"
   ]
  },
  {
   "cell_type": "markdown",
   "metadata": {},
   "source": [
    "### Create Word2Vec arrays for star classification"
   ]
  },
  {
   "cell_type": "code",
   "execution_count": 14,
   "metadata": {},
   "outputs": [
    {
     "data": {
      "text/plain": [
       "(61200, 100)"
      ]
     },
     "execution_count": 14,
     "metadata": {},
     "output_type": "execute_result"
    }
   ],
   "source": [
    "wordvec_star_arrays = np.zeros((len(X_res_stars), 100))\n",
    "for i in range(len(X_res_stars)):\n",
    "    wordvec_star_arrays[i, :] = word_vector(res_stars[\"Processed Review Text\"][i], 100)\n",
    "wordvec_stars_df = pd.DataFrame(wordvec_star_arrays)\n",
    "wordvec_stars_df.shape"
   ]
  },
  {
   "cell_type": "code",
   "execution_count": 15,
   "metadata": {},
   "outputs": [
    {
     "data": {
      "text/html": [
       "<div>\n",
       "<style scoped>\n",
       "    .dataframe tbody tr th:only-of-type {\n",
       "        vertical-align: middle;\n",
       "    }\n",
       "\n",
       "    .dataframe tbody tr th {\n",
       "        vertical-align: top;\n",
       "    }\n",
       "\n",
       "    .dataframe thead th {\n",
       "        text-align: right;\n",
       "    }\n",
       "</style>\n",
       "<table border=\"1\" class=\"dataframe\">\n",
       "  <thead>\n",
       "    <tr style=\"text-align: right;\">\n",
       "      <th></th>\n",
       "      <th>0</th>\n",
       "      <th>1</th>\n",
       "      <th>2</th>\n",
       "      <th>3</th>\n",
       "      <th>4</th>\n",
       "      <th>5</th>\n",
       "      <th>6</th>\n",
       "      <th>7</th>\n",
       "      <th>8</th>\n",
       "      <th>9</th>\n",
       "      <th>...</th>\n",
       "      <th>90</th>\n",
       "      <th>91</th>\n",
       "      <th>92</th>\n",
       "      <th>93</th>\n",
       "      <th>94</th>\n",
       "      <th>95</th>\n",
       "      <th>96</th>\n",
       "      <th>97</th>\n",
       "      <th>98</th>\n",
       "      <th>99</th>\n",
       "    </tr>\n",
       "  </thead>\n",
       "  <tbody>\n",
       "    <tr>\n",
       "      <th>0</th>\n",
       "      <td>0.140602</td>\n",
       "      <td>-0.357964</td>\n",
       "      <td>-0.096083</td>\n",
       "      <td>0.110623</td>\n",
       "      <td>0.303417</td>\n",
       "      <td>0.490394</td>\n",
       "      <td>0.430372</td>\n",
       "      <td>0.424608</td>\n",
       "      <td>0.378307</td>\n",
       "      <td>0.208588</td>\n",
       "      <td>...</td>\n",
       "      <td>-0.482405</td>\n",
       "      <td>-0.288498</td>\n",
       "      <td>-0.417408</td>\n",
       "      <td>0.235639</td>\n",
       "      <td>0.155991</td>\n",
       "      <td>0.022233</td>\n",
       "      <td>-0.430419</td>\n",
       "      <td>0.226439</td>\n",
       "      <td>-0.146093</td>\n",
       "      <td>0.008037</td>\n",
       "    </tr>\n",
       "    <tr>\n",
       "      <th>1</th>\n",
       "      <td>-0.008228</td>\n",
       "      <td>0.306805</td>\n",
       "      <td>0.339147</td>\n",
       "      <td>-0.833253</td>\n",
       "      <td>-0.090357</td>\n",
       "      <td>0.647605</td>\n",
       "      <td>-0.281930</td>\n",
       "      <td>-0.429494</td>\n",
       "      <td>0.138144</td>\n",
       "      <td>0.382717</td>\n",
       "      <td>...</td>\n",
       "      <td>-0.941690</td>\n",
       "      <td>-0.035862</td>\n",
       "      <td>0.047843</td>\n",
       "      <td>-0.128789</td>\n",
       "      <td>-0.458160</td>\n",
       "      <td>0.596140</td>\n",
       "      <td>0.367128</td>\n",
       "      <td>-0.157394</td>\n",
       "      <td>-0.212761</td>\n",
       "      <td>0.033020</td>\n",
       "    </tr>\n",
       "    <tr>\n",
       "      <th>2</th>\n",
       "      <td>0.473920</td>\n",
       "      <td>-0.488011</td>\n",
       "      <td>-0.310095</td>\n",
       "      <td>-0.218749</td>\n",
       "      <td>0.444057</td>\n",
       "      <td>0.652315</td>\n",
       "      <td>0.207375</td>\n",
       "      <td>-0.544526</td>\n",
       "      <td>0.328713</td>\n",
       "      <td>0.513099</td>\n",
       "      <td>...</td>\n",
       "      <td>-0.705119</td>\n",
       "      <td>-0.140125</td>\n",
       "      <td>0.083804</td>\n",
       "      <td>-0.779799</td>\n",
       "      <td>-0.175926</td>\n",
       "      <td>-0.391392</td>\n",
       "      <td>-0.473210</td>\n",
       "      <td>0.599841</td>\n",
       "      <td>0.064138</td>\n",
       "      <td>0.410167</td>\n",
       "    </tr>\n",
       "    <tr>\n",
       "      <th>3</th>\n",
       "      <td>1.167873</td>\n",
       "      <td>0.613004</td>\n",
       "      <td>-0.392788</td>\n",
       "      <td>-0.436900</td>\n",
       "      <td>-0.549742</td>\n",
       "      <td>0.786214</td>\n",
       "      <td>0.701737</td>\n",
       "      <td>0.162138</td>\n",
       "      <td>0.488215</td>\n",
       "      <td>-0.063179</td>\n",
       "      <td>...</td>\n",
       "      <td>0.881947</td>\n",
       "      <td>0.393778</td>\n",
       "      <td>0.555483</td>\n",
       "      <td>-0.174147</td>\n",
       "      <td>0.533954</td>\n",
       "      <td>0.390631</td>\n",
       "      <td>1.894485</td>\n",
       "      <td>1.021048</td>\n",
       "      <td>-0.190497</td>\n",
       "      <td>-0.029569</td>\n",
       "    </tr>\n",
       "    <tr>\n",
       "      <th>4</th>\n",
       "      <td>-0.239401</td>\n",
       "      <td>-0.435455</td>\n",
       "      <td>-1.312376</td>\n",
       "      <td>0.371424</td>\n",
       "      <td>0.316245</td>\n",
       "      <td>1.109977</td>\n",
       "      <td>-0.013161</td>\n",
       "      <td>0.215644</td>\n",
       "      <td>0.721349</td>\n",
       "      <td>0.404732</td>\n",
       "      <td>...</td>\n",
       "      <td>-0.560232</td>\n",
       "      <td>-0.053142</td>\n",
       "      <td>0.626911</td>\n",
       "      <td>0.643905</td>\n",
       "      <td>-0.432684</td>\n",
       "      <td>-0.765038</td>\n",
       "      <td>-0.268207</td>\n",
       "      <td>0.829686</td>\n",
       "      <td>0.243172</td>\n",
       "      <td>0.342570</td>\n",
       "    </tr>\n",
       "  </tbody>\n",
       "</table>\n",
       "<p>5 rows × 100 columns</p>\n",
       "</div>"
      ],
      "text/plain": [
       "         0         1         2         3         4         5         6   \\\n",
       "0  0.140602 -0.357964 -0.096083  0.110623  0.303417  0.490394  0.430372   \n",
       "1 -0.008228  0.306805  0.339147 -0.833253 -0.090357  0.647605 -0.281930   \n",
       "2  0.473920 -0.488011 -0.310095 -0.218749  0.444057  0.652315  0.207375   \n",
       "3  1.167873  0.613004 -0.392788 -0.436900 -0.549742  0.786214  0.701737   \n",
       "4 -0.239401 -0.435455 -1.312376  0.371424  0.316245  1.109977 -0.013161   \n",
       "\n",
       "         7         8         9   ...        90        91        92        93  \\\n",
       "0  0.424608  0.378307  0.208588  ... -0.482405 -0.288498 -0.417408  0.235639   \n",
       "1 -0.429494  0.138144  0.382717  ... -0.941690 -0.035862  0.047843 -0.128789   \n",
       "2 -0.544526  0.328713  0.513099  ... -0.705119 -0.140125  0.083804 -0.779799   \n",
       "3  0.162138  0.488215 -0.063179  ...  0.881947  0.393778  0.555483 -0.174147   \n",
       "4  0.215644  0.721349  0.404732  ... -0.560232 -0.053142  0.626911  0.643905   \n",
       "\n",
       "         94        95        96        97        98        99  \n",
       "0  0.155991  0.022233 -0.430419  0.226439 -0.146093  0.008037  \n",
       "1 -0.458160  0.596140  0.367128 -0.157394 -0.212761  0.033020  \n",
       "2 -0.175926 -0.391392 -0.473210  0.599841  0.064138  0.410167  \n",
       "3  0.533954  0.390631  1.894485  1.021048 -0.190497 -0.029569  \n",
       "4 -0.432684 -0.765038 -0.268207  0.829686  0.243172  0.342570  \n",
       "\n",
       "[5 rows x 100 columns]"
      ]
     },
     "execution_count": 15,
     "metadata": {},
     "output_type": "execute_result"
    }
   ],
   "source": [
    "wordvec_stars_df.head()"
   ]
  },
  {
   "cell_type": "markdown",
   "metadata": {},
   "source": [
    "### Create Word2Vec arrays for polarity classification"
   ]
  },
  {
   "cell_type": "code",
   "execution_count": 16,
   "metadata": {},
   "outputs": [
    {
     "data": {
      "text/plain": [
       "(77196, 100)"
      ]
     },
     "execution_count": 16,
     "metadata": {},
     "output_type": "execute_result"
    }
   ],
   "source": [
    "wordvec_pol_arrays = np.zeros((len(X_res_pol), 100))\n",
    "for i in range(len(X_res_pol)):\n",
    "    wordvec_pol_arrays[i, :] = word_vector(res_pol[\"Processed Review Text\"][i], 100)\n",
    "wordvec_pol_df = pd.DataFrame(wordvec_pol_arrays)\n",
    "wordvec_pol_df.shape"
   ]
  },
  {
   "cell_type": "code",
   "execution_count": 17,
   "metadata": {},
   "outputs": [
    {
     "data": {
      "text/html": [
       "<div>\n",
       "<style scoped>\n",
       "    .dataframe tbody tr th:only-of-type {\n",
       "        vertical-align: middle;\n",
       "    }\n",
       "\n",
       "    .dataframe tbody tr th {\n",
       "        vertical-align: top;\n",
       "    }\n",
       "\n",
       "    .dataframe thead th {\n",
       "        text-align: right;\n",
       "    }\n",
       "</style>\n",
       "<table border=\"1\" class=\"dataframe\">\n",
       "  <thead>\n",
       "    <tr style=\"text-align: right;\">\n",
       "      <th></th>\n",
       "      <th>0</th>\n",
       "      <th>1</th>\n",
       "      <th>2</th>\n",
       "      <th>3</th>\n",
       "      <th>4</th>\n",
       "      <th>5</th>\n",
       "      <th>6</th>\n",
       "      <th>7</th>\n",
       "      <th>8</th>\n",
       "      <th>9</th>\n",
       "      <th>...</th>\n",
       "      <th>90</th>\n",
       "      <th>91</th>\n",
       "      <th>92</th>\n",
       "      <th>93</th>\n",
       "      <th>94</th>\n",
       "      <th>95</th>\n",
       "      <th>96</th>\n",
       "      <th>97</th>\n",
       "      <th>98</th>\n",
       "      <th>99</th>\n",
       "    </tr>\n",
       "  </thead>\n",
       "  <tbody>\n",
       "    <tr>\n",
       "      <th>0</th>\n",
       "      <td>0.289488</td>\n",
       "      <td>0.102818</td>\n",
       "      <td>-0.599188</td>\n",
       "      <td>-0.653490</td>\n",
       "      <td>-0.067246</td>\n",
       "      <td>0.811980</td>\n",
       "      <td>0.044278</td>\n",
       "      <td>-0.069073</td>\n",
       "      <td>0.517175</td>\n",
       "      <td>0.718169</td>\n",
       "      <td>...</td>\n",
       "      <td>-0.746600</td>\n",
       "      <td>0.199565</td>\n",
       "      <td>0.392061</td>\n",
       "      <td>-0.538661</td>\n",
       "      <td>-0.223359</td>\n",
       "      <td>-0.556851</td>\n",
       "      <td>1.163577</td>\n",
       "      <td>0.682047</td>\n",
       "      <td>-0.128337</td>\n",
       "      <td>-0.222991</td>\n",
       "    </tr>\n",
       "    <tr>\n",
       "      <th>1</th>\n",
       "      <td>0.393485</td>\n",
       "      <td>0.968417</td>\n",
       "      <td>-0.600583</td>\n",
       "      <td>-0.053143</td>\n",
       "      <td>-0.561964</td>\n",
       "      <td>0.535617</td>\n",
       "      <td>0.171578</td>\n",
       "      <td>-1.055742</td>\n",
       "      <td>1.171631</td>\n",
       "      <td>0.775926</td>\n",
       "      <td>...</td>\n",
       "      <td>-1.432936</td>\n",
       "      <td>-0.723664</td>\n",
       "      <td>0.241506</td>\n",
       "      <td>-0.097111</td>\n",
       "      <td>0.249231</td>\n",
       "      <td>-0.380946</td>\n",
       "      <td>1.169442</td>\n",
       "      <td>0.844949</td>\n",
       "      <td>0.083944</td>\n",
       "      <td>0.188423</td>\n",
       "    </tr>\n",
       "    <tr>\n",
       "      <th>2</th>\n",
       "      <td>0.292691</td>\n",
       "      <td>0.114567</td>\n",
       "      <td>-0.236382</td>\n",
       "      <td>-0.313220</td>\n",
       "      <td>-0.293878</td>\n",
       "      <td>0.440172</td>\n",
       "      <td>-0.100516</td>\n",
       "      <td>-0.178229</td>\n",
       "      <td>0.381006</td>\n",
       "      <td>0.322787</td>\n",
       "      <td>...</td>\n",
       "      <td>-0.668092</td>\n",
       "      <td>0.121995</td>\n",
       "      <td>-0.414142</td>\n",
       "      <td>-0.261001</td>\n",
       "      <td>-0.330022</td>\n",
       "      <td>-0.453942</td>\n",
       "      <td>0.395363</td>\n",
       "      <td>-0.106631</td>\n",
       "      <td>-0.153208</td>\n",
       "      <td>0.180010</td>\n",
       "    </tr>\n",
       "    <tr>\n",
       "      <th>3</th>\n",
       "      <td>0.520640</td>\n",
       "      <td>0.040128</td>\n",
       "      <td>-0.392393</td>\n",
       "      <td>-0.660355</td>\n",
       "      <td>-0.080681</td>\n",
       "      <td>0.692697</td>\n",
       "      <td>0.383475</td>\n",
       "      <td>0.188703</td>\n",
       "      <td>0.933029</td>\n",
       "      <td>0.560076</td>\n",
       "      <td>...</td>\n",
       "      <td>-0.859106</td>\n",
       "      <td>-0.242065</td>\n",
       "      <td>0.635360</td>\n",
       "      <td>-0.244830</td>\n",
       "      <td>0.314618</td>\n",
       "      <td>-0.653573</td>\n",
       "      <td>1.120780</td>\n",
       "      <td>0.334444</td>\n",
       "      <td>-0.370891</td>\n",
       "      <td>0.540782</td>\n",
       "    </tr>\n",
       "    <tr>\n",
       "      <th>4</th>\n",
       "      <td>0.289488</td>\n",
       "      <td>0.102818</td>\n",
       "      <td>-0.599188</td>\n",
       "      <td>-0.653490</td>\n",
       "      <td>-0.067246</td>\n",
       "      <td>0.811980</td>\n",
       "      <td>0.044278</td>\n",
       "      <td>-0.069073</td>\n",
       "      <td>0.517175</td>\n",
       "      <td>0.718169</td>\n",
       "      <td>...</td>\n",
       "      <td>-0.746600</td>\n",
       "      <td>0.199565</td>\n",
       "      <td>0.392061</td>\n",
       "      <td>-0.538661</td>\n",
       "      <td>-0.223359</td>\n",
       "      <td>-0.556851</td>\n",
       "      <td>1.163577</td>\n",
       "      <td>0.682047</td>\n",
       "      <td>-0.128337</td>\n",
       "      <td>-0.222991</td>\n",
       "    </tr>\n",
       "  </tbody>\n",
       "</table>\n",
       "<p>5 rows × 100 columns</p>\n",
       "</div>"
      ],
      "text/plain": [
       "         0         1         2         3         4         5         6   \\\n",
       "0  0.289488  0.102818 -0.599188 -0.653490 -0.067246  0.811980  0.044278   \n",
       "1  0.393485  0.968417 -0.600583 -0.053143 -0.561964  0.535617  0.171578   \n",
       "2  0.292691  0.114567 -0.236382 -0.313220 -0.293878  0.440172 -0.100516   \n",
       "3  0.520640  0.040128 -0.392393 -0.660355 -0.080681  0.692697  0.383475   \n",
       "4  0.289488  0.102818 -0.599188 -0.653490 -0.067246  0.811980  0.044278   \n",
       "\n",
       "         7         8         9   ...        90        91        92        93  \\\n",
       "0 -0.069073  0.517175  0.718169  ... -0.746600  0.199565  0.392061 -0.538661   \n",
       "1 -1.055742  1.171631  0.775926  ... -1.432936 -0.723664  0.241506 -0.097111   \n",
       "2 -0.178229  0.381006  0.322787  ... -0.668092  0.121995 -0.414142 -0.261001   \n",
       "3  0.188703  0.933029  0.560076  ... -0.859106 -0.242065  0.635360 -0.244830   \n",
       "4 -0.069073  0.517175  0.718169  ... -0.746600  0.199565  0.392061 -0.538661   \n",
       "\n",
       "         94        95        96        97        98        99  \n",
       "0 -0.223359 -0.556851  1.163577  0.682047 -0.128337 -0.222991  \n",
       "1  0.249231 -0.380946  1.169442  0.844949  0.083944  0.188423  \n",
       "2 -0.330022 -0.453942  0.395363 -0.106631 -0.153208  0.180010  \n",
       "3  0.314618 -0.653573  1.120780  0.334444 -0.370891  0.540782  \n",
       "4 -0.223359 -0.556851  1.163577  0.682047 -0.128337 -0.222991  \n",
       "\n",
       "[5 rows x 100 columns]"
      ]
     },
     "execution_count": 17,
     "metadata": {},
     "output_type": "execute_result"
    }
   ],
   "source": [
    "wordvec_pol_df.head()"
   ]
  },
  {
   "cell_type": "markdown",
   "metadata": {},
   "source": [
    "### Create Classifiers"
   ]
  },
  {
   "cell_type": "code",
   "execution_count": 18,
   "metadata": {},
   "outputs": [],
   "source": [
    "NB_classifier = naive_bayes.GaussianNB()\n",
    "RF_classifier = RandomForestClassifier()\n",
    "XGB_classifier = XGBClassifier()\n",
    "SVM_classifier = svm.SVC()"
   ]
  },
  {
   "cell_type": "code",
   "execution_count": 19,
   "metadata": {},
   "outputs": [],
   "source": [
    "cv = StratifiedKFold(n_splits=5)"
   ]
  },
  {
   "cell_type": "markdown",
   "metadata": {},
   "source": [
    "### Run Models for star classification"
   ]
  },
  {
   "cell_type": "markdown",
   "metadata": {},
   "source": [
    "Multinomial Naive Bayes"
   ]
  },
  {
   "cell_type": "code",
   "execution_count": 20,
   "metadata": {},
   "outputs": [
    {
     "name": "stdout",
     "output_type": "stream",
     "text": [
      "              precision    recall  f1-score   support\n",
      "\n",
      "           1       0.46      0.38      0.42     12240\n",
      "           2       0.31      0.56      0.40     12240\n",
      "           3       0.35      0.16      0.22     12240\n",
      "           4       0.34      0.21      0.26     12240\n",
      "           5       0.53      0.69      0.60     12240\n",
      "\n",
      "    accuracy                           0.40     61200\n",
      "   macro avg       0.40      0.40      0.38     61200\n",
      "weighted avg       0.40      0.40      0.38     61200\n",
      "\n",
      "[[4648 5882  544  491  675]\n",
      " [2293 6891 1244  921  891]\n",
      " [1763 5302 1926 1680 1569]\n",
      " [ 889 3106 1322 2538 4385]\n",
      " [ 452 1116  416 1758 8498]]\n"
     ]
    }
   ],
   "source": [
    "# Run Naive Bayes Model for polarity predicition and evaluate results\n",
    "nb_pred = cross_val_predict(NB_classifier, wordvec_stars_df, res_stars[\"Stars\"], cv=cv)\n",
    "print(classification_report(y_res_stars, nb_pred))\n",
    "print(confusion_matrix(y_res_stars, nb_pred))"
   ]
  },
  {
   "cell_type": "markdown",
   "metadata": {},
   "source": [
    "Random Forest"
   ]
  },
  {
   "cell_type": "code",
   "execution_count": 21,
   "metadata": {},
   "outputs": [
    {
     "name": "stdout",
     "output_type": "stream",
     "text": [
      "              precision    recall  f1-score   support\n",
      "\n",
      "           1       0.61      0.81      0.70     12240\n",
      "           2       0.45      0.23      0.30     12240\n",
      "           3       0.42      0.50      0.46     12240\n",
      "           4       0.42      0.35      0.38     12240\n",
      "           5       0.60      0.70      0.65     12240\n",
      "\n",
      "    accuracy                           0.52     61200\n",
      "   macro avg       0.50      0.52      0.50     61200\n",
      "weighted avg       0.50      0.52      0.50     61200\n",
      "\n",
      "[[9862  889  980  282  227]\n",
      " [3492 2813 4015 1284  636]\n",
      " [1553 1604 6180 1941  962]\n",
      " [ 820  762 2588 4239 3831]\n",
      " [ 330  209  790 2347 8564]]\n"
     ]
    }
   ],
   "source": [
    "# Run Random Forest Model for polarity predicition and evaluate results\n",
    "rf_pred = cross_val_predict(RF_classifier, wordvec_stars_df, res_stars[\"Stars\"], cv=cv)\n",
    "print(classification_report(y_res_stars, rf_pred))\n",
    "print(confusion_matrix(y_res_stars, rf_pred))"
   ]
  },
  {
   "cell_type": "markdown",
   "metadata": {},
   "source": [
    "XGBoost"
   ]
  },
  {
   "cell_type": "code",
   "execution_count": 22,
   "metadata": {},
   "outputs": [
    {
     "name": "stderr",
     "output_type": "stream",
     "text": [
      "c:\\Users\\Ricardo\\Desktop\\Dissertação\\WellBeingAnalysis\\venv\\lib\\site-packages\\xgboost\\sklearn.py:1224: UserWarning: The use of label encoder in XGBClassifier is deprecated and will be removed in a future release. To remove this warning, do the following: 1) Pass option use_label_encoder=False when constructing XGBClassifier object; and 2) Encode your labels (y) as integers starting with 0, i.e. 0, 1, 2, ..., [num_class - 1].\n",
      "  warnings.warn(label_encoder_deprecation_msg, UserWarning)\n"
     ]
    },
    {
     "name": "stdout",
     "output_type": "stream",
     "text": [
      "[19:24:43] WARNING: C:/Users/Administrator/workspace/xgboost-win64_release_1.5.0/src/learner.cc:1115: Starting in XGBoost 1.3.0, the default evaluation metric used with the objective 'multi:softprob' was changed from 'merror' to 'mlogloss'. Explicitly set eval_metric if you'd like to restore the old behavior.\n"
     ]
    },
    {
     "name": "stderr",
     "output_type": "stream",
     "text": [
      "c:\\Users\\Ricardo\\Desktop\\Dissertação\\WellBeingAnalysis\\venv\\lib\\site-packages\\xgboost\\sklearn.py:1224: UserWarning: The use of label encoder in XGBClassifier is deprecated and will be removed in a future release. To remove this warning, do the following: 1) Pass option use_label_encoder=False when constructing XGBClassifier object; and 2) Encode your labels (y) as integers starting with 0, i.e. 0, 1, 2, ..., [num_class - 1].\n",
      "  warnings.warn(label_encoder_deprecation_msg, UserWarning)\n"
     ]
    },
    {
     "name": "stdout",
     "output_type": "stream",
     "text": [
      "[19:32:07] WARNING: C:/Users/Administrator/workspace/xgboost-win64_release_1.5.0/src/learner.cc:1115: Starting in XGBoost 1.3.0, the default evaluation metric used with the objective 'multi:softprob' was changed from 'merror' to 'mlogloss'. Explicitly set eval_metric if you'd like to restore the old behavior.\n"
     ]
    },
    {
     "name": "stderr",
     "output_type": "stream",
     "text": [
      "c:\\Users\\Ricardo\\Desktop\\Dissertação\\WellBeingAnalysis\\venv\\lib\\site-packages\\xgboost\\sklearn.py:1224: UserWarning: The use of label encoder in XGBClassifier is deprecated and will be removed in a future release. To remove this warning, do the following: 1) Pass option use_label_encoder=False when constructing XGBClassifier object; and 2) Encode your labels (y) as integers starting with 0, i.e. 0, 1, 2, ..., [num_class - 1].\n",
      "  warnings.warn(label_encoder_deprecation_msg, UserWarning)\n"
     ]
    },
    {
     "name": "stdout",
     "output_type": "stream",
     "text": [
      "[19:38:48] WARNING: C:/Users/Administrator/workspace/xgboost-win64_release_1.5.0/src/learner.cc:1115: Starting in XGBoost 1.3.0, the default evaluation metric used with the objective 'multi:softprob' was changed from 'merror' to 'mlogloss'. Explicitly set eval_metric if you'd like to restore the old behavior.\n"
     ]
    },
    {
     "name": "stderr",
     "output_type": "stream",
     "text": [
      "c:\\Users\\Ricardo\\Desktop\\Dissertação\\WellBeingAnalysis\\venv\\lib\\site-packages\\xgboost\\sklearn.py:1224: UserWarning: The use of label encoder in XGBClassifier is deprecated and will be removed in a future release. To remove this warning, do the following: 1) Pass option use_label_encoder=False when constructing XGBClassifier object; and 2) Encode your labels (y) as integers starting with 0, i.e. 0, 1, 2, ..., [num_class - 1].\n",
      "  warnings.warn(label_encoder_deprecation_msg, UserWarning)\n"
     ]
    },
    {
     "name": "stdout",
     "output_type": "stream",
     "text": [
      "[19:46:31] WARNING: C:/Users/Administrator/workspace/xgboost-win64_release_1.5.0/src/learner.cc:1115: Starting in XGBoost 1.3.0, the default evaluation metric used with the objective 'multi:softprob' was changed from 'merror' to 'mlogloss'. Explicitly set eval_metric if you'd like to restore the old behavior.\n"
     ]
    },
    {
     "name": "stderr",
     "output_type": "stream",
     "text": [
      "c:\\Users\\Ricardo\\Desktop\\Dissertação\\WellBeingAnalysis\\venv\\lib\\site-packages\\xgboost\\sklearn.py:1224: UserWarning: The use of label encoder in XGBClassifier is deprecated and will be removed in a future release. To remove this warning, do the following: 1) Pass option use_label_encoder=False when constructing XGBClassifier object; and 2) Encode your labels (y) as integers starting with 0, i.e. 0, 1, 2, ..., [num_class - 1].\n",
      "  warnings.warn(label_encoder_deprecation_msg, UserWarning)\n"
     ]
    },
    {
     "name": "stdout",
     "output_type": "stream",
     "text": [
      "[19:54:19] WARNING: C:/Users/Administrator/workspace/xgboost-win64_release_1.5.0/src/learner.cc:1115: Starting in XGBoost 1.3.0, the default evaluation metric used with the objective 'multi:softprob' was changed from 'merror' to 'mlogloss'. Explicitly set eval_metric if you'd like to restore the old behavior.\n"
     ]
    },
    {
     "data": {
      "text/plain": [
       "array([0.51781046, 0.51413399, 0.50923203, 0.51797386, 0.50514706])"
      ]
     },
     "execution_count": 22,
     "metadata": {},
     "output_type": "execute_result"
    }
   ],
   "source": [
    "# Run XGBoost Model for polarity predicition and evaluate results\n",
    "cross_val_score(XGB_classifier, wordvec_stars_df, res_stars[\"Stars\"], cv=cv)"
   ]
  },
  {
   "cell_type": "markdown",
   "metadata": {},
   "source": [
    "Support Vector Machines"
   ]
  },
  {
   "cell_type": "code",
   "execution_count": 23,
   "metadata": {},
   "outputs": [
    {
     "name": "stdout",
     "output_type": "stream",
     "text": [
      "              precision    recall  f1-score   support\n",
      "\n",
      "           1       0.58      0.63      0.60     12240\n",
      "           2       0.39      0.40      0.40     12240\n",
      "           3       0.40      0.38      0.39     12240\n",
      "           4       0.46      0.35      0.40     12240\n",
      "           5       0.63      0.76      0.69     12240\n",
      "\n",
      "    accuracy                           0.50     61200\n",
      "   macro avg       0.49      0.50      0.49     61200\n",
      "weighted avg       0.49      0.50      0.49     61200\n",
      "\n",
      "[[7653 3153  941  242  251]\n",
      " [3384 4938 2909  673  336]\n",
      " [1449 3277 4595 2023  896]\n",
      " [ 496 1117 2444 4264 3919]\n",
      " [ 233  274  489 1981 9263]]\n"
     ]
    }
   ],
   "source": [
    "# Run SVM Model for polarity predicition and evaluate results\n",
    "svm_pred = cross_val_predict(SVM_classifier, wordvec_stars_df, res_stars[\"Stars\"], cv=cv, n_jobs=4)\n",
    "print(classification_report(y_res_stars, svm_pred))\n",
    "print(confusion_matrix(y_res_stars, svm_pred))"
   ]
  },
  {
   "cell_type": "markdown",
   "metadata": {},
   "source": [
    "### Run Models for polarity classification"
   ]
  },
  {
   "cell_type": "markdown",
   "metadata": {},
   "source": [
    "Multinomial Naive Bayes"
   ]
  },
  {
   "cell_type": "code",
   "execution_count": 24,
   "metadata": {},
   "outputs": [
    {
     "name": "stdout",
     "output_type": "stream",
     "text": [
      "              precision    recall  f1-score   support\n",
      "\n",
      "    negative       0.61      0.45      0.51     25732\n",
      "     neutral       0.46      0.55      0.50     25732\n",
      "    positive       0.69      0.74      0.71     25732\n",
      "\n",
      "    accuracy                           0.58     77196\n",
      "   macro avg       0.59      0.58      0.58     77196\n",
      "weighted avg       0.59      0.58      0.58     77196\n",
      "\n",
      "[[11466 11405  2861]\n",
      " [ 5770 14203  5759]\n",
      " [ 1579  5217 18936]]\n"
     ]
    }
   ],
   "source": [
    "# Run Naive Bayes Model for polarity predicition and evaluate results\n",
    "nb_pred = cross_val_predict(NB_classifier, wordvec_pol_df, res_pol[\"Polarity\"], cv=cv)\n",
    "print(classification_report(y_res_pol, nb_pred))\n",
    "print(confusion_matrix(y_res_pol, nb_pred))"
   ]
  },
  {
   "cell_type": "markdown",
   "metadata": {},
   "source": [
    "Random Forest"
   ]
  },
  {
   "cell_type": "code",
   "execution_count": 25,
   "metadata": {},
   "outputs": [
    {
     "name": "stdout",
     "output_type": "stream",
     "text": [
      "              precision    recall  f1-score   support\n",
      "\n",
      "    negative       0.75      0.56      0.64     25732\n",
      "     neutral       0.59      0.75      0.66     25732\n",
      "    positive       0.79      0.78      0.78     25732\n",
      "\n",
      "    accuracy                           0.70     77196\n",
      "   macro avg       0.71      0.70      0.70     77196\n",
      "weighted avg       0.71      0.70      0.70     77196\n",
      "\n",
      "[[14445  8905  2382]\n",
      " [ 3448 19289  2995]\n",
      " [ 1425  4238 20069]]\n"
     ]
    }
   ],
   "source": [
    "# Run Random Forest Model for polarity predicition and evaluate results\n",
    "rf_pred = cross_val_predict(RF_classifier, wordvec_pol_df, res_pol[\"Polarity\"], cv=cv)\n",
    "print(classification_report(y_res_pol, rf_pred))\n",
    "print(confusion_matrix(y_res_pol, rf_pred))"
   ]
  },
  {
   "cell_type": "markdown",
   "metadata": {},
   "source": [
    "XGBoost"
   ]
  },
  {
   "cell_type": "code",
   "execution_count": 26,
   "metadata": {},
   "outputs": [
    {
     "name": "stderr",
     "output_type": "stream",
     "text": [
      "c:\\Users\\Ricardo\\Desktop\\Dissertação\\WellBeingAnalysis\\venv\\lib\\site-packages\\xgboost\\sklearn.py:1224: UserWarning: The use of label encoder in XGBClassifier is deprecated and will be removed in a future release. To remove this warning, do the following: 1) Pass option use_label_encoder=False when constructing XGBClassifier object; and 2) Encode your labels (y) as integers starting with 0, i.e. 0, 1, 2, ..., [num_class - 1].\n",
      "  warnings.warn(label_encoder_deprecation_msg, UserWarning)\n"
     ]
    },
    {
     "name": "stdout",
     "output_type": "stream",
     "text": [
      "[20:59:41] WARNING: C:/Users/Administrator/workspace/xgboost-win64_release_1.5.0/src/learner.cc:1115: Starting in XGBoost 1.3.0, the default evaluation metric used with the objective 'multi:softprob' was changed from 'merror' to 'mlogloss'. Explicitly set eval_metric if you'd like to restore the old behavior.\n"
     ]
    },
    {
     "name": "stderr",
     "output_type": "stream",
     "text": [
      "c:\\Users\\Ricardo\\Desktop\\Dissertação\\WellBeingAnalysis\\venv\\lib\\site-packages\\xgboost\\sklearn.py:1224: UserWarning: The use of label encoder in XGBClassifier is deprecated and will be removed in a future release. To remove this warning, do the following: 1) Pass option use_label_encoder=False when constructing XGBClassifier object; and 2) Encode your labels (y) as integers starting with 0, i.e. 0, 1, 2, ..., [num_class - 1].\n",
      "  warnings.warn(label_encoder_deprecation_msg, UserWarning)\n"
     ]
    },
    {
     "name": "stdout",
     "output_type": "stream",
     "text": [
      "[21:18:40] WARNING: C:/Users/Administrator/workspace/xgboost-win64_release_1.5.0/src/learner.cc:1115: Starting in XGBoost 1.3.0, the default evaluation metric used with the objective 'multi:softprob' was changed from 'merror' to 'mlogloss'. Explicitly set eval_metric if you'd like to restore the old behavior.\n"
     ]
    },
    {
     "name": "stderr",
     "output_type": "stream",
     "text": [
      "c:\\Users\\Ricardo\\Desktop\\Dissertação\\WellBeingAnalysis\\venv\\lib\\site-packages\\xgboost\\sklearn.py:1224: UserWarning: The use of label encoder in XGBClassifier is deprecated and will be removed in a future release. To remove this warning, do the following: 1) Pass option use_label_encoder=False when constructing XGBClassifier object; and 2) Encode your labels (y) as integers starting with 0, i.e. 0, 1, 2, ..., [num_class - 1].\n",
      "  warnings.warn(label_encoder_deprecation_msg, UserWarning)\n"
     ]
    },
    {
     "name": "stdout",
     "output_type": "stream",
     "text": [
      "[21:37:32] WARNING: C:/Users/Administrator/workspace/xgboost-win64_release_1.5.0/src/learner.cc:1115: Starting in XGBoost 1.3.0, the default evaluation metric used with the objective 'multi:softprob' was changed from 'merror' to 'mlogloss'. Explicitly set eval_metric if you'd like to restore the old behavior.\n"
     ]
    },
    {
     "name": "stderr",
     "output_type": "stream",
     "text": [
      "c:\\Users\\Ricardo\\Desktop\\Dissertação\\WellBeingAnalysis\\venv\\lib\\site-packages\\xgboost\\sklearn.py:1224: UserWarning: The use of label encoder in XGBClassifier is deprecated and will be removed in a future release. To remove this warning, do the following: 1) Pass option use_label_encoder=False when constructing XGBClassifier object; and 2) Encode your labels (y) as integers starting with 0, i.e. 0, 1, 2, ..., [num_class - 1].\n",
      "  warnings.warn(label_encoder_deprecation_msg, UserWarning)\n"
     ]
    },
    {
     "name": "stdout",
     "output_type": "stream",
     "text": [
      "[21:56:49] WARNING: C:/Users/Administrator/workspace/xgboost-win64_release_1.5.0/src/learner.cc:1115: Starting in XGBoost 1.3.0, the default evaluation metric used with the objective 'multi:softprob' was changed from 'merror' to 'mlogloss'. Explicitly set eval_metric if you'd like to restore the old behavior.\n"
     ]
    },
    {
     "name": "stderr",
     "output_type": "stream",
     "text": [
      "c:\\Users\\Ricardo\\Desktop\\Dissertação\\WellBeingAnalysis\\venv\\lib\\site-packages\\xgboost\\sklearn.py:1224: UserWarning: The use of label encoder in XGBClassifier is deprecated and will be removed in a future release. To remove this warning, do the following: 1) Pass option use_label_encoder=False when constructing XGBClassifier object; and 2) Encode your labels (y) as integers starting with 0, i.e. 0, 1, 2, ..., [num_class - 1].\n",
      "  warnings.warn(label_encoder_deprecation_msg, UserWarning)\n"
     ]
    },
    {
     "name": "stdout",
     "output_type": "stream",
     "text": [
      "[22:18:35] WARNING: C:/Users/Administrator/workspace/xgboost-win64_release_1.5.0/src/learner.cc:1115: Starting in XGBoost 1.3.0, the default evaluation metric used with the objective 'multi:softprob' was changed from 'merror' to 'mlogloss'. Explicitly set eval_metric if you'd like to restore the old behavior.\n"
     ]
    },
    {
     "data": {
      "text/plain": [
       "array([0.69611399, 0.68832178, 0.68462983, 0.68819224, 0.68948766])"
      ]
     },
     "execution_count": 26,
     "metadata": {},
     "output_type": "execute_result"
    }
   ],
   "source": [
    "# Run XGBoost Model for polarity predicition and evaluate results\n",
    "cross_val_score(XGB_classifier, wordvec_pol_df, res_pol[\"Polarity\"], cv=cv)"
   ]
  },
  {
   "cell_type": "markdown",
   "metadata": {},
   "source": [
    "Support Vector Machines"
   ]
  },
  {
   "cell_type": "code",
   "execution_count": 27,
   "metadata": {},
   "outputs": [
    {
     "name": "stdout",
     "output_type": "stream",
     "text": [
      "              precision    recall  f1-score   support\n",
      "\n",
      "    negative       0.69      0.67      0.68     25732\n",
      "     neutral       0.56      0.61      0.58     25732\n",
      "    positive       0.82      0.77      0.79     25732\n",
      "\n",
      "    accuracy                           0.68     77196\n",
      "   macro avg       0.69      0.68      0.69     77196\n",
      "weighted avg       0.69      0.68      0.69     77196\n",
      "\n",
      "[[17156  7591   985]\n",
      " [ 6603 15677  3452]\n",
      " [ 1196  4658 19878]]\n"
     ]
    }
   ],
   "source": [
    "# Run SVM Model for polarity predicition and evaluate results\n",
    "svm_pred = cross_val_predict(SVM_classifier, wordvec_pol_df, res_pol[\"Polarity\"], cv=cv, n_jobs=4)\n",
    "print(classification_report(y_res_pol, svm_pred))\n",
    "print(confusion_matrix(y_res_pol, svm_pred))"
   ]
  }
 ],
 "metadata": {
  "interpreter": {
   "hash": "1e4d29a3b69ac56eca58f5d61a6b46285dbd379c871590cc08b260a097abd0ce"
  },
  "kernelspec": {
   "display_name": "Python 3.9.4 64-bit ('venv': venv)",
   "name": "python3"
  },
  "language_info": {
   "codemirror_mode": {
    "name": "ipython",
    "version": 3
   },
   "file_extension": ".py",
   "mimetype": "text/x-python",
   "name": "python",
   "nbconvert_exporter": "python",
   "pygments_lexer": "ipython3",
   "version": "3.9.4"
  },
  "orig_nbformat": 4
 },
 "nbformat": 4,
 "nbformat_minor": 2
}
