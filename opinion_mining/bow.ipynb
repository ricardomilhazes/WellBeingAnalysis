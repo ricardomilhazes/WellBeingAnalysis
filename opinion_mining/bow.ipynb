{
 "cells": [
  {
   "cell_type": "markdown",
   "metadata": {},
   "source": [
    "## BOW - Bag of Words"
   ]
  },
  {
   "cell_type": "code",
   "execution_count": null,
   "metadata": {},
   "outputs": [],
   "source": [
    "# Imports\n",
    "import pandas as pd\n",
    "\n",
    "from xgboost import XGBRegressor\n",
    "\n",
    "from sklearn import feature_extraction, naive_bayes, svm\n",
    "from sklearn.ensemble import RandomForestClassifier, AdaBoostClassifier\n",
    "from sklearn.tree import DecisionTreeClassifier\n",
    "from sklearn import pipeline\n",
    "from sklearn.metrics import classification_report, confusion_matrix, plot_confusion_matrix\n",
    "from sklearn.model_selection import KFold, cross_val_predict, StratifiedKFold"
   ]
  },
  {
   "cell_type": "code",
   "execution_count": null,
   "metadata": {},
   "outputs": [],
   "source": [
    "# Load Data\n",
    "data = pd.read_csv(\"data/filtered_reviews.csv\", names=[\"Review Text\", \"Stars\", \"Polarity\"])\n",
    "data"
   ]
  },
  {
   "cell_type": "markdown",
   "metadata": {},
   "source": [
    "### Create Bow Dataframe"
   ]
  },
  {
   "cell_type": "code",
   "execution_count": null,
   "metadata": {},
   "outputs": [],
   "source": [
    "# Creating a BOW vectorizer using Tf_idf - a more advanced version of the classic BOW algorithm\n",
    "vectorizer = feature_extraction.text.CountVectorizer()"
   ]
  },
  {
   "cell_type": "code",
   "execution_count": null,
   "metadata": {},
   "outputs": [],
   "source": [
    "# Creating BOW vectors for dataset vocabulary\n",
    "corpus = data[\"Review Text\"].values.astype('U')\n",
    "vectorizer.fit(corpus)"
   ]
  },
  {
   "cell_type": "markdown",
   "metadata": {},
   "source": [
    "### Create Classifiers"
   ]
  },
  {
   "cell_type": "code",
   "execution_count": null,
   "metadata": {},
   "outputs": [],
   "source": [
    "SVM_classifier = svm.SVC()\n",
    "NB_classifier = naive_bayes.MultinomialNB()\n",
    "RF_classifier = RandomForestClassifier()\n",
    "DT_classifier = DecisionTreeClassifier()\n",
    "AB_classifier = AdaBoostClassifier()\n",
    "# XGB_classifier = XGBRegressor()"
   ]
  },
  {
   "cell_type": "markdown",
   "metadata": {},
   "source": [
    "### Create model pipelines"
   ]
  },
  {
   "cell_type": "code",
   "execution_count": null,
   "metadata": {},
   "outputs": [],
   "source": [
    "NB_model = pipeline.Pipeline([(\"vectorizer\", vectorizer),(\"classifier\", NB_classifier)])\n",
    "SVM_model = pipeline.Pipeline([(\"vectorizer\", vectorizer),(\"classifier\", SVM_classifier)])\n",
    "RF_model = pipeline.Pipeline([(\"vectorizer\", vectorizer),(\"classifier\", RF_classifier)])\n",
    "DT_model = pipeline.Pipeline([(\"vectorizer\", vectorizer),(\"classifier\", DT_classifier)])\n",
    "AB_model = pipeline.Pipeline([(\"vectorizer\", vectorizer),(\"classifier\", AB_classifier)])\n",
    "# XGB_model = pipeline.Pipeline([(\"vectorizer\", vectorizer),(\"classifier\", XGB_classifier)])"
   ]
  },
  {
   "cell_type": "markdown",
   "metadata": {},
   "source": [
    "### Cross-validation for model evaluation"
   ]
  },
  {
   "cell_type": "code",
   "execution_count": null,
   "metadata": {},
   "outputs": [],
   "source": [
    "cv = StratifiedKFold(n_splits=10)"
   ]
  },
  {
   "cell_type": "code",
   "execution_count": null,
   "metadata": {},
   "outputs": [],
   "source": [
    "# Run Naive Bayes Model for star predicition and evaluate results\n",
    "nb_stars_pred = cross_val_predict(NB_model, data[\"Review Text\"].values.astype('U'), data[\"Stars\"], cv=cv)\n",
    "print(classification_report(data[\"Stars\"], nb_stars_pred))\n",
    "print(confusion_matrix(data[\"Stars\"], nb_stars_pred))"
   ]
  },
  {
   "cell_type": "code",
   "execution_count": null,
   "metadata": {},
   "outputs": [],
   "source": [
    "# Run Naive Bayes Model for polarity predicition and evaluate results\n",
    "nb_pol_pred = cross_val_predict(NB_model, data[\"Review Text\"].values.astype('U'), data[\"Polarity\"], cv=cv)\n",
    "print(classification_report(data[\"Polarity\"], nb_pol_pred))\n",
    "print(confusion_matrix(data[\"Polarity\"], nb_pol_pred))"
   ]
  },
  {
   "cell_type": "code",
   "execution_count": null,
   "metadata": {},
   "outputs": [],
   "source": [
    "# Run SVM Model for star predicition and evaluate results\n",
    "svm_stars_pred = cross_val_predict(SVM_model, data[\"Review Text\"].values.astype('U'), data[\"Stars\"], cv=cv)\n",
    "print(classification_report(data[\"Stars\"], svm_stars_pred))\n",
    "print(confusion_matrix(data[\"Stars\"], svm_stars_pred))"
   ]
  },
  {
   "cell_type": "code",
   "execution_count": null,
   "metadata": {},
   "outputs": [],
   "source": [
    "# Run SVM Model for polarity predicition and evaluate results\n",
    "svm_pol_pred = cross_val_predict(SVM_model, data[\"Review Text\"].values.astype('U'), data[\"Polarity\"], cv=cv)\n",
    "print(classification_report(data[\"Polarity\"], svm_pol_pred))\n",
    "print(confusion_matrix(data[\"Polarity\"], svm_pol_pred))"
   ]
  },
  {
   "cell_type": "code",
   "execution_count": null,
   "metadata": {},
   "outputs": [],
   "source": [
    "# Run Random Forest Model for star predicition and evaluate results\n",
    "rf_stars_pred = cross_val_predict(RF_model, data[\"Review Text\"].values.astype('U'), data[\"Stars\"], cv=cv)\n",
    "print(classification_report(data[\"Stars\"], rf_stars_pred))\n",
    "print(confusion_matrix(data[\"Stars\"], rf_stars_pred))"
   ]
  },
  {
   "cell_type": "code",
   "execution_count": null,
   "metadata": {},
   "outputs": [],
   "source": [
    "# Run Random Forest Model for polarity predicition and evaluate results\n",
    "rf_pol_pred = cross_val_predict(RF_model, data[\"Review Text\"].values.astype('U'), data[\"Polarity\"], cv=cv)\n",
    "print(classification_report(data[\"Polarity\"], rf_pol_pred))\n",
    "print(confusion_matrix(data[\"Polarity\"], rf_pol_pred))"
   ]
  },
  {
   "cell_type": "code",
   "execution_count": null,
   "metadata": {},
   "outputs": [],
   "source": [
    "# Run Decision Tree Model for star predicition and evaluate results\n",
    "dt_stars_pred = cross_val_predict(DT_model, data[\"Review Text\"].values.astype('U'), data[\"Stars\"], cv=cv)\n",
    "print(classification_report(data[\"Stars\"], dt_stars_pred))\n",
    "print(confusion_matrix(data[\"Stars\"], dt_stars_pred))"
   ]
  },
  {
   "cell_type": "code",
   "execution_count": null,
   "metadata": {},
   "outputs": [],
   "source": [
    "# Run Decision Tree Model for polarity predicition and evaluate results\n",
    "dt_pol_pred = cross_val_predict(DT_model, data[\"Review Text\"].values.astype('U'), data[\"Polarity\"], cv=cv)\n",
    "print(classification_report(data[\"Polarity\"], dt_pol_pred))\n",
    "print(confusion_matrix(data[\"Polarity\"], dt_pol_pred))"
   ]
  },
  {
   "cell_type": "code",
   "execution_count": null,
   "metadata": {},
   "outputs": [],
   "source": [
    "# Run Ada Boost Model for star predicition and evaluate results\n",
    "ab_stars_pred = cross_val_predict(AB_model, data[\"Review Text\"].values.astype('U'), data[\"Stars\"], cv=cv)\n",
    "print(classification_report(data[\"Stars\"], ab_stars_pred))\n",
    "print(confusion_matrix(data[\"Stars\"], ab_stars_pred))"
   ]
  },
  {
   "cell_type": "code",
   "execution_count": null,
   "metadata": {},
   "outputs": [],
   "source": [
    "# Run Ada Boost Model for polarity predicition and evaluate results\n",
    "ab_pol_pred = cross_val_predict(AB_model, data[\"Review Text\"].values.astype('U'), data[\"Polarity\"], cv=cv)\n",
    "print(classification_report(data[\"Polarity\"], ab_pol_pred))\n",
    "print(confusion_matrix(data[\"Polarity\"], ab_pol_pred))"
   ]
  }
 ],
 "metadata": {
  "interpreter": {
   "hash": "1e4d29a3b69ac56eca58f5d61a6b46285dbd379c871590cc08b260a097abd0ce"
  },
  "kernelspec": {
   "display_name": "Python 3.9.4 64-bit ('venv': venv)",
   "name": "python3"
  },
  "language_info": {
   "codemirror_mode": {
    "name": "ipython",
    "version": 3
   },
   "file_extension": ".py",
   "mimetype": "text/x-python",
   "name": "python",
   "nbconvert_exporter": "python",
   "pygments_lexer": "ipython3",
   "version": "3.9.4"
  },
  "orig_nbformat": 4
 },
 "nbformat": 4,
 "nbformat_minor": 2
}
