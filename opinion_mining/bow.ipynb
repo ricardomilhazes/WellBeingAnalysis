{
 "cells": [
  {
   "cell_type": "markdown",
   "metadata": {},
   "source": [
    "## BOW - Bag of Words"
   ]
  },
  {
   "cell_type": "code",
   "execution_count": 1,
   "metadata": {},
   "outputs": [],
   "source": [
    "# Imports\n",
    "import pandas as pd\n",
    "import ast\n",
    "import numpy as np\n",
    "\n",
    "from utils.utils import isSubArray\n",
    "\n",
    "from nltk import pos_tag\n",
    "from nltk.tokenize import word_tokenize\n",
    "\n",
    "from collections import Counter\n",
    "\n",
    "from imblearn.under_sampling import RandomUnderSampler\n",
    "\n",
    "from xgboost import XGBClassifier\n",
    "\n",
    "from scipy import sparse\n",
    "\n",
    "from sklearn import feature_extraction, naive_bayes, svm\n",
    "from sklearn.ensemble import RandomForestClassifier\n",
    "from sklearn import pipeline\n",
    "from sklearn.metrics import classification_report, confusion_matrix\n",
    "from sklearn.model_selection import cross_val_predict, StratifiedKFold, cross_val_score, train_test_split, GridSearchCV"
   ]
  },
  {
   "cell_type": "code",
   "execution_count": 2,
   "metadata": {},
   "outputs": [],
   "source": [
    "# Load Data\n",
    "data = pd.read_csv(\"data/filtered_reviews_large.csv\", names=[\"Review Text\", \"Stars\", \"Polarity\", \"Processed Review Text\"])\n",
    "# data = pd.read_csv(\"data/filtered_reviews.csv\", names=[\"Review Text\", \"Stars\", \"Polarity\"])"
   ]
  },
  {
   "cell_type": "markdown",
   "metadata": {},
   "source": [
    "### Undersampling to balance dataset"
   ]
  },
  {
   "cell_type": "code",
   "execution_count": 3,
   "metadata": {},
   "outputs": [
    {
     "data": {
      "text/html": [
       "<div>\n",
       "<style scoped>\n",
       "    .dataframe tbody tr th:only-of-type {\n",
       "        vertical-align: middle;\n",
       "    }\n",
       "\n",
       "    .dataframe tbody tr th {\n",
       "        vertical-align: top;\n",
       "    }\n",
       "\n",
       "    .dataframe thead th {\n",
       "        text-align: right;\n",
       "    }\n",
       "</style>\n",
       "<table border=\"1\" class=\"dataframe\">\n",
       "  <thead>\n",
       "    <tr style=\"text-align: right;\">\n",
       "      <th></th>\n",
       "      <th>Processed Review Text</th>\n",
       "      <th>Review Text</th>\n",
       "    </tr>\n",
       "  </thead>\n",
       "  <tbody>\n",
       "    <tr>\n",
       "      <th>0</th>\n",
       "      <td>be really good course  recommend have large pe...</td>\n",
       "      <td>it was really good course i recommend for havi...</td>\n",
       "    </tr>\n",
       "    <tr>\n",
       "      <th>1</th>\n",
       "      <td>be really good course  recommend have large pe...</td>\n",
       "      <td>it was really good course i recommend for havi...</td>\n",
       "    </tr>\n",
       "    <tr>\n",
       "      <th>2</th>\n",
       "      <td>instructions final project project be biggest ...</td>\n",
       "      <td>the instructions for the final project the pro...</td>\n",
       "    </tr>\n",
       "    <tr>\n",
       "      <th>3</th>\n",
       "      <td>have like do assignments weren lock payment re...</td>\n",
       "      <td>would have liked to do the assignments if they...</td>\n",
       "    </tr>\n",
       "    <tr>\n",
       "      <th>4</th>\n",
       "      <td>coursera issue not course coursera app apple t...</td>\n",
       "      <td>coursera issue not the course itself coursera ...</td>\n",
       "    </tr>\n",
       "  </tbody>\n",
       "</table>\n",
       "</div>"
      ],
      "text/plain": [
       "                               Processed Review Text  \\\n",
       "0  be really good course  recommend have large pe...   \n",
       "1  be really good course  recommend have large pe...   \n",
       "2  instructions final project project be biggest ...   \n",
       "3  have like do assignments weren lock payment re...   \n",
       "4  coursera issue not course coursera app apple t...   \n",
       "\n",
       "                                         Review Text  \n",
       "0  it was really good course i recommend for havi...  \n",
       "1  it was really good course i recommend for havi...  \n",
       "2  the instructions for the final project the pro...  \n",
       "3  would have liked to do the assignments if they...  \n",
       "4  coursera issue not the course itself coursera ...  "
      ]
     },
     "execution_count": 3,
     "metadata": {},
     "output_type": "execute_result"
    }
   ],
   "source": [
    "reviews_df = data[[\"Processed Review Text\", \"Review Text\"]]\n",
    "reviews_df.head()"
   ]
  },
  {
   "cell_type": "code",
   "execution_count": 4,
   "metadata": {},
   "outputs": [],
   "source": [
    "under = RandomUnderSampler(random_state=1)"
   ]
  },
  {
   "cell_type": "code",
   "execution_count": 5,
   "metadata": {},
   "outputs": [
    {
     "name": "stdout",
     "output_type": "stream",
     "text": [
      "Counter({1: 12240, 2: 12240, 3: 12240, 4: 12240, 5: 12240})\n"
     ]
    }
   ],
   "source": [
    "X, y_stars, y_pol = (reviews_df, data[\"Stars\"].values.reshape(-1,1), data[\"Polarity\"].values.reshape(-1,1))\n",
    "X_res_stars, y_res_stars = under.fit_resample(X, y_stars)\n",
    "print(Counter(y_res_stars))"
   ]
  },
  {
   "cell_type": "code",
   "execution_count": 6,
   "metadata": {},
   "outputs": [
    {
     "name": "stdout",
     "output_type": "stream",
     "text": [
      "Counter({'negative': 25732, 'neutral': 25732, 'positive': 25732})\n"
     ]
    }
   ],
   "source": [
    "X_res_pol, y_res_pol = under.fit_resample(reviews_df, y_pol)\n",
    "print(Counter(y_res_pol))"
   ]
  },
  {
   "cell_type": "code",
   "execution_count": 7,
   "metadata": {},
   "outputs": [],
   "source": [
    "stars_data = {\n",
    "    'Review Text': X_res_stars[\"Review Text\"].ravel(),\n",
    "    'Processed Review Text': X_res_stars[\"Processed Review Text\"].ravel(),\n",
    "    'Stars': y_res_stars.ravel()\n",
    "}\n",
    "\n",
    "pol_data = {\n",
    "    'Review Text': X_res_pol[\"Review Text\"].ravel(),\n",
    "    'Processed Review Text': X_res_pol[\"Processed Review Text\"].ravel(),\n",
    "    'Polarity': y_res_pol.ravel()\n",
    "}\n",
    "\n",
    "res_stars = pd.DataFrame(stars_data)\n",
    "res_pol = pd.DataFrame(pol_data)"
   ]
  },
  {
   "cell_type": "markdown",
   "metadata": {},
   "source": [
    "### Create Bow Dataframe"
   ]
  },
  {
   "cell_type": "code",
   "execution_count": 8,
   "metadata": {},
   "outputs": [],
   "source": [
    "merged_reviews = [res_pol[\"Processed Review Text\"], res_stars[\"Processed Review Text\"]]\n",
    "review_texts = [item for sublist in merged_reviews for item in sublist]"
   ]
  },
  {
   "cell_type": "code",
   "execution_count": 9,
   "metadata": {},
   "outputs": [],
   "source": [
    "# Creating a BOW vectorizer using Tf_idf - a more advanced version of the classic BOW algorithm\n",
    "vectorizer = feature_extraction.text.TfidfVectorizer()"
   ]
  },
  {
   "cell_type": "code",
   "execution_count": 10,
   "metadata": {},
   "outputs": [
    {
     "data": {
      "text/plain": [
       "TfidfVectorizer()"
      ]
     },
     "execution_count": 10,
     "metadata": {},
     "output_type": "execute_result"
    }
   ],
   "source": [
    "# Creating BOW vectors for dataset vocabulary\n",
    "corpus = pd.Series(review_texts).values.astype('U')\n",
    "vectorizer.fit(corpus)"
   ]
  },
  {
   "cell_type": "code",
   "execution_count": 11,
   "metadata": {},
   "outputs": [
    {
     "data": {
      "text/plain": [
       "(61200, 30766)"
      ]
     },
     "execution_count": 11,
     "metadata": {},
     "output_type": "execute_result"
    }
   ],
   "source": [
    "bow_stars_array = vectorizer.transform(res_stars[\"Processed Review Text\"].values.astype('U'))\n",
    "bow_stars_array.shape"
   ]
  },
  {
   "cell_type": "code",
   "execution_count": 12,
   "metadata": {},
   "outputs": [
    {
     "data": {
      "text/plain": [
       "(77196, 30766)"
      ]
     },
     "execution_count": 12,
     "metadata": {},
     "output_type": "execute_result"
    }
   ],
   "source": [
    "bow_pol_array = vectorizer.transform(res_pol[\"Processed Review Text\"].values.astype('U'))\n",
    "bow_pol_array.shape"
   ]
  },
  {
   "cell_type": "markdown",
   "metadata": {},
   "source": [
    "### Create Classifiers"
   ]
  },
  {
   "cell_type": "code",
   "execution_count": 13,
   "metadata": {},
   "outputs": [],
   "source": [
    "NB_classifier = naive_bayes.MultinomialNB()\n",
    "RF_classifier = RandomForestClassifier(random_state=48)\n",
    "XGB_classifier = XGBClassifier()\n",
    "SVM_classifier = svm.SVC(random_state=24)"
   ]
  },
  {
   "cell_type": "markdown",
   "metadata": {},
   "source": [
    "### Run Models with cross validation"
   ]
  },
  {
   "cell_type": "code",
   "execution_count": 14,
   "metadata": {},
   "outputs": [],
   "source": [
    "cv = StratifiedKFold(n_splits=5)"
   ]
  },
  {
   "cell_type": "markdown",
   "metadata": {},
   "source": [
    "Multinomial Naive Bayes"
   ]
  },
  {
   "cell_type": "code",
   "execution_count": 15,
   "metadata": {},
   "outputs": [
    {
     "name": "stdout",
     "output_type": "stream",
     "text": [
      "              precision    recall  f1-score   support\n",
      "\n",
      "           1       0.60      0.54      0.57     12240\n",
      "           2       0.35      0.43      0.39     12240\n",
      "           3       0.38      0.38      0.38     12240\n",
      "           4       0.43      0.31      0.36     12240\n",
      "           5       0.62      0.71      0.66     12240\n",
      "\n",
      "    accuracy                           0.47     61200\n",
      "   macro avg       0.48      0.47      0.47     61200\n",
      "weighted avg       0.48      0.47      0.47     61200\n",
      "\n",
      "[[6623 3917 1109  323  268]\n",
      " [2574 5265 3249  787  365]\n",
      " [1148 3808 4658 1744  882]\n",
      " [ 423 1608 2655 3804 3750]\n",
      " [ 182  499  676 2186 8697]]\n"
     ]
    }
   ],
   "source": [
    "# Run Naive Bayes Model for polarity predicition and evaluate results\n",
    "nb_pred = cross_val_predict(NB_classifier, bow_stars_array, res_stars[\"Stars\"], cv=cv)\n",
    "print(classification_report(res_stars[\"Stars\"], nb_pred))\n",
    "print(confusion_matrix(res_stars[\"Stars\"], nb_pred))"
   ]
  },
  {
   "cell_type": "markdown",
   "metadata": {},
   "source": [
    "Random Forest"
   ]
  },
  {
   "cell_type": "code",
   "execution_count": 16,
   "metadata": {},
   "outputs": [
    {
     "name": "stdout",
     "output_type": "stream",
     "text": [
      "              precision    recall  f1-score   support\n",
      "\n",
      "           1       0.60      0.83      0.69     12240\n",
      "           2       0.48      0.20      0.28     12240\n",
      "           3       0.45      0.52      0.49     12240\n",
      "           4       0.46      0.37      0.41     12240\n",
      "           5       0.61      0.76      0.68     12240\n",
      "\n",
      "    accuracy                           0.54     61200\n",
      "   macro avg       0.52      0.54      0.51     61200\n",
      "weighted avg       0.52      0.54      0.51     61200\n",
      "\n",
      "[[10215   784   802   214   225]\n",
      " [ 4287  2427  3849  1028   649]\n",
      " [ 1669  1224  6381  2012   954]\n",
      " [  680   463  2471  4528  4098]\n",
      " [  316   139   542  1963  9280]]\n"
     ]
    }
   ],
   "source": [
    "# Run Random Forest Model for polarity predicition and evaluate results\n",
    "rf_pred = cross_val_predict(RF_classifier, bow_stars_array, res_stars[\"Stars\"], cv=cv)\n",
    "print(classification_report(res_stars[\"Stars\"], rf_pred))\n",
    "print(confusion_matrix(res_stars[\"Stars\"], rf_pred))"
   ]
  },
  {
   "cell_type": "markdown",
   "metadata": {},
   "source": [
    "XGBoost"
   ]
  },
  {
   "cell_type": "code",
   "execution_count": 17,
   "metadata": {},
   "outputs": [
    {
     "name": "stderr",
     "output_type": "stream",
     "text": [
      "c:\\Users\\Ricardo\\Desktop\\Dissertação\\WellBeingAnalysis\\venv\\lib\\site-packages\\xgboost\\sklearn.py:1224: UserWarning: The use of label encoder in XGBClassifier is deprecated and will be removed in a future release. To remove this warning, do the following: 1) Pass option use_label_encoder=False when constructing XGBClassifier object; and 2) Encode your labels (y) as integers starting with 0, i.e. 0, 1, 2, ..., [num_class - 1].\n",
      "  warnings.warn(label_encoder_deprecation_msg, UserWarning)\n"
     ]
    },
    {
     "name": "stdout",
     "output_type": "stream",
     "text": [
      "[16:36:55] WARNING: C:/Users/Administrator/workspace/xgboost-win64_release_1.5.0/src/learner.cc:1115: Starting in XGBoost 1.3.0, the default evaluation metric used with the objective 'multi:softprob' was changed from 'merror' to 'mlogloss'. Explicitly set eval_metric if you'd like to restore the old behavior.\n"
     ]
    },
    {
     "name": "stderr",
     "output_type": "stream",
     "text": [
      "c:\\Users\\Ricardo\\Desktop\\Dissertação\\WellBeingAnalysis\\venv\\lib\\site-packages\\xgboost\\sklearn.py:1224: UserWarning: The use of label encoder in XGBClassifier is deprecated and will be removed in a future release. To remove this warning, do the following: 1) Pass option use_label_encoder=False when constructing XGBClassifier object; and 2) Encode your labels (y) as integers starting with 0, i.e. 0, 1, 2, ..., [num_class - 1].\n",
      "  warnings.warn(label_encoder_deprecation_msg, UserWarning)\n"
     ]
    },
    {
     "name": "stdout",
     "output_type": "stream",
     "text": [
      "[16:40:37] WARNING: C:/Users/Administrator/workspace/xgboost-win64_release_1.5.0/src/learner.cc:1115: Starting in XGBoost 1.3.0, the default evaluation metric used with the objective 'multi:softprob' was changed from 'merror' to 'mlogloss'. Explicitly set eval_metric if you'd like to restore the old behavior.\n"
     ]
    },
    {
     "name": "stderr",
     "output_type": "stream",
     "text": [
      "c:\\Users\\Ricardo\\Desktop\\Dissertação\\WellBeingAnalysis\\venv\\lib\\site-packages\\xgboost\\sklearn.py:1224: UserWarning: The use of label encoder in XGBClassifier is deprecated and will be removed in a future release. To remove this warning, do the following: 1) Pass option use_label_encoder=False when constructing XGBClassifier object; and 2) Encode your labels (y) as integers starting with 0, i.e. 0, 1, 2, ..., [num_class - 1].\n",
      "  warnings.warn(label_encoder_deprecation_msg, UserWarning)\n"
     ]
    },
    {
     "name": "stdout",
     "output_type": "stream",
     "text": [
      "[16:44:26] WARNING: C:/Users/Administrator/workspace/xgboost-win64_release_1.5.0/src/learner.cc:1115: Starting in XGBoost 1.3.0, the default evaluation metric used with the objective 'multi:softprob' was changed from 'merror' to 'mlogloss'. Explicitly set eval_metric if you'd like to restore the old behavior.\n"
     ]
    },
    {
     "name": "stderr",
     "output_type": "stream",
     "text": [
      "c:\\Users\\Ricardo\\Desktop\\Dissertação\\WellBeingAnalysis\\venv\\lib\\site-packages\\xgboost\\sklearn.py:1224: UserWarning: The use of label encoder in XGBClassifier is deprecated and will be removed in a future release. To remove this warning, do the following: 1) Pass option use_label_encoder=False when constructing XGBClassifier object; and 2) Encode your labels (y) as integers starting with 0, i.e. 0, 1, 2, ..., [num_class - 1].\n",
      "  warnings.warn(label_encoder_deprecation_msg, UserWarning)\n"
     ]
    },
    {
     "name": "stdout",
     "output_type": "stream",
     "text": [
      "[16:48:36] WARNING: C:/Users/Administrator/workspace/xgboost-win64_release_1.5.0/src/learner.cc:1115: Starting in XGBoost 1.3.0, the default evaluation metric used with the objective 'multi:softprob' was changed from 'merror' to 'mlogloss'. Explicitly set eval_metric if you'd like to restore the old behavior.\n"
     ]
    },
    {
     "name": "stderr",
     "output_type": "stream",
     "text": [
      "c:\\Users\\Ricardo\\Desktop\\Dissertação\\WellBeingAnalysis\\venv\\lib\\site-packages\\xgboost\\sklearn.py:1224: UserWarning: The use of label encoder in XGBClassifier is deprecated and will be removed in a future release. To remove this warning, do the following: 1) Pass option use_label_encoder=False when constructing XGBClassifier object; and 2) Encode your labels (y) as integers starting with 0, i.e. 0, 1, 2, ..., [num_class - 1].\n",
      "  warnings.warn(label_encoder_deprecation_msg, UserWarning)\n"
     ]
    },
    {
     "name": "stdout",
     "output_type": "stream",
     "text": [
      "[16:52:52] WARNING: C:/Users/Administrator/workspace/xgboost-win64_release_1.5.0/src/learner.cc:1115: Starting in XGBoost 1.3.0, the default evaluation metric used with the objective 'multi:softprob' was changed from 'merror' to 'mlogloss'. Explicitly set eval_metric if you'd like to restore the old behavior.\n"
     ]
    },
    {
     "data": {
      "text/plain": [
       "array([0.51143791, 0.50547386, 0.50620915, 0.50375817, 0.50326797])"
      ]
     },
     "execution_count": 17,
     "metadata": {},
     "output_type": "execute_result"
    }
   ],
   "source": [
    "# Run XGBoost Model for polarity predicition and evaluate results\n",
    "cross_val_score(XGB_classifier, bow_stars_array, res_stars[\"Stars\"], cv=cv)"
   ]
  },
  {
   "cell_type": "markdown",
   "metadata": {},
   "source": [
    "Support Vector Machines"
   ]
  },
  {
   "cell_type": "code",
   "execution_count": 18,
   "metadata": {},
   "outputs": [
    {
     "name": "stdout",
     "output_type": "stream",
     "text": [
      "              precision    recall  f1-score   support\n",
      "\n",
      "           1       0.63      0.79      0.70     12240\n",
      "           2       0.46      0.28      0.35     12240\n",
      "           3       0.45      0.52      0.48     12240\n",
      "           4       0.49      0.42      0.45     12240\n",
      "           5       0.66      0.75      0.70     12240\n",
      "\n",
      "    accuracy                           0.55     61200\n",
      "   macro avg       0.54      0.55      0.54     61200\n",
      "weighted avg       0.54      0.55      0.54     61200\n",
      "\n",
      "[[9610 1393  848  228  161]\n",
      " [3871 3409 3849  802  309]\n",
      " [1273 1897 6367 2065  638]\n",
      " [ 387  533 2553 5085 3682]\n",
      " [ 184  128  473 2221 9234]]\n"
     ]
    }
   ],
   "source": [
    "# Run SVM Model for polarity predicition and evaluate results\n",
    "svm_pred = cross_val_predict(SVM_classifier, bow_stars_array, res_stars[\"Stars\"], cv=cv, n_jobs=4)\n",
    "print(classification_report(res_stars[\"Stars\"], svm_pred))\n",
    "print(confusion_matrix(res_stars[\"Stars\"], svm_pred))"
   ]
  },
  {
   "cell_type": "markdown",
   "metadata": {},
   "source": [
    "### Run models for polarity classification"
   ]
  },
  {
   "cell_type": "markdown",
   "metadata": {},
   "source": [
    "Multinomial Naive Bayes"
   ]
  },
  {
   "cell_type": "code",
   "execution_count": 19,
   "metadata": {},
   "outputs": [
    {
     "name": "stdout",
     "output_type": "stream",
     "text": [
      "              precision    recall  f1-score   support\n",
      "\n",
      "    negative       0.67      0.60      0.63     25732\n",
      "     neutral       0.54      0.62      0.57     25732\n",
      "    positive       0.79      0.76      0.77     25732\n",
      "\n",
      "    accuracy                           0.66     77196\n",
      "   macro avg       0.66      0.66      0.66     77196\n",
      "weighted avg       0.66      0.66      0.66     77196\n",
      "\n",
      "[[15324  8881  1527]\n",
      " [ 6068 15866  3798]\n",
      " [ 1338  4903 19491]]\n"
     ]
    }
   ],
   "source": [
    "# Run Naive Bayes Model for polarity predicition and evaluate results\n",
    "nb_pred = cross_val_predict(NB_classifier, bow_pol_array, res_pol[\"Polarity\"], cv=cv)\n",
    "print(classification_report(res_pol[\"Polarity\"], nb_pred))\n",
    "print(confusion_matrix(res_pol[\"Polarity\"], nb_pred))"
   ]
  },
  {
   "cell_type": "markdown",
   "metadata": {},
   "source": [
    "Random Forest"
   ]
  },
  {
   "cell_type": "code",
   "execution_count": 20,
   "metadata": {},
   "outputs": [
    {
     "name": "stdout",
     "output_type": "stream",
     "text": [
      "              precision    recall  f1-score   support\n",
      "\n",
      "    negative       0.77      0.62      0.69     25732\n",
      "     neutral       0.63      0.74      0.68     25732\n",
      "    positive       0.81      0.82      0.81     25732\n",
      "\n",
      "    accuracy                           0.73     77196\n",
      "   macro avg       0.74      0.73      0.73     77196\n",
      "weighted avg       0.74      0.73      0.73     77196\n",
      "\n",
      "[[16039  7618  2075]\n",
      " [ 3628 19144  2960]\n",
      " [ 1165  3537 21030]]\n"
     ]
    }
   ],
   "source": [
    "# Run Random Forest Model for polarity predicition and evaluate results\n",
    "rf_pred = cross_val_predict(RF_classifier, bow_pol_array, res_pol[\"Polarity\"], cv=cv, n_jobs=4)\n",
    "print(classification_report(res_pol[\"Polarity\"], rf_pred))\n",
    "print(confusion_matrix(res_pol[\"Polarity\"], rf_pred))"
   ]
  },
  {
   "cell_type": "markdown",
   "metadata": {},
   "source": [
    "XGBoost"
   ]
  },
  {
   "cell_type": "code",
   "execution_count": 21,
   "metadata": {},
   "outputs": [
    {
     "data": {
      "text/plain": [
       "array([0.69022021, 0.68670251, 0.68696159, 0.68307533, 0.68735022])"
      ]
     },
     "execution_count": 21,
     "metadata": {},
     "output_type": "execute_result"
    }
   ],
   "source": [
    "# Run XGBoost Model for polarity predicition and evaluate results\n",
    "cross_val_score(XGB_classifier, bow_pol_array, res_pol[\"Polarity\"], cv=cv, n_jobs=4)"
   ]
  },
  {
   "cell_type": "markdown",
   "metadata": {},
   "source": [
    "Support Vector Machines"
   ]
  },
  {
   "cell_type": "code",
   "execution_count": 22,
   "metadata": {},
   "outputs": [
    {
     "name": "stdout",
     "output_type": "stream",
     "text": [
      "              precision    recall  f1-score   support\n",
      "\n",
      "    negative       0.77      0.63      0.69     25732\n",
      "     neutral       0.61      0.74      0.67     25732\n",
      "    positive       0.84      0.81      0.83     25732\n",
      "\n",
      "    accuracy                           0.73     77196\n",
      "   macro avg       0.74      0.73      0.73     77196\n",
      "weighted avg       0.74      0.73      0.73     77196\n",
      "\n",
      "[[16218  8277  1237]\n",
      " [ 4000 18945  2787]\n",
      " [  851  3934 20947]]\n"
     ]
    }
   ],
   "source": [
    "# Run SVM Model for polarity predicition and evaluate results\n",
    "svm_pred = cross_val_predict(SVM_classifier, bow_pol_array, res_pol[\"Polarity\"], cv=cv, n_jobs=4)\n",
    "print(classification_report(res_pol[\"Polarity\"], svm_pred))\n",
    "print(confusion_matrix(res_pol[\"Polarity\"], svm_pred))"
   ]
  },
  {
   "cell_type": "markdown",
   "metadata": {},
   "source": [
    "### Splitting dataset into train and test for pattern matching"
   ]
  },
  {
   "cell_type": "code",
   "execution_count": 14,
   "metadata": {},
   "outputs": [],
   "source": [
    "X_res_stars_train, X_res_stars_test, y_res_stars_train, y_res_stars_test = train_test_split(\n",
    "    X_res_stars, y_res_stars, test_size=0.2, random_state=1\n",
    ")"
   ]
  },
  {
   "cell_type": "code",
   "execution_count": 15,
   "metadata": {},
   "outputs": [],
   "source": [
    "X_res_pol_train, X_res_pol_test, y_res_pol_train, y_res_pol_test = train_test_split(\n",
    "    X_res_pol, y_res_pol, test_size=0.2, random_state=1\n",
    ")"
   ]
  },
  {
   "cell_type": "code",
   "execution_count": 16,
   "metadata": {},
   "outputs": [],
   "source": [
    "res_stars_train = X_res_stars_train.copy()\n",
    "res_pol_train = X_res_pol_train.copy()"
   ]
  },
  {
   "cell_type": "code",
   "execution_count": 17,
   "metadata": {},
   "outputs": [
    {
     "data": {
      "text/html": [
       "<div>\n",
       "<style scoped>\n",
       "    .dataframe tbody tr th:only-of-type {\n",
       "        vertical-align: middle;\n",
       "    }\n",
       "\n",
       "    .dataframe tbody tr th {\n",
       "        vertical-align: top;\n",
       "    }\n",
       "\n",
       "    .dataframe thead th {\n",
       "        text-align: right;\n",
       "    }\n",
       "</style>\n",
       "<table border=\"1\" class=\"dataframe\">\n",
       "  <thead>\n",
       "    <tr style=\"text-align: right;\">\n",
       "      <th></th>\n",
       "      <th>Processed Review Text</th>\n",
       "      <th>Review Text</th>\n",
       "      <th>Stars</th>\n",
       "    </tr>\n",
       "  </thead>\n",
       "  <tbody>\n",
       "    <tr>\n",
       "      <th>9145</th>\n",
       "      <td>buddhism conversion course</td>\n",
       "      <td>buddhism conversion course</td>\n",
       "      <td>1</td>\n",
       "    </tr>\n",
       "    <tr>\n",
       "      <th>35999</th>\n",
       "      <td>much respect richard shell talk captivate  rea...</td>\n",
       "      <td>much respect for richard shell he talks and ca...</td>\n",
       "      <td>3</td>\n",
       "    </tr>\n",
       "    <tr>\n",
       "      <th>13667</th>\n",
       "      <td>nothing practical just talk lot talk</td>\n",
       "      <td>nothing practical just talking and lots of tal...</td>\n",
       "      <td>2</td>\n",
       "    </tr>\n",
       "    <tr>\n",
       "      <th>13322</th>\n",
       "      <td>enjoy videos not assignments  want have fun l...</td>\n",
       "      <td>i enjoyed the videos but not the assignments i...</td>\n",
       "      <td>2</td>\n",
       "    </tr>\n",
       "    <tr>\n",
       "      <th>24514</th>\n",
       "      <td>course be well structure enough content provid...</td>\n",
       "      <td>the course is well structured with enough cont...</td>\n",
       "      <td>3</td>\n",
       "    </tr>\n",
       "  </tbody>\n",
       "</table>\n",
       "</div>"
      ],
      "text/plain": [
       "                                   Processed Review Text  \\\n",
       "9145                          buddhism conversion course   \n",
       "35999  much respect richard shell talk captivate  rea...   \n",
       "13667               nothing practical just talk lot talk   \n",
       "13322   enjoy videos not assignments  want have fun l...   \n",
       "24514  course be well structure enough content provid...   \n",
       "\n",
       "                                             Review Text  Stars  \n",
       "9145                          buddhism conversion course      1  \n",
       "35999  much respect for richard shell he talks and ca...      3  \n",
       "13667  nothing practical just talking and lots of tal...      2  \n",
       "13322  i enjoyed the videos but not the assignments i...      2  \n",
       "24514  the course is well structured with enough cont...      3  "
      ]
     },
     "execution_count": 17,
     "metadata": {},
     "output_type": "execute_result"
    }
   ],
   "source": [
    "res_stars_train[\"Stars\"] = y_res_stars_train\n",
    "res_stars_train.head()"
   ]
  },
  {
   "cell_type": "code",
   "execution_count": 18,
   "metadata": {},
   "outputs": [
    {
     "data": {
      "text/html": [
       "<div>\n",
       "<style scoped>\n",
       "    .dataframe tbody tr th:only-of-type {\n",
       "        vertical-align: middle;\n",
       "    }\n",
       "\n",
       "    .dataframe tbody tr th {\n",
       "        vertical-align: top;\n",
       "    }\n",
       "\n",
       "    .dataframe thead th {\n",
       "        text-align: right;\n",
       "    }\n",
       "</style>\n",
       "<table border=\"1\" class=\"dataframe\">\n",
       "  <thead>\n",
       "    <tr style=\"text-align: right;\">\n",
       "      <th></th>\n",
       "      <th>Processed Review Text</th>\n",
       "      <th>Review Text</th>\n",
       "      <th>Polarity</th>\n",
       "    </tr>\n",
       "  </thead>\n",
       "  <tbody>\n",
       "    <tr>\n",
       "      <th>19725</th>\n",
       "      <td>be not able complete peer grade assignment fr...</td>\n",
       "      <td>i was not able to complete the peer graded ass...</td>\n",
       "      <td>negative</td>\n",
       "    </tr>\n",
       "    <tr>\n",
       "      <th>38147</th>\n",
       "      <td>language be understandable enough add subtitle...</td>\n",
       "      <td>language was understandable enough but adding ...</td>\n",
       "      <td>neutral</td>\n",
       "    </tr>\n",
       "    <tr>\n",
       "      <th>55579</th>\n",
       "      <td>thorough yet concise introduction specializati...</td>\n",
       "      <td>a thorough yet concise introduction to the spe...</td>\n",
       "      <td>positive</td>\n",
       "    </tr>\n",
       "    <tr>\n",
       "      <th>15314</th>\n",
       "      <td>poor labs labs do not teach match lecture slow...</td>\n",
       "      <td>poor labs labs do not teach match lectures slo...</td>\n",
       "      <td>negative</td>\n",
       "    </tr>\n",
       "    <tr>\n",
       "      <th>21273</th>\n",
       "      <td>be certificate</td>\n",
       "      <td>where is my certificate</td>\n",
       "      <td>negative</td>\n",
       "    </tr>\n",
       "  </tbody>\n",
       "</table>\n",
       "</div>"
      ],
      "text/plain": [
       "                                   Processed Review Text  \\\n",
       "19725   be not able complete peer grade assignment fr...   \n",
       "38147  language be understandable enough add subtitle...   \n",
       "55579  thorough yet concise introduction specializati...   \n",
       "15314  poor labs labs do not teach match lecture slow...   \n",
       "21273                                     be certificate   \n",
       "\n",
       "                                             Review Text  Polarity  \n",
       "19725  i was not able to complete the peer graded ass...  negative  \n",
       "38147  language was understandable enough but adding ...   neutral  \n",
       "55579  a thorough yet concise introduction to the spe...  positive  \n",
       "15314  poor labs labs do not teach match lectures slo...  negative  \n",
       "21273                            where is my certificate  negative  "
      ]
     },
     "execution_count": 18,
     "metadata": {},
     "output_type": "execute_result"
    }
   ],
   "source": [
    "res_pol_train[\"Polarity\"] = y_res_pol_train\n",
    "res_pol_train.head()"
   ]
  },
  {
   "cell_type": "code",
   "execution_count": 28,
   "metadata": {},
   "outputs": [],
   "source": [
    "res_stars_train.to_csv('data/train_stars.csv', index=False, header=False)\n",
    "res_pol_train.to_csv('data/train_polarity.csv', index=False, header=False)"
   ]
  },
  {
   "cell_type": "markdown",
   "metadata": {},
   "source": [
    "### Increasing accuracy using star pattern matching"
   ]
  },
  {
   "cell_type": "code",
   "execution_count": 19,
   "metadata": {},
   "outputs": [
    {
     "data": {
      "text/html": [
       "<div>\n",
       "<style scoped>\n",
       "    .dataframe tbody tr th:only-of-type {\n",
       "        vertical-align: middle;\n",
       "    }\n",
       "\n",
       "    .dataframe tbody tr th {\n",
       "        vertical-align: top;\n",
       "    }\n",
       "\n",
       "    .dataframe thead th {\n",
       "        text-align: right;\n",
       "    }\n",
       "</style>\n",
       "<table border=\"1\" class=\"dataframe\">\n",
       "  <thead>\n",
       "    <tr style=\"text-align: right;\">\n",
       "      <th></th>\n",
       "      <th>Processed Review Text</th>\n",
       "      <th>Review Text</th>\n",
       "      <th>Stars</th>\n",
       "    </tr>\n",
       "  </thead>\n",
       "  <tbody>\n",
       "    <tr>\n",
       "      <th>41297</th>\n",
       "      <td>have just complete online course write scienc...</td>\n",
       "      <td>i have just completed the online course writin...</td>\n",
       "      <td>4</td>\n",
       "    </tr>\n",
       "    <tr>\n",
       "      <th>36934</th>\n",
       "      <td>great information start zero</td>\n",
       "      <td>great information for those who start from zero</td>\n",
       "      <td>4</td>\n",
       "    </tr>\n",
       "    <tr>\n",
       "      <th>22370</th>\n",
       "      <td>too long video lecture least useful exercise s...</td>\n",
       "      <td>too long video lectures and least useful exerc...</td>\n",
       "      <td>2</td>\n",
       "    </tr>\n",
       "    <tr>\n",
       "      <th>50589</th>\n",
       "      <td>excellent teacher</td>\n",
       "      <td>excellent teacher</td>\n",
       "      <td>5</td>\n",
       "    </tr>\n",
       "    <tr>\n",
       "      <th>19174</th>\n",
       "      <td>course be teach instructors most monotone voic...</td>\n",
       "      <td>this course is taught by instructors with the ...</td>\n",
       "      <td>2</td>\n",
       "    </tr>\n",
       "  </tbody>\n",
       "</table>\n",
       "</div>"
      ],
      "text/plain": [
       "                                   Processed Review Text  \\\n",
       "41297   have just complete online course write scienc...   \n",
       "36934                       great information start zero   \n",
       "22370  too long video lecture least useful exercise s...   \n",
       "50589                                  excellent teacher   \n",
       "19174  course be teach instructors most monotone voic...   \n",
       "\n",
       "                                             Review Text  Stars  \n",
       "41297  i have just completed the online course writin...      4  \n",
       "36934    great information for those who start from zero      4  \n",
       "22370  too long video lectures and least useful exerc...      2  \n",
       "50589                                  excellent teacher      5  \n",
       "19174  this course is taught by instructors with the ...      2  "
      ]
     },
     "execution_count": 19,
     "metadata": {},
     "output_type": "execute_result"
    }
   ],
   "source": [
    "res_stars_test = X_res_stars_test.copy()\n",
    "res_stars_test[\"Stars\"] = y_res_stars_test\n",
    "res_stars_test.head()"
   ]
  },
  {
   "cell_type": "code",
   "execution_count": 20,
   "metadata": {},
   "outputs": [
    {
     "data": {
      "text/plain": [
       "9145                        [buddhism, conversion, course]\n",
       "35999    [much, respect, for, richard, shell, he, talks...\n",
       "13667    [nothing, practical, just, talking, and, lots,...\n",
       "13322    [i, enjoyed, the, videos, but, not, the, assig...\n",
       "24514    [the, course, is, well, structured, with, enou...\n",
       "Name: Review Text, dtype: object"
      ]
     },
     "execution_count": 20,
     "metadata": {},
     "output_type": "execute_result"
    }
   ],
   "source": [
    "# Tokenize all reviews for pre-processing purposes\n",
    "res_stars_train[\"Review Text\"] = res_stars_train[\"Review Text\"].apply(word_tokenize)\n",
    "res_stars_train[\"Review Text\"].head()"
   ]
  },
  {
   "cell_type": "code",
   "execution_count": 21,
   "metadata": {},
   "outputs": [
    {
     "data": {
      "text/plain": [
       "41297    [i, have, just, completed, the, online, course...\n",
       "36934    [great, information, for, those, who, start, f...\n",
       "22370    [too, long, video, lectures, and, least, usefu...\n",
       "50589                                 [excellent, teacher]\n",
       "19174    [this, course, is, taught, by, instructors, wi...\n",
       "Name: Review Text, dtype: object"
      ]
     },
     "execution_count": 21,
     "metadata": {},
     "output_type": "execute_result"
    }
   ],
   "source": [
    "res_stars_test[\"Review Text\"] = res_stars_test[\"Review Text\"].apply(word_tokenize)\n",
    "res_stars_test[\"Review Text\"].head()"
   ]
  },
  {
   "cell_type": "code",
   "execution_count": 22,
   "metadata": {},
   "outputs": [
    {
     "data": {
      "text/plain": [
       "9145      [(buddhism, NN), (conversion, NN), (course, NN)]\n",
       "35999    [(much, JJ), (respect, NN), (for, IN), (richar...\n",
       "13667    [(nothing, NN), (practical, JJ), (just, RB), (...\n",
       "13322    [(i, NN), (enjoyed, VBD), (the, DT), (videos, ...\n",
       "24514    [(the, DT), (course, NN), (is, VBZ), (well, RB...\n",
       "Name: Tagged Text, dtype: object"
      ]
     },
     "execution_count": 22,
     "metadata": {},
     "output_type": "execute_result"
    }
   ],
   "source": [
    "# Tag words with their POS Tag\n",
    "res_stars_train[\"Tagged Text\"] = res_stars_train[\"Review Text\"].apply(pos_tag)\n",
    "res_stars_train[\"Tagged Text\"].head()"
   ]
  },
  {
   "cell_type": "code",
   "execution_count": 23,
   "metadata": {},
   "outputs": [
    {
     "data": {
      "text/plain": [
       "41297    [(i, NNS), (have, VBP), (just, RB), (completed...\n",
       "36934    [(great, JJ), (information, NN), (for, IN), (t...\n",
       "22370    [(too, RB), (long, RB), (video, JJ), (lectures...\n",
       "50589                     [(excellent, NN), (teacher, NN)]\n",
       "19174    [(this, DT), (course, NN), (is, VBZ), (taught,...\n",
       "Name: Tagged Text, dtype: object"
      ]
     },
     "execution_count": 23,
     "metadata": {},
     "output_type": "execute_result"
    }
   ],
   "source": [
    "res_stars_test[\"Tagged Text\"] = res_stars_test[\"Review Text\"].apply(pos_tag)\n",
    "res_stars_test[\"Tagged Text\"].head()"
   ]
  },
  {
   "cell_type": "code",
   "execution_count": 24,
   "metadata": {},
   "outputs": [
    {
     "data": {
      "text/plain": [
       "9145                                          [NN, NN, NN]\n",
       "35999    [JJ, NN, IN, NN, NN, PRP, VBZ, CC, VBZ, PRP, P...\n",
       "13667                  [NN, JJ, RB, VBG, CC, NNS, IN, VBG]\n",
       "13322    [NN, VBD, DT, NNS, CC, RB, DT, NNS, RB, VBD, T...\n",
       "24514    [DT, NN, VBZ, RB, VBN, IN, JJ, NN, VBN, IN, DT...\n",
       "Name: POS Tags, dtype: object"
      ]
     },
     "execution_count": 24,
     "metadata": {},
     "output_type": "execute_result"
    }
   ],
   "source": [
    "train_reviews_tags = []\n",
    "\n",
    "for items in res_stars_train[\"Tagged Text\"]:\n",
    "    review_tags = []\n",
    "    for item in items:\n",
    "        review_tags.append(item[1])\n",
    "    train_reviews_tags.append(review_tags)\n",
    "\n",
    "res_stars_train[\"POS Tags\"] = train_reviews_tags\n",
    "res_stars_train[\"POS Tags\"].head()"
   ]
  },
  {
   "cell_type": "code",
   "execution_count": 25,
   "metadata": {},
   "outputs": [
    {
     "data": {
      "text/plain": [
       "41297    [NNS, VBP, RB, VBN, DT, JJ, NN, NN, IN, DT, NN...\n",
       "36934                    [JJ, NN, IN, DT, WP, VBP, IN, NN]\n",
       "22370    [RB, RB, JJ, NNS, CC, JJS, JJ, NNS, RB, RB, IN...\n",
       "50589                                             [NN, NN]\n",
       "19174    [DT, NN, VBZ, VBN, IN, NNS, IN, DT, RBS, NN, I...\n",
       "Name: POS Tags, dtype: object"
      ]
     },
     "execution_count": 25,
     "metadata": {},
     "output_type": "execute_result"
    }
   ],
   "source": [
    "test_reviews_tags = []\n",
    "\n",
    "for items in res_stars_test[\"Tagged Text\"]:\n",
    "    review_tags = []\n",
    "    for item in items:\n",
    "        review_tags.append(item[1])\n",
    "    test_reviews_tags.append(review_tags)\n",
    "\n",
    "res_stars_test[\"POS Tags\"] = test_reviews_tags\n",
    "res_stars_test[\"POS Tags\"].head()"
   ]
  },
  {
   "cell_type": "code",
   "execution_count": 26,
   "metadata": {},
   "outputs": [
    {
     "data": {
      "text/html": [
       "<div>\n",
       "<style scoped>\n",
       "    .dataframe tbody tr th:only-of-type {\n",
       "        vertical-align: middle;\n",
       "    }\n",
       "\n",
       "    .dataframe tbody tr th {\n",
       "        vertical-align: top;\n",
       "    }\n",
       "\n",
       "    .dataframe thead th {\n",
       "        text-align: right;\n",
       "    }\n",
       "</style>\n",
       "<table border=\"1\" class=\"dataframe\">\n",
       "  <thead>\n",
       "    <tr style=\"text-align: right;\">\n",
       "      <th></th>\n",
       "      <th>One Star</th>\n",
       "      <th>Two Star</th>\n",
       "      <th>Three Star</th>\n",
       "      <th>Four Star</th>\n",
       "      <th>Five Star</th>\n",
       "    </tr>\n",
       "  </thead>\n",
       "  <tbody>\n",
       "    <tr>\n",
       "      <th>0</th>\n",
       "      <td>['NN', 'CD', 'RB', 'CD', 'NNS']</td>\n",
       "      <td>['CD', 'CD', 'CD', 'CD', 'CD']</td>\n",
       "      <td>['JJ', 'NN', 'IN', 'VBN', 'TO']</td>\n",
       "      <td>['VB', 'DT', 'NN', 'DT', 'CD']</td>\n",
       "      <td>['FW', 'FW', 'FW', 'FW', 'FW', 'FW', 'FW']</td>\n",
       "    </tr>\n",
       "    <tr>\n",
       "      <th>1</th>\n",
       "      <td>['CD', 'RB', 'CD', 'NNS', 'TO']</td>\n",
       "      <td>['CD', 'CD', 'CD', 'CD', 'CD', 'CD']</td>\n",
       "      <td>['NN', 'MD', 'VB', 'NNS', 'VB']</td>\n",
       "      <td>['TO', 'VB', 'DT', 'NNS', 'PRP', 'VBP']</td>\n",
       "      <td>['NNP', 'NNP', 'NNP', 'NNP', 'NNP']</td>\n",
       "    </tr>\n",
       "    <tr>\n",
       "      <th>2</th>\n",
       "      <td>['NN', 'CD', 'RB', 'CD', 'NNS', 'TO']</td>\n",
       "      <td>['CD', 'CD', 'CD', 'CD', 'CD', 'CD', 'CD']</td>\n",
       "      <td>['VBP', 'NN', 'CC', 'DT', 'NN']</td>\n",
       "      <td>['VB', 'JJ', 'TO', 'VB', 'JJR', 'NNS']</td>\n",
       "      <td>['VBD', 'CD', 'IN', 'DT', 'JJS']</td>\n",
       "    </tr>\n",
       "    <tr>\n",
       "      <th>3</th>\n",
       "      <td>['CD', 'RB', 'CD', 'NNS', 'TO', 'VB']</td>\n",
       "      <td>['VB', 'NN', 'RB', 'RB', 'IN']</td>\n",
       "      <td>['NN', 'NNS', 'CC', 'VBP', 'TO']</td>\n",
       "      <td>['NNS', 'RB', 'VBP', 'RB', 'VBN']</td>\n",
       "      <td>['JJ', 'NN', 'NN', 'PRP', 'TO']</td>\n",
       "    </tr>\n",
       "    <tr>\n",
       "      <th>4</th>\n",
       "      <td>['NN', 'CD', 'RB', 'CD', 'NNS', 'TO', 'VB']</td>\n",
       "      <td>['VBD', 'VBN', 'RB', 'IN', 'PRP']</td>\n",
       "      <td>['NN', 'RB', 'IN', 'PRP', 'PRP']</td>\n",
       "      <td>['PRP', 'CD', 'NNS', 'RB', 'IN']</td>\n",
       "      <td>['NNP', 'NNP', 'NNP', 'NNP', 'NNP', 'NNP']</td>\n",
       "    </tr>\n",
       "  </tbody>\n",
       "</table>\n",
       "</div>"
      ],
      "text/plain": [
       "                                      One Star  \\\n",
       "0              ['NN', 'CD', 'RB', 'CD', 'NNS']   \n",
       "1              ['CD', 'RB', 'CD', 'NNS', 'TO']   \n",
       "2        ['NN', 'CD', 'RB', 'CD', 'NNS', 'TO']   \n",
       "3        ['CD', 'RB', 'CD', 'NNS', 'TO', 'VB']   \n",
       "4  ['NN', 'CD', 'RB', 'CD', 'NNS', 'TO', 'VB']   \n",
       "\n",
       "                                     Two Star  \\\n",
       "0              ['CD', 'CD', 'CD', 'CD', 'CD']   \n",
       "1        ['CD', 'CD', 'CD', 'CD', 'CD', 'CD']   \n",
       "2  ['CD', 'CD', 'CD', 'CD', 'CD', 'CD', 'CD']   \n",
       "3              ['VB', 'NN', 'RB', 'RB', 'IN']   \n",
       "4           ['VBD', 'VBN', 'RB', 'IN', 'PRP']   \n",
       "\n",
       "                         Three Star                                Four Star  \\\n",
       "0   ['JJ', 'NN', 'IN', 'VBN', 'TO']           ['VB', 'DT', 'NN', 'DT', 'CD']   \n",
       "1   ['NN', 'MD', 'VB', 'NNS', 'VB']  ['TO', 'VB', 'DT', 'NNS', 'PRP', 'VBP']   \n",
       "2   ['VBP', 'NN', 'CC', 'DT', 'NN']   ['VB', 'JJ', 'TO', 'VB', 'JJR', 'NNS']   \n",
       "3  ['NN', 'NNS', 'CC', 'VBP', 'TO']        ['NNS', 'RB', 'VBP', 'RB', 'VBN']   \n",
       "4  ['NN', 'RB', 'IN', 'PRP', 'PRP']         ['PRP', 'CD', 'NNS', 'RB', 'IN']   \n",
       "\n",
       "                                    Five Star  \n",
       "0  ['FW', 'FW', 'FW', 'FW', 'FW', 'FW', 'FW']  \n",
       "1         ['NNP', 'NNP', 'NNP', 'NNP', 'NNP']  \n",
       "2            ['VBD', 'CD', 'IN', 'DT', 'JJS']  \n",
       "3             ['JJ', 'NN', 'NN', 'PRP', 'TO']  \n",
       "4  ['NNP', 'NNP', 'NNP', 'NNP', 'NNP', 'NNP']  "
      ]
     },
     "execution_count": 26,
     "metadata": {},
     "output_type": "execute_result"
    }
   ],
   "source": [
    "star_patterns = pd.read_csv(\"data/star_patterns.csv\", names=[\"One Star\", \"Two Star\", \"Three Star\", \"Four Star\", \"Five Star\"])\n",
    "star_patterns.head()"
   ]
  },
  {
   "cell_type": "code",
   "execution_count": 27,
   "metadata": {},
   "outputs": [],
   "source": [
    "star_patterns[\"One Star\"] = star_patterns[\"One Star\"].apply(ast.literal_eval)\n",
    "star_patterns[\"Two Star\"] = star_patterns[\"Two Star\"].apply(ast.literal_eval)\n",
    "star_patterns[\"Three Star\"] = star_patterns[\"Three Star\"].apply(ast.literal_eval)\n",
    "star_patterns[\"Four Star\"] = star_patterns[\"Four Star\"].apply(ast.literal_eval)\n",
    "star_patterns[\"Five Star\"] = star_patterns[\"Five Star\"].apply(ast.literal_eval)"
   ]
  },
  {
   "cell_type": "code",
   "execution_count": 28,
   "metadata": {},
   "outputs": [
    {
     "data": {
      "text/plain": [
       "(48960, 5)"
      ]
     },
     "execution_count": 28,
     "metadata": {},
     "output_type": "execute_result"
    }
   ],
   "source": [
    "bow_occurences_array_train = np.zeros((res_stars_train.shape[0], 5))\n",
    "bow_occurences_array_train.shape"
   ]
  },
  {
   "cell_type": "code",
   "execution_count": 29,
   "metadata": {},
   "outputs": [
    {
     "data": {
      "text/plain": [
       "(12240, 5)"
      ]
     },
     "execution_count": 29,
     "metadata": {},
     "output_type": "execute_result"
    }
   ],
   "source": [
    "bow_occurences_array_test = np.zeros((res_stars_test.shape[0], 5))\n",
    "bow_occurences_array_test.shape"
   ]
  },
  {
   "cell_type": "code",
   "execution_count": 30,
   "metadata": {},
   "outputs": [],
   "source": [
    "def check_occurrences_stars(data, star_grams, col_index, stars, occ_array):\n",
    "    count = 0\n",
    "    for index, row in data.iterrows():\n",
    "        if row[\"Stars\"] == stars:\n",
    "            for n_gram in star_grams:\n",
    "                if isSubArray(row[\"POS Tags\"], n_gram, len(row[\"POS Tags\"]), len(n_gram)):\n",
    "                    occ_array[count, col_index] = 1\n",
    "        count += 1"
   ]
  },
  {
   "cell_type": "code",
   "execution_count": 31,
   "metadata": {},
   "outputs": [],
   "source": [
    "check_occurrences_stars(res_stars_test, star_patterns[\"One Star\"], 0, 1, bow_occurences_array_test)\n",
    "check_occurrences_stars(res_stars_train, star_patterns[\"One Star\"], 0, 1, bow_occurences_array_train)"
   ]
  },
  {
   "cell_type": "code",
   "execution_count": 32,
   "metadata": {},
   "outputs": [],
   "source": [
    "check_occurrences_stars(res_stars_train, star_patterns[\"Two Star\"], 1, 2, bow_occurences_array_train)\n",
    "check_occurrences_stars(res_stars_test, star_patterns[\"Two Star\"], 1, 2, bow_occurences_array_test)"
   ]
  },
  {
   "cell_type": "code",
   "execution_count": 33,
   "metadata": {},
   "outputs": [],
   "source": [
    "check_occurrences_stars(res_stars_train, star_patterns[\"Three Star\"], 2, 3, bow_occurences_array_train)\n",
    "check_occurrences_stars(res_stars_test, star_patterns[\"Three Star\"], 2, 3, bow_occurences_array_test)"
   ]
  },
  {
   "cell_type": "code",
   "execution_count": 34,
   "metadata": {},
   "outputs": [],
   "source": [
    "check_occurrences_stars(res_stars_train, star_patterns[\"Four Star\"], 3, 4, bow_occurences_array_train)\n",
    "check_occurrences_stars(res_stars_test, star_patterns[\"Four Star\"], 3, 4, bow_occurences_array_test)"
   ]
  },
  {
   "cell_type": "code",
   "execution_count": 35,
   "metadata": {},
   "outputs": [],
   "source": [
    "check_occurrences_stars(res_stars_train, star_patterns[\"Five Star\"], 4, 5, bow_occurences_array_train)\n",
    "check_occurrences_stars(res_stars_test, star_patterns[\"Five Star\"], 4, 5, bow_occurences_array_test)"
   ]
  },
  {
   "cell_type": "code",
   "execution_count": 36,
   "metadata": {},
   "outputs": [
    {
     "data": {
      "text/plain": [
       "(48960, 30766)"
      ]
     },
     "execution_count": 36,
     "metadata": {},
     "output_type": "execute_result"
    }
   ],
   "source": [
    "bow_stars_array_train = vectorizer.transform(res_stars_train[\"Processed Review Text\"].values.astype('U'))\n",
    "bow_stars_array_train.shape"
   ]
  },
  {
   "cell_type": "code",
   "execution_count": 37,
   "metadata": {},
   "outputs": [
    {
     "data": {
      "text/plain": [
       "(12240, 30766)"
      ]
     },
     "execution_count": 37,
     "metadata": {},
     "output_type": "execute_result"
    }
   ],
   "source": [
    "bow_stars_array_test = vectorizer.transform(res_stars_test[\"Processed Review Text\"].values.astype('U'))\n",
    "bow_stars_array_test.shape"
   ]
  },
  {
   "cell_type": "code",
   "execution_count": 38,
   "metadata": {},
   "outputs": [
    {
     "data": {
      "text/plain": [
       "(48960, 5)"
      ]
     },
     "execution_count": 38,
     "metadata": {},
     "output_type": "execute_result"
    }
   ],
   "source": [
    "bow_occurrences_matrix_train = sparse.csr_matrix(bow_occurences_array_train)\n",
    "bow_occurrences_matrix_train.shape"
   ]
  },
  {
   "cell_type": "code",
   "execution_count": 39,
   "metadata": {},
   "outputs": [
    {
     "data": {
      "text/plain": [
       "(12240, 5)"
      ]
     },
     "execution_count": 39,
     "metadata": {},
     "output_type": "execute_result"
    }
   ],
   "source": [
    "bow_occurrences_matrix_test = sparse.csr_matrix(bow_occurences_array_test)\n",
    "bow_occurrences_matrix_test.shape"
   ]
  },
  {
   "cell_type": "code",
   "execution_count": 40,
   "metadata": {},
   "outputs": [
    {
     "data": {
      "text/plain": [
       "(48960, 30771)"
      ]
     },
     "execution_count": 40,
     "metadata": {},
     "output_type": "execute_result"
    }
   ],
   "source": [
    "bow_stars_array_train_opt = sparse.hstack([bow_stars_array_train, bow_occurrences_matrix_train])\n",
    "bow_stars_array_train_opt.shape"
   ]
  },
  {
   "cell_type": "code",
   "execution_count": 41,
   "metadata": {},
   "outputs": [
    {
     "data": {
      "text/plain": [
       "(12240, 30771)"
      ]
     },
     "execution_count": 41,
     "metadata": {},
     "output_type": "execute_result"
    }
   ],
   "source": [
    "bow_stars_array_test_opt = sparse.hstack([bow_stars_array_test, bow_occurrences_matrix_test])\n",
    "bow_stars_array_test_opt.shape"
   ]
  },
  {
   "cell_type": "markdown",
   "metadata": {},
   "source": [
    "Run GridSearch for hyperparameter optimization"
   ]
  },
  {
   "cell_type": "code",
   "execution_count": 42,
   "metadata": {},
   "outputs": [
    {
     "data": {
      "text/plain": [
       "GridSearchCV(cv=3, estimator=RandomForestClassifier(random_state=48), n_jobs=-1,\n",
       "             param_grid={'criterion': ['gini', 'entropy'],\n",
       "                         'max_features': ['auto', 'sqrt', 'log2'],\n",
       "                         'n_estimators': [50, 100, 200]})"
      ]
     },
     "execution_count": 42,
     "metadata": {},
     "output_type": "execute_result"
    }
   ],
   "source": [
    "rf_param_grid = {\n",
    "    'n_estimators': [50, 100, 200],\n",
    "    'criterion': ['gini', 'entropy'],\n",
    "    'max_features': ['auto', 'sqrt', 'log2'],\n",
    "}\n",
    "\n",
    "clf_rf = GridSearchCV(RF_classifier, param_grid=rf_param_grid, n_jobs=-1, cv=3)\n",
    "clf_rf.fit(bow_stars_array_train_opt, res_stars_train[\"Stars\"])"
   ]
  },
  {
   "cell_type": "code",
   "execution_count": 53,
   "metadata": {},
   "outputs": [
    {
     "data": {
      "text/plain": [
       "mean_fit_time                                                978.395013\n",
       "std_fit_time                                                   2.589243\n",
       "mean_score_time                                                4.650207\n",
       "std_score_time                                                 0.036278\n",
       "param_criterion                                                    gini\n",
       "param_max_features                                                 auto\n",
       "param_n_estimators                                                  200\n",
       "params                {'criterion': 'gini', 'max_features': 'auto', ...\n",
       "split0_test_score                                              0.716728\n",
       "split1_test_score                                              0.712623\n",
       "split2_test_score                                              0.718444\n",
       "mean_test_score                                                0.715931\n",
       "std_test_score                                                 0.002442\n",
       "rank_test_score                                                       1\n",
       "Name: 2, dtype: object"
      ]
     },
     "execution_count": 53,
     "metadata": {},
     "output_type": "execute_result"
    }
   ],
   "source": [
    "rf_results = pd.DataFrame(clf_rf.cv_results_)\n",
    "rf_results.iloc[clf_rf.best_index_]"
   ]
  },
  {
   "cell_type": "code",
   "execution_count": 43,
   "metadata": {},
   "outputs": [
    {
     "data": {
      "text/plain": [
       "GridSearchCV(cv=3, estimator=SVC(random_state=24), n_jobs=-1,\n",
       "             param_grid={'C': [0.1, 1.0, 10.0], 'gamma': [0.01, 0.1, 1],\n",
       "                         'kernel': ['poly', 'rbf', 'sigmoid']})"
      ]
     },
     "execution_count": 43,
     "metadata": {},
     "output_type": "execute_result"
    }
   ],
   "source": [
    "svm_param_grid = {\n",
    "    'C': [0.1, 1.0, 10.0],\n",
    "    'kernel': ['poly', 'rbf', 'sigmoid'],\n",
    "    'gamma': [0.01, 0.1, 1],\n",
    "}\n",
    "\n",
    "clf_svm = GridSearchCV(SVM_classifier, param_grid=svm_param_grid, n_jobs=-1, cv=3)\n",
    "clf_svm.fit(bow_stars_array_train_opt, res_stars_train[\"Stars\"])"
   ]
  },
  {
   "cell_type": "code",
   "execution_count": 54,
   "metadata": {},
   "outputs": [
    {
     "data": {
      "text/plain": [
       "mean_fit_time                                      853.794333\n",
       "std_fit_time                                        27.047666\n",
       "mean_score_time                                     83.823999\n",
       "std_score_time                                       14.40211\n",
       "param_C                                                  10.0\n",
       "param_gamma                                                 1\n",
       "param_kernel                                              rbf\n",
       "params               {'C': 10.0, 'gamma': 1, 'kernel': 'rbf'}\n",
       "split0_test_score                                    0.712377\n",
       "split1_test_score                                     0.71299\n",
       "split2_test_score                                     0.71636\n",
       "mean_test_score                                      0.713909\n",
       "std_test_score                                       0.001751\n",
       "rank_test_score                                             1\n",
       "Name: 25, dtype: object"
      ]
     },
     "execution_count": 54,
     "metadata": {},
     "output_type": "execute_result"
    }
   ],
   "source": [
    "svm_results = pd.DataFrame(clf_svm.cv_results_)\n",
    "svm_results.iloc[clf_svm.best_index_]"
   ]
  },
  {
   "cell_type": "markdown",
   "metadata": {},
   "source": [
    "Predict to evaluate performance"
   ]
  },
  {
   "cell_type": "code",
   "execution_count": 44,
   "metadata": {},
   "outputs": [
    {
     "name": "stdout",
     "output_type": "stream",
     "text": [
      "              precision    recall  f1-score   support\n",
      "\n",
      "           1       0.77      0.86      0.81      2547\n",
      "           2       0.77      0.72      0.74      2434\n",
      "           3       0.62      0.59      0.61      2418\n",
      "           4       0.58      0.50      0.54      2371\n",
      "           5       0.70      0.78      0.74      2470\n",
      "\n",
      "    accuracy                           0.69     12240\n",
      "   macro avg       0.69      0.69      0.69     12240\n",
      "weighted avg       0.69      0.69      0.69     12240\n",
      "\n",
      "[[2181  170  130   35   31]\n",
      " [ 266 1756  272   86   54]\n",
      " [ 221  262 1436  345  154]\n",
      " [ 114   77  399 1195  586]\n",
      " [  44   19   83  391 1933]]\n"
     ]
    }
   ],
   "source": [
    "rf_pred = clf_rf.predict(bow_stars_array_test_opt)\n",
    "\n",
    "print(classification_report(y_res_stars_test, rf_pred))\n",
    "print(confusion_matrix(y_res_stars_test, rf_pred))"
   ]
  },
  {
   "cell_type": "code",
   "execution_count": 45,
   "metadata": {},
   "outputs": [
    {
     "name": "stdout",
     "output_type": "stream",
     "text": [
      "              precision    recall  f1-score   support\n",
      "\n",
      "           1       0.81      0.83      0.82      2547\n",
      "           2       0.74      0.74      0.74      2434\n",
      "           3       0.60      0.61      0.60      2418\n",
      "           4       0.56      0.56      0.56      2371\n",
      "           5       0.75      0.71      0.73      2470\n",
      "\n",
      "    accuracy                           0.69     12240\n",
      "   macro avg       0.69      0.69      0.69     12240\n",
      "weighted avg       0.69      0.69      0.69     12240\n",
      "\n",
      "[[2119  232  142   42   12]\n",
      " [ 214 1809  313   77   21]\n",
      " [ 188  294 1474  378   84]\n",
      " [  77   86  425 1323  460]\n",
      " [  28   28  110  555 1749]]\n"
     ]
    }
   ],
   "source": [
    "svm_pred = clf_svm.predict(bow_stars_array_test_opt)\n",
    "\n",
    "print(classification_report(y_res_stars_test, svm_pred))\n",
    "print(confusion_matrix(y_res_stars_test, svm_pred))"
   ]
  },
  {
   "cell_type": "markdown",
   "metadata": {},
   "source": [
    "### Increasing accuracy using polarity pattern matching"
   ]
  },
  {
   "cell_type": "code",
   "execution_count": null,
   "metadata": {},
   "outputs": [],
   "source": [
    "# Tokenize all reviews for pre-processing purposes\n",
    "res_pol_train[\"Review Text\"] = res_pol_train[\"Review Text\"].apply(word_tokenize)\n",
    "res_pol_train[\"Review Text\"].head()"
   ]
  },
  {
   "cell_type": "code",
   "execution_count": null,
   "metadata": {},
   "outputs": [],
   "source": [
    "X_res_pol_test[\"Review Text\"] = X_res_pol_test[\"Review Text\"].apply(word_tokenize)\n",
    "X_res_pol_test[\"Review Text\"].head()"
   ]
  },
  {
   "cell_type": "code",
   "execution_count": null,
   "metadata": {},
   "outputs": [],
   "source": [
    "# Tag words with their POS Tag\n",
    "res_pol_train[\"Tagged Text\"] = res_pol_train[\"Review Text\"].apply(pos_tag)\n",
    "res_pol_train[\"Tagged Text\"].head()"
   ]
  },
  {
   "cell_type": "code",
   "execution_count": null,
   "metadata": {},
   "outputs": [],
   "source": [
    "X_res_pol_test[\"Tagged Text\"] = X_res_pol_test[\"Review Text\"].apply(pos_tag)\n",
    "X_res_pol_test[\"Tagged Text\"].head()"
   ]
  },
  {
   "cell_type": "code",
   "execution_count": null,
   "metadata": {},
   "outputs": [],
   "source": [
    "train_reviews_tags = []\n",
    "\n",
    "for index in range(len(res_pol_train[\"Tagged Text\"])):\n",
    "    review_tags = []\n",
    "    for item in res_pol_train[\"Tagged Text\"][index]:\n",
    "        review_tags.append(item[1])\n",
    "    train_reviews_tags.append(review_tags)\n",
    "\n",
    "res_pol_train[\"POS Tags\"] = train_reviews_tags\n",
    "res_pol_train[\"POS Tags\"].head()"
   ]
  },
  {
   "cell_type": "code",
   "execution_count": null,
   "metadata": {},
   "outputs": [],
   "source": [
    "test_reviews_tags = []\n",
    "\n",
    "for index in range(len(X_res_pol_test[\"Tagged Text\"])):\n",
    "    review_tags = []\n",
    "    for item in X_res_pol_test[\"Tagged Text\"][index]:\n",
    "        review_tags.append(item[1])\n",
    "    test_reviews_tags.append(review_tags)\n",
    "\n",
    "X_res_pol_test[\"POS Tags\"] = test_reviews_tags\n",
    "X_res_pol_test[\"POS Tags\"].head()"
   ]
  },
  {
   "cell_type": "code",
   "execution_count": null,
   "metadata": {},
   "outputs": [],
   "source": [
    "pol_patterns = pd.read_csv(\"data/patterns.csv\", names=[\"Neutral\", \"Negative\"])\n",
    "pol_patterns.head()"
   ]
  },
  {
   "cell_type": "code",
   "execution_count": null,
   "metadata": {},
   "outputs": [],
   "source": [
    "pol_patterns[\"Neutral\"] = pol_patterns[\"Neutral\"].apply(ast.literal_eval)\n",
    "pol_patterns[\"Negative\"] = pol_patterns[\"Negative\"].apply(ast.literal_eval)"
   ]
  },
  {
   "cell_type": "code",
   "execution_count": null,
   "metadata": {},
   "outputs": [],
   "source": [
    "bow_occurences_array_train_pol = np.zeros((res_pol_train.shape[0], 2))\n",
    "bow_occurences_array_train_pol.shape"
   ]
  },
  {
   "cell_type": "code",
   "execution_count": null,
   "metadata": {},
   "outputs": [],
   "source": [
    "bow_occurences_array_test_pol = np.zeros((X_res_pol_test.shape[0], 2))\n",
    "bow_occurences_array_test_pol.shape"
   ]
  },
  {
   "cell_type": "code",
   "execution_count": null,
   "metadata": {},
   "outputs": [],
   "source": [
    "def check_occurrences_pol(data, polarity_grams, col_index, polarity, occ_array):\n",
    "    count = 0\n",
    "    for index, row in data.iterrows():\n",
    "        if row[\"Polarity\"] == polarity:\n",
    "            for n_gram in polarity_grams:\n",
    "                if isSubArray(row[\"POS Tags\"], n_gram, len(row[\"POS Tags\"]), len(n_gram)):\n",
    "                    occ_array[count, col_index] = 1\n",
    "        count += 1"
   ]
  },
  {
   "cell_type": "code",
   "execution_count": null,
   "metadata": {},
   "outputs": [],
   "source": [
    "check_occurrences_pol(res_pol_train, pol_patterns[\"Neutral\"], 0, 1, bow_occurences_array_train_pol)\n",
    "check_occurrences_pol(X_res_pol_test, pol_patterns[\"Neutral\"], 0, 1, bow_occurences_array_test_pol)"
   ]
  },
  {
   "cell_type": "code",
   "execution_count": null,
   "metadata": {},
   "outputs": [],
   "source": [
    "check_occurrences_pol(res_pol_train, pol_patterns[\"Negative\"], 1, 2, bow_occurences_array_train_pol)\n",
    "check_occurrences_pol(X_res_pol_test, pol_patterns[\"Negative\"], 1, 2, bow_occurences_array_test_pol)"
   ]
  },
  {
   "cell_type": "code",
   "execution_count": null,
   "metadata": {},
   "outputs": [],
   "source": [
    "bow_pol_array_train = vectorizer.transform(res_pol_train[\"Processed Review Text\"].values.astype('U'))\n",
    "bow_pol_array_train.shape"
   ]
  },
  {
   "cell_type": "code",
   "execution_count": null,
   "metadata": {},
   "outputs": [],
   "source": [
    "bow_pol_array_test = vectorizer.transform(X_res_pol_test[\"Processed Review Text\"].values.astype('U'))\n",
    "bow_pol_array_test.shape"
   ]
  },
  {
   "cell_type": "code",
   "execution_count": null,
   "metadata": {},
   "outputs": [],
   "source": [
    "bow_occurrences_matrix_train_pol = sparse.csr_matrix(bow_occurences_array_train_pol)\n",
    "bow_occurrences_matrix_train_pol.shape"
   ]
  },
  {
   "cell_type": "code",
   "execution_count": null,
   "metadata": {},
   "outputs": [],
   "source": [
    "bow_occurrences_matrix_test_pol = sparse.csr_matrix(bow_occurences_array_test_pol)\n",
    "bow_occurrences_matrix_test_pol.shape"
   ]
  },
  {
   "cell_type": "code",
   "execution_count": null,
   "metadata": {},
   "outputs": [],
   "source": [
    "bow_pol_array_train_opt = sparse.hstack([bow_pol_array_train, bow_occurrences_matrix_train_pol])\n",
    "bow_pol_array_train_opt.shape"
   ]
  },
  {
   "cell_type": "code",
   "execution_count": null,
   "metadata": {},
   "outputs": [],
   "source": [
    "bow_pol_array_test_opt = sparse.hstack([bow_pol_array_test, bow_occurrences_matrix_test_pol])\n",
    "bow_pol_array_test_opt.shape"
   ]
  },
  {
   "cell_type": "markdown",
   "metadata": {},
   "source": [
    "#### Test model efficiency again using pattern matching"
   ]
  },
  {
   "cell_type": "code",
   "execution_count": null,
   "metadata": {},
   "outputs": [],
   "source": [
    "RF_classifier.fit(bow_pol_array_train_opt, res_pol_train[\"Polarity\"])\n",
    "rf_pred = RF_classifier.predict(bow_pol_array_test_opt)\n",
    "\n",
    "print(classification_report(y_res_pol_test, rf_pred))\n",
    "print(confusion_matrix(y_res_pol_test, rf_pred))"
   ]
  },
  {
   "cell_type": "code",
   "execution_count": null,
   "metadata": {},
   "outputs": [],
   "source": [
    "SVM_classifier.fit(bow_pol_array_train_opt, res_pol_train[\"Polarity\"])\n",
    "svm_pred = SVM_classifier.predict(bow_pol_array_test_opt)\n",
    "\n",
    "print(classification_report(y_res_pol_test, svm_pred))\n",
    "print(confusion_matrix(y_res_pol_test, svm_pred))"
   ]
  }
 ],
 "metadata": {
  "interpreter": {
   "hash": "1e4d29a3b69ac56eca58f5d61a6b46285dbd379c871590cc08b260a097abd0ce"
  },
  "kernelspec": {
   "display_name": "Python 3.9.4 64-bit ('venv': venv)",
   "name": "python3"
  },
  "language_info": {
   "codemirror_mode": {
    "name": "ipython",
    "version": 3
   },
   "file_extension": ".py",
   "mimetype": "text/x-python",
   "name": "python",
   "nbconvert_exporter": "python",
   "pygments_lexer": "ipython3",
   "version": "3.9.4"
  },
  "orig_nbformat": 4
 },
 "nbformat": 4,
 "nbformat_minor": 2
}
