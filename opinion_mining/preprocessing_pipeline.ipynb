{
 "cells": [
  {
   "cell_type": "code",
   "execution_count": 1,
   "metadata": {},
   "outputs": [],
   "source": [
    "import pandas as pd\n",
    "import numpy as np\n",
    "import re\n",
    "import ast\n",
    "import json\n",
    "\n",
    "from nltk import pos_tag\n",
    "from nltk.tokenize import word_tokenize\n",
    "from nltk.stem import WordNetLemmatizer\n",
    "\n",
    "from scipy import sparse\n",
    "\n",
    "from utils.utils import isSubArray\n",
    "from utils.phrase_breaker import phrase_breaker"
   ]
  },
  {
   "cell_type": "markdown",
   "metadata": {},
   "source": [
    "### Loading Data"
   ]
  },
  {
   "cell_type": "code",
   "execution_count": 11,
   "metadata": {},
   "outputs": [],
   "source": [
    "with open('data/HotelOpinionsJSON-FirstSet.jsonc', 'r') as f:\n",
    "  json_data = json.load(f)"
   ]
  },
  {
   "cell_type": "code",
   "execution_count": 13,
   "metadata": {},
   "outputs": [
    {
     "name": "stderr",
     "output_type": "stream",
     "text": [
      "C:\\Users\\Ricardo\\AppData\\Local\\Temp\\ipykernel_16560\\326578764.py:4: FutureWarning: The frame.append method is deprecated and will be removed from pandas in a future version. Use pandas.concat instead.\n",
      "  data = data.append(review, ignore_index=True)\n",
      "C:\\Users\\Ricardo\\AppData\\Local\\Temp\\ipykernel_16560\\326578764.py:4: FutureWarning: The frame.append method is deprecated and will be removed from pandas in a future version. Use pandas.concat instead.\n",
      "  data = data.append(review, ignore_index=True)\n",
      "C:\\Users\\Ricardo\\AppData\\Local\\Temp\\ipykernel_16560\\326578764.py:4: FutureWarning: The frame.append method is deprecated and will be removed from pandas in a future version. Use pandas.concat instead.\n",
      "  data = data.append(review, ignore_index=True)\n",
      "C:\\Users\\Ricardo\\AppData\\Local\\Temp\\ipykernel_16560\\326578764.py:4: FutureWarning: The frame.append method is deprecated and will be removed from pandas in a future version. Use pandas.concat instead.\n",
      "  data = data.append(review, ignore_index=True)\n",
      "C:\\Users\\Ricardo\\AppData\\Local\\Temp\\ipykernel_16560\\326578764.py:4: FutureWarning: The frame.append method is deprecated and will be removed from pandas in a future version. Use pandas.concat instead.\n",
      "  data = data.append(review, ignore_index=True)\n",
      "C:\\Users\\Ricardo\\AppData\\Local\\Temp\\ipykernel_16560\\326578764.py:4: FutureWarning: The frame.append method is deprecated and will be removed from pandas in a future version. Use pandas.concat instead.\n",
      "  data = data.append(review, ignore_index=True)\n"
     ]
    },
    {
     "data": {
      "text/html": [
       "<div>\n",
       "<style scoped>\n",
       "    .dataframe tbody tr th:only-of-type {\n",
       "        vertical-align: middle;\n",
       "    }\n",
       "\n",
       "    .dataframe tbody tr th {\n",
       "        vertical-align: top;\n",
       "    }\n",
       "\n",
       "    .dataframe thead th {\n",
       "        text-align: right;\n",
       "    }\n",
       "</style>\n",
       "<table border=\"1\" class=\"dataframe\">\n",
       "  <thead>\n",
       "    <tr style=\"text-align: right;\">\n",
       "      <th></th>\n",
       "      <th>Id</th>\n",
       "      <th>Opinion</th>\n",
       "      <th>Rate</th>\n",
       "      <th>Elements</th>\n",
       "    </tr>\n",
       "  </thead>\n",
       "  <tbody>\n",
       "    <tr>\n",
       "      <th>0</th>\n",
       "      <td>0000</td>\n",
       "      <td>Great hotel, beautiful rooms and excellent ser...</td>\n",
       "      <td>5</td>\n",
       "      <td>[{'Element': 'room', 'Occurrence': '2'}, {'Ele...</td>\n",
       "    </tr>\n",
       "    <tr>\n",
       "      <th>1</th>\n",
       "      <td>0000</td>\n",
       "      <td>Lovely hotel in an excellent location. Rooms a...</td>\n",
       "      <td>5</td>\n",
       "      <td>[{'Element': 'location', 'Occurrence': '2'}, {...</td>\n",
       "    </tr>\n",
       "    <tr>\n",
       "      <th>2</th>\n",
       "      <td>0000</td>\n",
       "      <td>In chronological order; arrived at the hotel (...</td>\n",
       "      <td>1</td>\n",
       "      <td>[{'Element': 'parking', 'Occurrence': '2'}, {'...</td>\n",
       "    </tr>\n",
       "    <tr>\n",
       "      <th>3</th>\n",
       "      <td>0000</td>\n",
       "      <td>The hotel is located in Braga Street, excellen...</td>\n",
       "      <td>4</td>\n",
       "      <td>[{'Element': 'location', 'Occurrence': '2'}, {...</td>\n",
       "    </tr>\n",
       "    <tr>\n",
       "      <th>4</th>\n",
       "      <td>0000</td>\n",
       "      <td>Pros: - Strategically placed in the middle of...</td>\n",
       "      <td>3</td>\n",
       "      <td>[{'Element': 'location', 'Occurrence': '1'}, {...</td>\n",
       "    </tr>\n",
       "  </tbody>\n",
       "</table>\n",
       "</div>"
      ],
      "text/plain": [
       "     Id                                            Opinion Rate  \\\n",
       "0  0000  Great hotel, beautiful rooms and excellent ser...    5   \n",
       "1  0000  Lovely hotel in an excellent location. Rooms a...    5   \n",
       "2  0000  In chronological order; arrived at the hotel (...    1   \n",
       "3  0000  The hotel is located in Braga Street, excellen...    4   \n",
       "4  0000   Pros: - Strategically placed in the middle of...    3   \n",
       "\n",
       "                                            Elements  \n",
       "0  [{'Element': 'room', 'Occurrence': '2'}, {'Ele...  \n",
       "1  [{'Element': 'location', 'Occurrence': '2'}, {...  \n",
       "2  [{'Element': 'parking', 'Occurrence': '2'}, {'...  \n",
       "3  [{'Element': 'location', 'Occurrence': '2'}, {...  \n",
       "4  [{'Element': 'location', 'Occurrence': '1'}, {...  "
      ]
     },
     "execution_count": 13,
     "metadata": {},
     "output_type": "execute_result"
    }
   ],
   "source": [
    "data = pd.DataFrame()\n",
    "\n",
    "for review in json_data[\"Reviews\"]:\n",
    "    data = data.append(review, ignore_index=True)"
   ]
  },
  {
   "cell_type": "markdown",
   "metadata": {},
   "source": [
    "### Text Cleaning"
   ]
  },
  {
   "cell_type": "code",
   "execution_count": null,
   "metadata": {},
   "outputs": [],
   "source": [
    "# Applying phrase breaker to reviews\n",
    "data[\"Opinion\"] = data[\"Opinion\"].apply(phrase_breaker)"
   ]
  },
  {
   "cell_type": "code",
   "execution_count": null,
   "metadata": {},
   "outputs": [],
   "source": [
    "data[\"Opinion\"] = data[\"Opinion\"].str.replace(r'[^\\w\\s]', '')"
   ]
  },
  {
   "cell_type": "code",
   "execution_count": null,
   "metadata": {},
   "outputs": [],
   "source": [
    "data[\"Opinion\"] = data[\"Opinion\"].apply(word_tokenize)"
   ]
  },
  {
   "cell_type": "code",
   "execution_count": null,
   "metadata": {},
   "outputs": [],
   "source": [
    "def lower_casing(words):\n",
    "    lower_case_words = []\n",
    "    for word in words:\n",
    "        lower_case_words.append(word.lower())\n",
    "    return lower_case_words\n",
    "\n",
    "data[\"Opinion\"] = data[\"Opinion\"].apply(lower_casing)"
   ]
  },
  {
   "cell_type": "code",
   "execution_count": null,
   "metadata": {},
   "outputs": [],
   "source": [
    "pos_tagged_vocab = data[\"Opinion\"].apply(pos_tag)"
   ]
  },
  {
   "cell_type": "code",
   "execution_count": null,
   "metadata": {},
   "outputs": [],
   "source": [
    "reviews_tags = []\n",
    "\n",
    "for items in data[\"Opinion\"]:\n",
    "    review_tags = []\n",
    "    for item in items:\n",
    "        review_tags.append(item[1])\n",
    "    reviews_tags.append(review_tags)\n",
    "\n",
    "data[\"POS Tags\"] = review_tags"
   ]
  },
  {
   "cell_type": "code",
   "execution_count": null,
   "metadata": {},
   "outputs": [],
   "source": [
    "def select_categories(pos_tagged_words):\n",
    "    pos_tags_filter = [\"JJ\", \"JJR\", \"JJS\", \"NN\", \"NNS\", \"RB\", \"RBR\", \"RBS\", \"VB\", \"VBD\", \"VBG\", \"VBN\", \"VBP\", \"VBZ\"]\n",
    "    selected_words = []\n",
    "    for word, pos_tag in pos_tagged_words:\n",
    "        if pos_tag in pos_tags_filter:\n",
    "            selected_words.append(word)\n",
    "    return selected_words\n",
    "\n",
    "data[\"Processed Opinion\"] = pos_tagged_vocab.apply(select_categories)"
   ]
  },
  {
   "cell_type": "code",
   "execution_count": null,
   "metadata": {},
   "outputs": [],
   "source": [
    "# Lemmatization\n",
    "wordnet_lemmatizer = WordNetLemmatizer()\n",
    "\n",
    "def lemmatization(sentence):\n",
    "    lemmatized_sentence = []\n",
    "\n",
    "    for word in sentence:\n",
    "        lemmatized_sentence.append(wordnet_lemmatizer.lemmatize(word, pos=\"v\"))\n",
    "    \n",
    "    return lemmatized_sentence\n",
    "\n",
    "data[\"Processed Opinion\"] = data[\"Processed Opinion\"].apply(lemmatization)"
   ]
  },
  {
   "cell_type": "code",
   "execution_count": null,
   "metadata": {},
   "outputs": [],
   "source": [
    "data[\"Processed Opinion\"] = data[\"Processed Opinion\"].apply(lambda x: re.sub(r\"\\b[a-zA-Z]\\b\", \"\", x))"
   ]
  },
  {
   "cell_type": "markdown",
   "metadata": {},
   "source": [
    "### BOW Vector creation"
   ]
  },
  {
   "cell_type": "code",
   "execution_count": null,
   "metadata": {},
   "outputs": [],
   "source": [
    "bow_stars_array = vectorizer.transform(data[\"Processed Opinion\"].values.astype('U'))"
   ]
  },
  {
   "cell_type": "markdown",
   "metadata": {},
   "source": [
    "### Pattern Matching"
   ]
  },
  {
   "cell_type": "code",
   "execution_count": null,
   "metadata": {},
   "outputs": [],
   "source": [
    "star_patterns = pd.read_csv(\"data/star_patterns.csv\", names=[\"One Star\", \"Two Star\", \"Three Star\", \"Four Star\", \"Five Star\"])"
   ]
  },
  {
   "cell_type": "code",
   "execution_count": null,
   "metadata": {},
   "outputs": [],
   "source": [
    "star_patterns[\"One Star\"] = star_patterns[\"One Star\"].apply(ast.literal_eval)\n",
    "star_patterns[\"Two Star\"] = star_patterns[\"Two Star\"].apply(ast.literal_eval)\n",
    "star_patterns[\"Three Star\"] = star_patterns[\"Three Star\"].apply(ast.literal_eval)\n",
    "star_patterns[\"Four Star\"] = star_patterns[\"Four Star\"].apply(ast.literal_eval)\n",
    "star_patterns[\"Five Star\"] = star_patterns[\"Five Star\"].apply(ast.literal_eval)"
   ]
  },
  {
   "cell_type": "code",
   "execution_count": null,
   "metadata": {},
   "outputs": [],
   "source": [
    "bow_occurences_array = np.zeros((data[\"POS Tags\"].shape[0], 5))"
   ]
  },
  {
   "cell_type": "code",
   "execution_count": null,
   "metadata": {},
   "outputs": [],
   "source": [
    "def check_occurrences_stars(data, star_grams, col_index, stars, occ_array):\n",
    "    count = 0\n",
    "    for index, row in data.iterrows():\n",
    "        if row[\"Rate\"] == stars:\n",
    "            for n_gram in star_grams:\n",
    "                if isSubArray(row[\"POS Tags\"], n_gram, len(row[\"POS Tags\"]), len(n_gram)):\n",
    "                    occ_array[count, col_index] = 1\n",
    "        count += 1\n",
    "\n",
    "check_occurrences_stars(data[\"POS Tags\"], star_patterns[\"One Star\"], 0, 1, bow_occurences_array)\n",
    "check_occurrences_stars(data[\"POS Tags\"], star_patterns[\"Two Star\"], 1, 2, bow_occurences_array)\n",
    "check_occurrences_stars(data[\"POS Tags\"], star_patterns[\"Three Star\"], 2, 3, bow_occurences_array)\n",
    "check_occurrences_stars(data[\"POS Tags\"], star_patterns[\"Four Star\"], 3, 4, bow_occurences_array)\n",
    "check_occurrences_stars(data[\"POS Tags\"], star_patterns[\"Five Star\"], 4, 5, bow_occurences_array)"
   ]
  },
  {
   "cell_type": "code",
   "execution_count": null,
   "metadata": {},
   "outputs": [],
   "source": [
    "bow_occurrences_matrix = sparse.csr_matrix(bow_occurences_array)"
   ]
  },
  {
   "cell_type": "code",
   "execution_count": null,
   "metadata": {},
   "outputs": [],
   "source": [
    "bow_stars_array_opt = sparse.hstack([bow_stars_array, bow_occurrences_matrix])"
   ]
  }
 ],
 "metadata": {
  "kernelspec": {
   "display_name": "Python 3.10.6 ('venv': venv)",
   "language": "python",
   "name": "python3"
  },
  "language_info": {
   "name": "python",
   "version": "3.10.6"
  },
  "orig_nbformat": 4,
  "vscode": {
   "interpreter": {
    "hash": "8ed1158ee43c8f2ae51b5e4549ecc5451cda8a40f373246dbaec416cc948aa14"
   }
  }
 },
 "nbformat": 4,
 "nbformat_minor": 2
}
